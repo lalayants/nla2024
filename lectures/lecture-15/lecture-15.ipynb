{
 "cells": [
  {
   "cell_type": "markdown",
   "metadata": {
    "slideshow": {
     "slide_type": "slide"
    }
   },
   "source": [
    "# Lecture 15. Structured matrices, FFT, convolutions, Toeplitz matrices"
   ]
  },
  {
   "cell_type": "markdown",
   "metadata": {
    "slideshow": {
     "slide_type": "slide"
    }
   },
   "source": [
    "## Previous lecture\n",
    "\n",
    "- Krylov methods: Arnoldi relation, CG, GMRES\n",
    "- Preconditioners \n",
    "    - Jacobi\n",
    "    - Gauss-Seidel\n",
    "    - SSOR\n",
    "    - ILU and its modifications"
   ]
  },
  {
   "cell_type": "markdown",
   "metadata": {
    "slideshow": {
     "slide_type": "slide"
    }
   },
   "source": [
    "## Other structured matrices\n",
    "\n",
    "- Up to now, we discussed preconditioning only for **sparse matrices**\n",
    "- But iterative methods work well for any matrices that have fast black-box matrix-by-vector product\n",
    "- Important class of such matrices are **Toeplitz matrices** (and **Hankel matrices**) and their **multilevel** variants\n",
    "\n",
    "They are directly connected to the **convolution** operation and **Fast Fourier Transform**."
   ]
  },
  {
   "cell_type": "markdown",
   "metadata": {
    "slideshow": {
     "slide_type": "slide"
    }
   },
   "source": [
    "## Convolution \n",
    "\n",
    "- One of the key operation in signal processing/machine learning is the **convolution of two functions**.\n",
    "\n",
    "- Let $x(t)$ and $y(t)$ be two given functions. Their convolution is defined as\n",
    "\n",
    "$$(x * y)(t) = \\int_{-\\infty}^{\\infty} x(\\tau) y(t -  \\tau) d \\tau.$$"
   ]
  },
  {
   "cell_type": "markdown",
   "metadata": {
    "slideshow": {
     "slide_type": "slide"
    }
   },
   "source": [
    "## Convolution theorem and Fourier transform\n",
    "\n",
    "A well-known fact: a *convolution* in the **time domain** is a *product* in the **frequency domain**. \n",
    "\n",
    "- Time-frequency transformation is given by the **Fourier transform**:\n",
    "\n",
    "$$\\widehat{x}(w) = (\\mathcal{F}(x))(w) = \\int_{-\\infty}^{\\infty} e^{i w t} x(t) dt.$$\n",
    "\n",
    "- Then, \n",
    "\n",
    "$$\\mathcal{F}(x * y) = \\mathcal{F}(x) \\mathcal{F}(y).$$\n",
    "\n",
    "- Thus, the \"algorithm\" for the computation of the convolution can be:\n",
    "\n",
    "\n",
    "1. Compute Fourier transform of $x(t)$ and $y(t)$. \n",
    "2. Compute their product\n",
    "3. Compute inverse Fourier transform"
   ]
  },
  {
   "cell_type": "markdown",
   "metadata": {
    "slideshow": {
     "slide_type": "slide"
    }
   },
   "source": [
    "## Discrete convolution operation\n",
    "\n",
    "$$(x * y)(t) = \\int_{-\\infty}^{\\infty} x(\\tau) y(t -  \\tau) d \\tau.$$\n",
    "\n",
    "Let us approximate the integral by a quadrature sum on a uniform grid, and store the signal at equidistant points.\n",
    "\n",
    "Then we are left with the summation\n",
    "\n",
    "$$z_i = \\sum_{j=0}^{n-1} x_j y_{i - j},$$\n",
    "\n",
    "which is called **discrete convolution**. This can be thought as an application of a filter with coefficients $x$ to a signal $y$. \n",
    "\n",
    "There are different possible filters for different purposes, but they all utilize the **shift-invariant structure**."
   ]
  },
  {
   "cell_type": "markdown",
   "metadata": {
    "slideshow": {
     "slide_type": "slide"
    }
   },
   "source": [
    "## Discrete convolution and Toeplitz matrices\n",
    "\n",
    "A discrete convolution can be thought as a matrix-by-vector product:\n",
    "\n",
    "$$z_i = \\sum_{j=0}^{n-1} x_j y_{i - j}, \\Leftrightarrow z = Ax$$\n",
    "\n",
    "where the matrix $A$ elements are given as $a_{ij} = y_{i-j}$, i.e., they depend only on the difference between the row index and the column index.\n"
   ]
  },
  {
   "cell_type": "markdown",
   "metadata": {
    "slideshow": {
     "slide_type": "slide"
    }
   },
   "source": [
    "## Toeplitz matrices: definition\n",
    "\n",
    "A matrix is called **Toeplitz** if its elements are defined as\n",
    "\n",
    "$$a_{ij} = t_{i - j}.$$\n",
    "\n",
    "- A Toeplitz matrix is completely defined by its first column and first row (i.e., $2n-1$ parameters).\n",
    "\n",
    "- It is a **dense matrix**, however it is a **structured matrix** (i.e., defined by $\\mathcal{O}(n)$ parameters).\n",
    "\n",
    "- And the main operation in the discrete convolution is the product of Toeplitz matrix by vector.\n",
    "\n",
    "- Can we compute it faster than $\\mathcal{O}(n^2)$?"
   ]
  },
  {
   "cell_type": "markdown",
   "metadata": {
    "slideshow": {
     "slide_type": "slide"
    }
   },
   "source": [
    "## Toeplitz and circulant matrix\n",
    "\n",
    "- For a special class of Toeplitz matrices, named **circulant matrices** the fast matrix-by-vector product can be done.\n",
    "\n",
    "- A matrix $C$ is called **circulant**, if \n",
    "\n",
    "$$C_{ij} = c_{i - j \\mod n},$$\n",
    "\n",
    "i.e. it periodicaly wraps\n",
    "\n",
    "$$C = \\begin{bmatrix} \n",
    " c_0 & c_3 & c_2 & c_1 \\\\\n",
    " c_1 & c_0 & c_3 & c_2 \\\\\n",
    " c_2 & c_1 & c_0 & c_3 \\\\\n",
    " c_3 & c_2 & c_1 & c_0 \\\\\n",
    " \\end{bmatrix}.\n",
    "$$\n",
    " \n",
    "- These matrices have the same **eigenvectors**, given by the Discrete Fourier Transform (DFT)."
   ]
  },
  {
   "cell_type": "markdown",
   "metadata": {
    "slideshow": {
     "slide_type": "slide"
    }
   },
   "source": [
    "## Spectral theorem for circulant matrices\n",
    "\n",
    "**Theorem:**\n",
    "\n",
    "Any circulant matrix can be represented in the form\n",
    "\n",
    "$$C = \\frac{1}{n} F^* \\Lambda F,$$\n",
    "\n",
    "where $F$ is the **Fourier matrix** with the elements\n",
    "\n",
    "$$F_{kl} = w_n^{kl}, \\quad k, l = 0, \\ldots, n-1, \\quad w_n = e^{-\\frac{2 \\pi i}{n}},$$\n",
    "\n",
    "and matrix $\\Lambda = \\text{diag}(\\lambda)$ is the diagonal matrix and\n",
    "\n",
    "$$\\lambda = F c, $$\n",
    "\n",
    "where $c$ is the first column of the circulant matrix $C$.\n",
    "\n",
    "The proof will be later: now we need to study the FFT matrix."
   ]
  },
  {
   "cell_type": "markdown",
   "metadata": {
    "slideshow": {
     "slide_type": "slide"
    }
   },
   "source": [
    "## Fourier matrix\n",
    "\n",
    "The Fourier matrix is defined as:\n",
    "\n",
    "$$\n",
    "F_n =\n",
    "\\begin{pmatrix}\n",
    "1 & 1 & 1 & \\dots & 1 \\\\\n",
    "1 & w^{1\\cdot 1}_n & w^{1\\cdot 2}_n & \\dots & w^{1\\cdot (n-1)}_n\\\\\n",
    "1 & w^{2\\cdot 1}_n & w^{2\\cdot 2}_n & \\dots & w^{2\\cdot (n-1)}_n\\\\\n",
    "\\dots & \\dots & \\dots &\\dots &\\dots \\\\\n",
    "1 & w^{(n-1)\\cdot 1}_n & w^{(n-1)\\cdot 2}_n & \\dots & w^{(n-1)\\cdot (n-1)}_n\\\\\n",
    "\\end{pmatrix},\n",
    "$$\n",
    "\n",
    "or equivalently\n",
    "\n",
    "$$ F_n = \\{ w_n^{kl} \\}_{k,l=0}^{n-1}, $$\n",
    "\n",
    "where \n",
    "\n",
    "$$w_n = e^{-\\frac{2\\pi i}{n}}.$$"
   ]
  },
  {
   "cell_type": "markdown",
   "metadata": {
    "slideshow": {
     "slide_type": "slide"
    }
   },
   "source": [
    "**Properties:**\n",
    "* Symmetric (not Hermitian!)\n",
    "* Unitary up to a scaling factor: $F_n^* F_n = F_n F_n^* = nI$ (check this fact). Therefore $F_n^{-1} = \\frac{1}{n}F^*_n$\n",
    "* Can be multiplied by a vector (called discrete Fourier transform or DFT) with <font color='red'>$\\mathcal{O}(n \\log n)$</font> complexity (called fast Fourier transform or <font color='red'>FFT</font>)! FFT helps to analyze spectrum of a signal and, as we will see later, helps to do fast mutiplications with certain types of matrices."
   ]
  },
  {
   "cell_type": "code",
   "execution_count": 2,
   "metadata": {
    "slideshow": {
     "slide_type": "slide"
    }
   },
   "outputs": [
    {
     "data": {
      "text/plain": [
       "Text(0.5, 1.0, 'Initial signal')"
      ]
     },
     "execution_count": 2,
     "metadata": {},
     "output_type": "execute_result"
    },
    {
     "data": {
      "image/png": "[encoded data removed]",
      "text/plain": [
       "<Figure size 640x480 with 1 Axes>"
      ]
     },
     "metadata": {},
     "output_type": "display_data"
    }
   ],
   "source": [
    "%matplotlib inline\n",
    "import matplotlib.pyplot as plt\n",
    "import numpy as np\n",
    "\n",
    "\n",
    "N = 1000\n",
    "dt = 1.0 / 800.0\n",
    "x = np.linspace(0.0, N*dt, N)\n",
    "y = np.sin(50.0 * 2.0*np.pi*x) + 0.5*np.sin(80.0 * 2.0*np.pi*x) + 0.2*np.sin(300.0 * 2.0*np.pi*x)\n",
    "plt.plot(x, y)\n",
    "plt.xlabel('Time')\n",
    "plt.ylabel('Signal')\n",
    "plt.title('Initial signal')"
   ]
  },
  {
   "cell_type": "code",
   "execution_count": 3,
   "metadata": {
    "slideshow": {
     "slide_type": "slide"
    }
   },
   "outputs": [
    {
     "data": {
      "text/plain": [
       "Text(0.5, 1.0, 'Discrete Fourier transform')"
      ]
     },
     "execution_count": 3,
     "metadata": {},
     "output_type": "execute_result"
    },
    {
     "data": {
      "image/png": "[encoded data removed]",
      "text/plain": [
       "<Figure size 640x480 with 1 Axes>"
      ]
     },
     "metadata": {},
     "output_type": "display_data"
    }
   ],
   "source": [
    "yf = np.fft.fft(y)\n",
    "xf = np.linspace(0.0, 1.0/(2.0*dt), N//2)\n",
    "plt.plot(xf, 2.0/N * np.abs(yf[0:N//2])) #Note: N/2 to N will give negative frequencies\n",
    "plt.xlabel('Frequency')\n",
    "plt.ylabel('Amplitude')\n",
    "plt.title('Discrete Fourier transform')"
   ]
  },
  {
   "cell_type": "markdown",
   "metadata": {
    "slideshow": {
     "slide_type": "slide"
    }
   },
   "source": [
    "## Fast Fourier transform (FFT)\n",
    "Here we consider a matrix interpretation of the standard [Cooley-Tukey algorithm (1965)](https://www.ams.org/journals/mcom/1965-19-090/S0025-5718-1965-0178586-1/S0025-5718-1965-0178586-1.pdf), which has underlying **divide and conquer** idea. Note that in packages more advanced versions are used.\n",
    "\n",
    "- Let $n$ be a power of 2. \n",
    "- First of all we <font color='red'> permute the rows </font> of the Fourier matrix such that the first $n/2$ rows of the new matrix had row numbers <font color='red'>$1,3,5,\\dots,n-1$</font> and the last $n/2$ rows had row numbers <font color='red'>$2,4,6\\dots,n$</font>. \n",
    "\n",
    "- This permutation can be expressed in terms of multiplication by permutation matrix $P_n$:\n",
    "\n",
    "$$\n",
    "P_n =\n",
    "\\begin{pmatrix}\n",
    "1 & 0 & 0 & 0 & \\dots & 0 & 0 \\\\\n",
    "0 & 0 & 1 & 0 &\\dots & 0 & 0 \\\\\n",
    "\\vdots & & & & & & \\vdots \\\\\n",
    "0 & 0 & 0 & 0 &\\dots & 1 & 0 \\\\\n",
    "\\hline\n",
    "0 & 1 & 0 & 0 & \\dots & 0 & 0 \\\\\n",
    "0 & 0 & 0 & 1 &\\dots & 0 & 0 \\\\\n",
    "\\vdots & & & & & & \\vdots \\\\\n",
    "0 & 0 & 0 & 0 &\\dots & 0 & 1 \n",
    "\\end{pmatrix},\n",
    "$$"
   ]
  },
  {
   "cell_type": "markdown",
   "metadata": {
    "slideshow": {
     "slide_type": "slide"
    }
   },
   "source": [
    "Hence,\n",
    "\n",
    "$$\n",
    "P_n F_n =\n",
    "\\begin{pmatrix}\n",
    "1 & 1 & 1 & \\dots & 1 \\\\\n",
    "1 & w^{2\\cdot 1}_n & w^{2\\cdot 2}_n & \\dots & w^{2\\cdot (n-1)}_n\\\\\n",
    "1 & w^{4\\cdot 1}_n & w^{4\\cdot 2}_n & \\dots & w^{4\\cdot (n-1)}_n\\\\\n",
    "\\vdots & & & & \\vdots\\\\\n",
    "1 & w^{(n-2)\\cdot 1}_n & w^{(n-2)\\cdot 2}_n & \\dots & w^{(n-2)\\cdot (n-1)}_n\\\\\n",
    "\\hline\n",
    "1 & w^{1\\cdot 1}_n & w^{1\\cdot 2}_n & \\dots & w^{1\\cdot (n-1)}_n\\\\\n",
    "1 & w^{3\\cdot 1}_n & w^{3\\cdot 2}_n & \\dots & w^{3\\cdot (n-1)}_n\\\\           \n",
    "\\vdots & & & & \\vdots\\\\\n",
    "1 & w^{(n-1)\\cdot 1}_n & w^{(n-1)\\cdot 2}_n & \\dots & w^{(n-1)\\cdot (n-1)}_n\\\\\n",
    "\\end{pmatrix},\n",
    "$$\n",
    "\n",
    "Now let us imagine that we separated its columns and rows by two parts each of size $n/2$."
   ]
  },
  {
   "cell_type": "markdown",
   "metadata": {
    "slideshow": {
     "slide_type": "slide"
    }
   },
   "source": [
    "As a result we get <font color='red'>$2\\times 2$ block matrix</font> that has the following form\n",
    "\n",
    "$$\n",
    "P_n F_n =\n",
    "\\begin{pmatrix}\n",
    "\\left\\{w^{2kl}_n\\right\\} & \\left\\{w_n^{2k\\left(\\frac{n}{2} + l\\right)}\\right\\} \\\\\n",
    "\\left\\{w_n^{(2k+1)l}\\right\\} & \\left\\{w_n^{(2k+1)\\left(\\frac{n}{2} + l\\right)}\\right\\}\n",
    "\\end{pmatrix},\n",
    "\\quad k,l = 0,\\dots, \\frac{n}{2}-1.\n",
    "$$\n",
    "\n",
    "So far it does not look like something that works faster :) But we will see that in a minute.\n",
    "Lets have a more precise look at the first block $\\left\\{w^{2kl}_n\\right\\}$:\n",
    "\n",
    "$$\n",
    "w^{2kl}_n = e^{-2kl\\frac{2\\pi i}{n}} = e^{-kl\\frac{2\\pi i}{n/2}} = w^{kl}_{n/2}.\n",
    "$$\n",
    "\n",
    "So this block is exactly twice smaller Fourier matrix $F_{n/2}$!\n",
    "\n",
    "<!---\n",
    "Now we can write\n",
    "\n",
    "$$\n",
    "\\begin{pmatrix}\n",
    "F_{n/2} & \\left\\{w_n^{2k\\left(\\frac{n}{2} + l\\right)}\\right\\} \\\\\n",
    "\\left\\{w_n^{(2k+1)l}\\right\\} & \\left\\{w_n^{(2k+1)\\left(\\frac{n}{2} + l\\right)}\\right\\}\n",
    "\\end{pmatrix}\n",
    "$$\n",
    "\n",
    "-->\n",
    "The block $\\left\\{w_n^{(2k+1)l}\\right\\}$ can be written as\n",
    "\n",
    "$$\n",
    "w_n^{(2k+1)l} = w_n^{2kl + l} = w_n^{l} w_n^{2kl} = w_n^{l} w_{n/2}^{kl},\n",
    "$$\n",
    "\n",
    "which can be written as $W_{n/2}F_{n/2}$, where \n",
    "\n",
    "$$W_{n/2} = \\text{diag}(1,w_n,w_n^2,\\dots,w_n^{n/2-1}).$$"
   ]
  },
  {
   "cell_type": "markdown",
   "metadata": {
    "slideshow": {
     "slide_type": "slide"
    }
   },
   "source": [
    "Doing the same tricks for the other blocks we will finally get\n",
    "\n",
    "$$\n",
    "P_n F_n =\n",
    "\\begin{pmatrix}\n",
    "F_{n/2} & F_{n/2} \\\\\n",
    "F_{n/2}W_{n/2} & -F_{n/2}W_{n/2}\n",
    "\\end{pmatrix} =\n",
    "\\begin{pmatrix}\n",
    "F_{n/2} & 0 \\\\\n",
    "0 & F_{n/2}\n",
    "\\end{pmatrix}\n",
    "\\begin{pmatrix}\n",
    "I_{n/2} & I_{n/2} \\\\\n",
    "W_{n/2} & -W_{n/2}\n",
    "\\end{pmatrix}.\n",
    "$$\n",
    "\n",
    "- Thus, we <font color='red'>reduced multiplication by $F_n$ to 2 multiplications by $F_{n/2}$</font> and cheap multiplications by diagonal matrices. \n",
    "- If we apply the obtained expressions recursively to $F_{n/2}$, we will get <font color='red'>$\\mathcal{O}(n\\log n)$ </font> complexity."
   ]
  },
  {
   "cell_type": "code",
   "execution_count": 4,
   "metadata": {
    "slideshow": {
     "slide_type": "slide"
    }
   },
   "outputs": [
    {
     "name": "stdout",
     "output_type": "stream",
     "text": [
      "Full matvec time = 0.016554963692857142\n",
      "FFT time = 6.18095107428571e-05\n",
      "Relative error = 1.5329028805883414e-12\n"
     ]
    }
   ],
   "source": [
    "#FFT vs full matvec\n",
    "import time\n",
    "import numpy as np\n",
    "import scipy as sp\n",
    "import scipy.linalg\n",
    "\n",
    "n = 10000\n",
    "F = sp.linalg.dft(n)\n",
    "x = np.random.randn(n)\n",
    "\n",
    "y_full = F.dot(x)\n",
    "\n",
    "full_mv_time = %timeit -q -o F.dot(x)\n",
    "print('Full matvec time =', full_mv_time.average)\n",
    "\n",
    "y_fft = np.fft.fft(x)\n",
    "fft_mv_time = %timeit -q -o np.fft.fft(x)\n",
    "print('FFT time =', fft_mv_time.average)\n",
    "\n",
    "print('Relative error =', (np.linalg.norm(y_full - y_fft)) / np.linalg.norm(y_full))"
   ]
  },
  {
   "cell_type": "markdown",
   "metadata": {
    "slideshow": {
     "slide_type": "slide"
    }
   },
   "source": [
    "## Circulant matrices\n",
    "\n",
    "FFT helps to multiply fast by certain types of matrices. We start from a circulant matrix:\n",
    "\n",
    "$$\n",
    "C =\n",
    "\\begin{pmatrix} \n",
    "c_0 & c_{n-1} & c_{n-2} & \\dots & c_1 \\\\\n",
    "c_{1} & c_{0} & c_{n-1} & \\dots & c_2 \\\\\n",
    "c_{2} & c_{1} & c_0 & \\dots & c_3 \\\\\n",
    "\\dots & \\dots & \\dots & \\dots & \\dots \\\\\n",
    "c_{n-1} & c_{n-2} & c_{n-3} & \\dots & c_0\n",
    "\\end{pmatrix}\n",
    "$$"
   ]
  },
  {
   "cell_type": "markdown",
   "metadata": {
    "slideshow": {
     "slide_type": "slide"
    }
   },
   "source": [
    "**Theorem.** \n",
    "Let $C$ be a circulant matrix of size $n\\times n$ and let $c$ be it's first column , then\n",
    "\n",
    "$$\n",
    "C = \\frac{1}{n} F_n^* \\text{diag}(F_n c) F_n \n",
    "$$"
   ]
  },
  {
   "cell_type": "markdown",
   "metadata": {
    "slideshow": {
     "slide_type": "fragment"
    }
   },
   "source": [
    "*Proof.* \n",
    "- Consider a number \n",
    "\n",
    "$$\\lambda (\\omega) = c_0 + \\omega c_1 + \\dots + \\omega^{n-1} c_{n-1},$$ \n",
    "\n",
    "where $\\omega$ is any number such that $\\omega^n=1$. \n",
    "- Lets multiply $\\lambda$ by $1,\\omega,\\dots, \\omega^{n-1}$:\n",
    "\n",
    "$$\n",
    "\\begin{split}\n",
    "\\lambda & = c_0 &+& \\omega c_1 &+& \\dots &+& \\omega^{n-1} c_{n-1},\\\\\n",
    "\\lambda\\omega & = c_{n-1} &+& \\omega c_0 &+& \\dots &+& \\omega^{n-1} c_{n-2},\\\\\n",
    "\\lambda\\omega^2 & = c_{n-2} &+& \\omega c_{n-1} &+& \\dots &+& \\omega^{n-1} c_{n-3},\\\\\n",
    "&\\dots\\\\\n",
    "\\lambda\\omega^{n-1} & = c_{1} &+& \\omega c_{2} &+& \\dots &+& \\omega^{n-1} c_{0}.\n",
    "\\end{split}\n",
    "$$\n",
    "\n",
    "- Therefore,\n",
    "\n",
    "$$\n",
    "\\lambda(\\omega) \\cdot \\begin{pmatrix} 1&\\omega & \\dots& \\omega^{n-1} \\end{pmatrix} =\n",
    "\\begin{pmatrix} 1&\\omega&\\dots& \\omega^{n-1} \\end{pmatrix} \\cdot C.\n",
    "$$\n",
    "\n",
    "- Writing this for $\\omega = 1,w_n, \\dots, w_n^{n-1}$ we get\n",
    "\n",
    "$$\n",
    "\\Lambda F_n = F_n C\n",
    "$$\n",
    "\n",
    "and finally\n",
    "\n",
    "$$\n",
    "C = \\frac{1}{n} F^*_n \\Lambda F_n, \\quad \\text{where}\\quad \\Lambda = \\text{diag}(F_nc) \\qquad\\blacksquare\n",
    "$$"
   ]
  },
  {
   "cell_type": "markdown",
   "metadata": {
    "slideshow": {
     "slide_type": "slide"
    }
   },
   "source": [
    "## Fast matvec with circulant matrix\n",
    "\n",
    "- Representation $C = \\frac{1}{n} F^* \\text{diag}(F_n c) F_n $ gives us an explicit way to multiply a vector $x$ by $C$ in $\\mathcal{O}(n\\log n)$ operations. \n",
    "- Indeed,\n",
    "\n",
    "$$\n",
    "Cx = \\frac{1}{n} F_n^* \\text{diag}(F_n c) F_n x = \\text{ifft}\\left( \\text{fft}(c) \\circ \\text{fft}(x)\\right)\n",
    "$$\n",
    "\n",
    "where $\\circ$ denotes elementwise product (Hadamard product) of two vectors (since $\\text{diag}(a)b = a\\circ b$) and ```ifft``` denotes inverse Fourier transform $F^{-1}_n$."
   ]
  },
  {
   "cell_type": "code",
   "execution_count": 5,
   "metadata": {
    "slideshow": {
     "slide_type": "slide"
    }
   },
   "outputs": [
    {
     "name": "stdout",
     "output_type": "stream",
     "text": [
      "Full matvec time = 0.003428939464285707\n",
      "FFT time = 0.0001001016214142856\n",
      "Relative error = 1.307050346126901e-15\n"
     ]
    }
   ],
   "source": [
    "import numpy as np\n",
    "import scipy as sp\n",
    "import scipy.linalg\n",
    "\n",
    "def circulant_matvec(c, x):\n",
    "    return np.fft.ifft(np.fft.fft(c) * np.fft.fft(x))\n",
    "\n",
    "n = 5000\n",
    "c = np.random.random(n)\n",
    "C = sp.linalg.circulant(c)\n",
    "x = np.random.randn(n)\n",
    "\n",
    "\n",
    "y_full = C.dot(x)\n",
    "full_mv_time = %timeit -q -o C.dot(x)\n",
    "print('Full matvec time =', full_mv_time.average)\n",
    "\n",
    "\n",
    "y_fft = circulant_matvec(c, x)\n",
    "fft_mv_time = %timeit -q -o circulant_matvec(c, x)\n",
    "print('FFT time =', fft_mv_time.average)\n",
    "\n",
    "print('Relative error =', (np.linalg.norm(y_full - y_fft)) / np.linalg.norm(y_full))"
   ]
  },
  {
   "cell_type": "markdown",
   "metadata": {
    "slideshow": {
     "slide_type": "slide"
    }
   },
   "source": [
    "## Toeplitz matrices"
   ]
  },
  {
   "cell_type": "markdown",
   "metadata": {
    "slideshow": {
     "slide_type": "fragment"
    }
   },
   "source": [
    "Now we get back to Toeplitz matrices!\n",
    "\n",
    "$$\n",
    "T =\n",
    "\\begin{pmatrix} \n",
    "t_0 & t_{-1} & t_{-2} & t_{-3}& \\dots & t_{1-n} \\\\\n",
    "t_{1} & t_{0} & t_{-1} & t_{-2}& \\dots & t_{2-n} \\\\\n",
    "t_{2} & t_{1} & t_0 & t_{-1} &\\dots & t_{3-n} \\\\\n",
    "t_{3} & t_{2} & t_1 & t_0 & \\dots & t_{4-n} \\\\\n",
    "\\dots & \\dots & \\dots & \\dots & \\dots & \\dots\\\\\n",
    "t_{n-1} & t_{n-2} & t_{n-3} & t_{n-4} &\\dots &t_0\n",
    "\\end{pmatrix},\n",
    "$$\n",
    "\n",
    "or equivalently $T_{ij} = t_{i-j}$.\n",
    "\n",
    "Matvec operation can be written as\n",
    "\n",
    "$$\n",
    "y_i = \\sum_{j=1}^n t_{i-j} x_j,\n",
    "$$\n",
    "\n",
    "which can be interpreted as a discrete <font color='red'>convolution</font> of filter $t_i$ and signal $x_i$. \n",
    "For simplicity the size of the filter $t$ is such that the sizes of the input and output signals are the same. Generally, filter size can be arbitrary.\n",
    "\n",
    "Fast convolution computation has a variety of applications, for instance, in signal processing or partial differential and integral equations. For instance, here is the smoothing of a signal:"
   ]
  },
  {
   "cell_type": "code",
   "execution_count": 6,
   "metadata": {
    "slideshow": {
     "slide_type": "slide"
    }
   },
   "outputs": [
    {
     "data": {
      "image/png": "[encoded data removed]",
      "text/plain": [
       "<Figure size 640x480 with 3 Axes>"
      ]
     },
     "metadata": {},
     "output_type": "display_data"
    }
   ],
   "source": [
    "from scipy import signal\n",
    "%matplotlib inline\n",
    "import matplotlib.pyplot as plt\n",
    "\n",
    "alpha = 0.01\n",
    "sig = np.repeat([0., 1., 0.], 100)\n",
    "filt = np.exp(-alpha * (np.arange(100)-50)**2)\n",
    "filtered = signal.convolve(sig, filt, mode='same') / sum(filt)\n",
    "\n",
    "fig, (ax_orig, ax_filt, ax_filtered) = plt.subplots(3, 1, sharex=True)\n",
    "ax_orig.plot(sig)\n",
    "ax_orig.margins(0, 0.1)\n",
    "ax_filt.plot(filt)\n",
    "ax_filt.margins(0, 0.1)\n",
    "ax_filtered.plot(filtered)\n",
    "ax_filtered.margins(0, 0.1)\n",
    "\n",
    "ax_orig.set_title('Original signal')\n",
    "ax_filt.set_title('Filter')\n",
    "ax_filtered.set_title('Convolution')\n",
    "\n",
    "fig.tight_layout()"
   ]
  },
  {
   "cell_type": "markdown",
   "metadata": {
    "slideshow": {
     "slide_type": "slide"
    }
   },
   "source": [
    "## Fast matvec with Toeplitz matrix\n",
    "\n",
    "**Key point**: the multiplication by a Toeplitz matrix can be reduced to the multiplication by a circulant.\n",
    "\n",
    "- Indeed, every Toeplitz matrix of size $n\\times n$ can be embedded into a Circulant matrix $C$ of size $(2n - 1) \\times (2n - 1)$:\n",
    "\n",
    "$$\n",
    "C = \n",
    "\\begin{pmatrix}\n",
    "T & \\dots \\\\\n",
    "\\dots & \\dots\n",
    "\\end{pmatrix}.\n",
    "$$\n",
    "\n",
    "- The $3\\times 3$ matrix $T = \\begin{pmatrix} \n",
    "t_0 & t_{-1} & t_{-2} \\\\\n",
    "t_{1} & t_{0} & t_{-1} \\\\\n",
    "t_{2} & t_{1} & t_0 \\\\\n",
    "\\end{pmatrix}$ \n",
    "can be embedded as follows\n",
    "\n",
    "$$\n",
    "C = \n",
    "\\begin{pmatrix} \n",
    "t_0 & t_{-1} & t_{-2} & t_{2} & t_{1}\\\\\n",
    "t_{1} & t_{0} & t_{-1} & t_{-2} & t_{2} \\\\\n",
    "t_{2} & t_{1} & t_0 & t_{-1} & t_{-2} \\\\\n",
    "t_{-2}& t_{2} & t_{1} & t_0 & t_{-1}  \\\\\n",
    "t_{-1} & t_{-2} & t_{2} & t_{1} & t_0  \n",
    "\\end{pmatrix}.\n",
    "$$\n",
    "\n",
    "- For matvec \n",
    "$ \\begin{pmatrix} y_1 \\\\ y_2 \\\\ y_3 \\end{pmatrix}=\n",
    "\\begin{pmatrix} \n",
    "t_0 & t_{-1} & t_{-2} \\\\\n",
    "t_{1} & t_{0} & t_{-1} \\\\\n",
    "t_{2} & t_{1} & t_0 \\\\\n",
    "\\end{pmatrix}\n",
    "\\begin{pmatrix} x_1 \\\\ x_2 \\\\ x_3 \\end{pmatrix}$\n",
    "we pad vector $x$ with zeros:\n",
    "\n",
    "$$\n",
    "\\begin{pmatrix} y_1 \\\\ y_2 \\\\ y_3 \\\\ \\star \\\\ \\star \\end{pmatrix} =\n",
    "\\begin{pmatrix} \n",
    "t_0 & t_{-1} & t_{-2} & t_{2} & t_{1}\\\\\n",
    "t_{1} & t_{0} & t_{-1} & t_{-2} & t_{2} \\\\\n",
    "t_{2} & t_{1} & t_0 & t_{-1} & t_{-2} \\\\\n",
    "t_{-2}& t_{2} & t_{1} & t_0 & t_{-1}  \\\\\n",
    "t_{-1} & t_{-2} & t_{2} & t_{1} & t_0  \n",
    "\\end{pmatrix}\n",
    "\\begin{pmatrix} x_1 \\\\ x_2 \\\\ x_3 \\\\ 0 \\\\ 0 \\end{pmatrix}=\n",
    "\\text{ifft}(\\text{fft}(\\begin{pmatrix} t_0 \\\\ t_{1} \\\\ t_{2} \\\\ t_{-2} \\\\ t_{-1} \\end{pmatrix})\\circ \\text{fft}(\\begin{pmatrix} x_1 \\\\ x_2 \\\\ x_3 \\\\ 0 \\\\ 0 \\end{pmatrix})).\n",
    "$$\n",
    "\n",
    "- Note that you **do not need to form and store** the whole matrix $T$\n",
    "- From the  Cooley-Tukey algorithm follows that the preferable size of circulant matrix is $2^k$ for some $k$. You can do it with zero padding of the appropriate size.  "
   ]
  },
  {
   "cell_type": "markdown",
   "metadata": {
    "slideshow": {
     "slide_type": "slide"
    }
   },
   "source": [
    "## Multilevel Toeplitz matrices\n",
    "\n",
    "The 2-dimensional convolution is defined as \n",
    "\n",
    "$$\n",
    "y_{i_1i_2} = \\sum_{j_1,j_2=1}^n t_{i_1-j_1, i_2-j_2} x_{j_1 j_2}.\n",
    "$$\n",
    "\n",
    "Note that $x$ and $y$ are 2-dimensional arrays and $T$ is 4-dimensional. \n",
    "To reduce this expression to matrix-by-vector product we have to reshape $x$ and $y$ into long vectors:\n",
    "\n",
    "$$\n",
    "\\text{vec}(x) = \n",
    "\\begin{pmatrix}\n",
    "x_{11} \\\\ \\vdots \\\\ x_{1n} \\\\ \\hline \\\\ \\vdots \\\\ \\hline \\\\ x_{n1} \\\\ \\vdots \\\\ x_{nn}\n",
    "\\end{pmatrix},\n",
    "\\quad\n",
    "\\text{vec}(y) = \n",
    "\\begin{pmatrix}\n",
    "y_{11} \\\\ \\vdots \\\\ y_{1n} \\\\ \\hline \\\\ \\vdots \\\\ \\hline \\\\ y_{n1} \\\\ \\vdots \\\\ y_{nn}\n",
    "\\end{pmatrix}.\n",
    "$$\n",
    "\n",
    "In this case matrix $T$ is **block Toeplitz with Toeplitz blocks:** (BTTB)\n",
    "\n",
    "$$\n",
    "T = \n",
    "\\begin{pmatrix} \n",
    "T_0 & T_{-1} & T_{-2} &  \\dots & T_{1-n} \\\\\n",
    "T_{1} & T_{0} & T_{-1} & \\dots & T_{2-n} \\\\\n",
    "T_{2} & T_{1} & T_0 & \\dots & T_{3-n} \\\\\n",
    "\\dots & \\dots & \\dots &  \\dots & \\dots\\\\\n",
    "T_{n-1} & T_{n-2} & T_{n-3}  &\\dots &T_0\n",
    "\\end{pmatrix},\n",
    "\\quad \\text{where} \\quad\n",
    "T_k = t_{k, i_2 - j_2}\\quad  \\text{are Toeplitz matrices}\n",
    "$$"
   ]
  },
  {
   "cell_type": "markdown",
   "metadata": {
    "slideshow": {
     "slide_type": "slide"
    }
   },
   "source": [
    "## Fast matvec with multilevel Toeplitz matrix\n",
    "\n",
    "To get fast matvec we need to embed block Toeplitz matrix with Toeplitz blocks into the block circulant matrix with circulant blocks. The analog of\n",
    "$$\\begin{pmatrix} y_1 \\\\ y_2 \\\\ y_3 \\\\ \\star \\\\ \\star \\end{pmatrix} =\n",
    "\\text{ifft}(\\text{fft}(\\begin{pmatrix} t_0 \\\\ t_{1} \\\\ t_{2} \\\\ t_{-2} \\\\ t_{-1} \\end{pmatrix})\\circ\\text{fft}(\\begin{pmatrix} x_1 \\\\ x_2 \\\\ x_3 \\\\ 0 \\\\ 0 \\end{pmatrix})).$$\n",
    "will look like\n",
    "$$ \\begin{pmatrix} y_{11} & y_{12} & y_{13} & \\star & \\star \\\\ \n",
    "y_{21} & y_{22} & y_{23} & \\star & \\star \\\\  \n",
    "y_{31} & y_{32} & y_{33} & \\star & \\star \\\\ \n",
    "\\star & \\star & \\star & \\star & \\star \\\\  \n",
    "\\star & \\star & \\star & \\star & \\star \\\\  \n",
    "\\end{pmatrix} = \\text{ifft2d}(\\text{fft2d}(\\begin{pmatrix} t_{0,0} & t_{1,0} & t_{2,0} & t_{-2,0} & t_{-1,0} \\\\ \n",
    "t_{0,1} & t_{1,1} & t_{2,1} & t_{-2,1} & t_{-1,1} \\\\  \n",
    "t_{0,2} & t_{1,2} & t_{2,2} & t_{-2,2} & t_{-1,2} \\\\ \n",
    "t_{0,-2} & t_{1,-2} & t_{2,-2} & t_{-2,-2} & t_{-1,-2} \\\\ \n",
    "t_{0,-1} & t_{1,-1} & t_{2,-1} & t_{-2,-1} & t_{-1,-1}\n",
    "\\end{pmatrix}) \\circ \\text{fft2d}(\\begin{pmatrix}x_{11} & x_{12} & x_{13} & 0 & 0 \\\\ \n",
    "x_{21} & x_{22} & x_{23} & 0 & 0 \\\\  \n",
    "x_{31} & x_{32} & x_{33} & 0 & 0 \\\\ \n",
    "0 & 0 & 0 & 0 & 0 \\\\  \n",
    "0 & 0 & 0 & 0 & 0 \\\\  \n",
    "\\end{pmatrix})),$$\n",
    "where fft2d is 2-dimensional fft that consists of one-dimensional transforms, applied first to rows and and then to columns (or vice versa)."
   ]
  },
  {
   "cell_type": "code",
   "execution_count": 7,
   "metadata": {
    "slideshow": {
     "slide_type": "slide"
    }
   },
   "outputs": [
    {
     "ename": "ModuleNotFoundError",
     "evalue": "No module named 'imageio'",
     "output_type": "error",
     "traceback": [
      "\u001b[0;31m---------------------------------------------------------------------------\u001b[0m",
      "\u001b[0;31mModuleNotFoundError\u001b[0m                       Traceback (most recent call last)",
      "Cell \u001b[0;32mIn [7], line 8\u001b[0m\n\u001b[1;32m      6\u001b[0m get_ipython()\u001b[38;5;241m.\u001b[39mrun_line_magic(\u001b[38;5;124m'\u001b[39m\u001b[38;5;124mmatplotlib\u001b[39m\u001b[38;5;124m'\u001b[39m, \u001b[38;5;124m'\u001b[39m\u001b[38;5;124m inline\u001b[39m\u001b[38;5;124m'\u001b[39m)\n\u001b[1;32m      7\u001b[0m \u001b[38;5;28;01mfrom\u001b[39;00m \u001b[38;5;21;01mscipy\u001b[39;00m \u001b[38;5;28;01mimport\u001b[39;00m misc\n\u001b[0;32m----> 8\u001b[0m \u001b[38;5;28;01mimport\u001b[39;00m \u001b[38;5;21;01mimageio\u001b[39;00m\n\u001b[1;32m     10\u001b[0m filter_size \u001b[38;5;241m=\u001b[39m \u001b[38;5;241m5\u001b[39m\n\u001b[1;32m     11\u001b[0m filter_blur \u001b[38;5;241m=\u001b[39m np\u001b[38;5;241m.\u001b[39mones((filter_size, filter_size)) \u001b[38;5;241m/\u001b[39m filter_size\u001b[38;5;241m*\u001b[39m\u001b[38;5;241m*\u001b[39m\u001b[38;5;241m2\u001b[39m\n",
      "\u001b[0;31mModuleNotFoundError\u001b[0m: No module named 'imageio'"
     ]
    }
   ],
   "source": [
    "# Blurring and Sharpening Lena by convolution\n",
    "\n",
    "from scipy import signal\n",
    "import numpy as np\n",
    "import matplotlib.pyplot as plt\n",
    "%matplotlib  inline\n",
    "from scipy import misc\n",
    "import imageio\n",
    "\n",
    "filter_size = 5\n",
    "filter_blur = np.ones((filter_size, filter_size)) / filter_size**2\n",
    "lena = imageio.imread('./lena512.jpg')\n",
    "#lena = misc.face()\n",
    "#lena = lena[:, :, 0]\n",
    "blurred = signal.convolve2d(lena, filter_blur, boundary='symm', mode='same')\n",
    "\n",
    "fig, ax = plt.subplots(2, 2, figsize=(8, 8))\n",
    "ax[0, 0].imshow(lena[200:300, 200:300], cmap='gray')\n",
    "ax[0, 0].set_title('Original Lena')\n",
    "ax[0, 1].imshow(blurred[200:300, 200:300], cmap='gray')\n",
    "ax[0, 1].set_title('Blurred Lena')\n",
    "ax[1, 0].imshow((lena - blurred)[200:300, 200:300], cmap='gray')\n",
    "ax[1, 0].set_title('Lena $-$ Blurred Lena')\n",
    "ax[1, 1].imshow(((lena - blurred)*3 + blurred)[200:300, 200:300], cmap='gray')\n",
    "ax[1, 1].set_title('$3\\cdot$(Lena $-$ Blurred Lena) + Blurred Lena')\n",
    "fig.tight_layout()"
   ]
  },
  {
   "cell_type": "markdown",
   "metadata": {
    "slideshow": {
     "slide_type": "slide"
    }
   },
   "source": [
    "## Solving linear systems with Toeplitz matrix\n",
    "\n",
    "- Convolution is ok; but what about **deconvolution**, or solving linear systems with Toeplitz matrices?\n",
    "\n",
    "$$T x = f.$$\n",
    "\n",
    "- For the periodic case, where $T = C$ is circulant, \n",
    "\n",
    "we have the spectral theorem\n",
    "\n",
    "$$C = \\frac{1}{n}F^* \\Lambda F, \\quad C^{-1} = \\frac{1}{n}F^* \\Lambda^{-1} F,$$\n",
    "\n",
    "but for a general Toeplitz matrices, it is not a trivial question."
   ]
  },
  {
   "cell_type": "markdown",
   "metadata": {
    "slideshow": {
     "slide_type": "slide"
    }
   },
   "source": [
    "## Iterative methods\n",
    "\n",
    "- Not-a-bad recipe for Toeplitz linear system is to use **iterative method** (fast matvec is available).\n",
    "\n",
    "- A good choice for a preconditioner is a **circulant matrix**."
   ]
  },
  {
   "cell_type": "markdown",
   "metadata": {
    "slideshow": {
     "slide_type": "slide"
    }
   },
   "source": [
    "## Circulant preconditioner\n",
    "\n",
    "- A natural idea is to use **circulants** as preconditioners, since they are easy to invert.\n",
    "\n",
    "- The first preconditioner was the preconditioner by **Raymond Chan and Gilbert Strang**, who proposed to take the first column of the matrix and use it to generate the circulant.\n",
    "\n",
    "- The second preconditioner is the **Tony Chan** preconditioner, which is also very natural: \n",
    "\n",
    "$$C = \\arg \\min_P \\Vert P - T \\Vert_F.$$\n",
    "\n",
    "- A simple formula for the entries of $C$ can be derived."
   ]
  },
  {
   "cell_type": "code",
   "execution_count": null,
   "metadata": {
    "slideshow": {
     "slide_type": "slide"
    }
   },
   "outputs": [],
   "source": [
    "import numpy as np\n",
    "import scipy.linalg\n",
    "%matplotlib inline\n",
    "import matplotlib.pyplot as plt\n",
    "import scipy as sp\n",
    "\n",
    "n = 100\n",
    "c = np.zeros(n)\n",
    "c[0] = -2\n",
    "c[1] = 1\n",
    "Tm = sp.linalg.toeplitz(c, c)\n",
    "\n",
    "\n",
    "c1 = sp.linalg.circulant(c) #Strang preconditioner\n",
    "Fmat = 1.0/np.sqrt(n) * np.fft.fft(np.eye(n)) #Poor man's Fourier matrix\n",
    "\n",
    "d2 = np.diag(Fmat.conj().dot(Tm).dot(Fmat))\n",
    "c2 = Fmat.dot(np.diag(d2)).dot(Fmat.conj().T)\n",
    "\n",
    "\n",
    "mat = np.linalg.inv(c1).dot(Tm)\n",
    "ev = np.linalg.eigvals(mat).real\n",
    "plt.plot(np.sort(ev), np.ones(n), 'o')\n",
    "plt.xlabel('Eigenvalues for Strang preconditioner')\n",
    "plt.gca().get_yaxis().set_visible(False)\n",
    "\n",
    "mat = np.linalg.inv(c2).dot(Tm)\n",
    "ev = np.linalg.eigvals(mat).real\n",
    "plt.figure()\n",
    "plt.plot(np.sort(ev), np.ones(n), 'o')\n",
    "plt.xlabel('Eigenvalues for T. Chan Preconditioner')\n",
    "plt.gca().get_yaxis().set_visible(False)\n"
   ]
  },
  {
   "cell_type": "markdown",
   "metadata": {
    "slideshow": {
     "slide_type": "slide"
    }
   },
   "source": [
    "## Convolutions in neural networks\n",
    "\n",
    "- The revolution in deep learning and computer vision is related to using Convolutional Neural Networks (CNN)\n",
    "- The most famous examples are \n",
    "    - [AlexNet](https://proceedings.neurips.cc/paper/2012/file/c399862d3b9d6b76c8436e924a68c45b-Paper.pdf), 2012\n",
    "    - [GoogLeNet](https://arxiv.org/pdf/1409.4842.pdf), 2014\n",
    "    - [VGG](https://www.robots.ox.ac.uk/~vgg/publications/2015/Simonyan15/simonyan15.pdf), 2015\n",
    "- Further improvements are based on more advanced tricks like normalizations, skip connections and so on\n",
    "- More details will be presented in Deep learning/computer vision courses"
   ]
  },
  {
   "cell_type": "markdown",
   "metadata": {
    "slideshow": {
     "slide_type": "slide"
    }
   },
   "source": [
    "## What is convolution in NN?\n",
    "\n",
    "- In neural networks the convolution means not convolution but **cross-correlation**!\n",
    "\n",
    "$$ (x \\star y)(t) = \\int_{-\\infty}^{+\\infty} x(\\tau)y(\\tau + t)d \\tau $$\n",
    "\n",
    "- Compare with the definition of convolution from the first slide\n",
    "\n",
    "$$(x * y)(t) = \\int_{-\\infty}^{+\\infty} x(\\tau) y(t -  \\tau) d \\tau.$$\n",
    "\n",
    "<img width=400 src=\"./cross_correlation.svg\">\n",
    "\n",
    "Source is [here](https://en.wikipedia.org/wiki/Cross-correlation)\n",
    "\n",
    "- Convolution and cross-correlation are related as \n",
    "\n",
    "$$ x(t) \\star y(t) = x(-t) * y(t) $$ \n",
    "\n",
    "- How this operation is performed in neural networks?\n",
    "\n",
    "<img src=\"./conv_nn.gif\">\n",
    "\n",
    "Source of gif is [here](https://towardsdatascience.com/covolutional-neural-network-cb0883dd6529)\n",
    "\n",
    "- Also nice presentation about the difference of this operations, detailed comparison and PyTorch examples is [here](https://engineering.purdue.edu/DeepLearn/pdf-kak/week6.pdf)"
   ]
  },
  {
   "cell_type": "markdown",
   "metadata": {
    "slideshow": {
     "slide_type": "slide"
    }
   },
   "source": [
    "## Additional remarks about this operation\n",
    "\n",
    "- This operation reflects the relations between the neighbour pixels in image\n",
    "- Multiple filters/kernels can fit different features of the image\n",
    "- This is still **linear** transformation of the input, but it focus on local properties of data\n",
    "- It can be efficiently computed with GPU since the single set of simple instructions have to be applied to multiple data\n",
    "- The trained parameters here are filters that is used to produce the output, for batch of 3D images (RGB) they are 4-dimensional tensors"
   ]
  },
  {
   "cell_type": "markdown",
   "metadata": {
    "slideshow": {
     "slide_type": "slide"
    }
   },
   "source": [
    "## How the trained filters and result image representation looks like"
   ]
  },
  {
   "cell_type": "code",
   "execution_count": null,
   "metadata": {
    "slideshow": {
     "slide_type": "slide"
    }
   },
   "outputs": [],
   "source": [
    "import torchvision.models as models\n",
    "\n",
    "vgg16 = models.vgg16(pretrained=True)\n",
    "print(vgg16)"
   ]
  },
  {
   "cell_type": "code",
   "execution_count": null,
   "metadata": {
    "slideshow": {
     "slide_type": "slide"
    }
   },
   "outputs": [],
   "source": [
    "for ch in vgg16.children():\n",
    "    features = ch\n",
    "    break\n",
    "print(features)\n",
    "for name, param in features.named_parameters(): \n",
    "    print(name, param.shape)"
   ]
  },
  {
   "cell_type": "code",
   "execution_count": null,
   "metadata": {
    "slideshow": {
     "slide_type": "slide"
    }
   },
   "outputs": [],
   "source": [
    "plt.figure(figsize=(20, 17))\n",
    "for i, filter in enumerate(features[2].weight):\n",
    "    plt.subplot(16, 16, i+1)\n",
    "    plt.imshow(filter[0, :, :].detach(), cmap='gray')\n",
    "    plt.axis('off')\n",
    "plt.show()"
   ]
  },
  {
   "cell_type": "code",
   "execution_count": null,
   "metadata": {
    "slideshow": {
     "slide_type": "slide"
    }
   },
   "outputs": [],
   "source": [
    "from PIL import Image\n",
    "img = Image.open(\"./tiger.jpeg\")\n",
    "plt.imshow(img)\n",
    "plt.show()"
   ]
  },
  {
   "cell_type": "code",
   "execution_count": null,
   "metadata": {
    "slideshow": {
     "slide_type": "slide"
    }
   },
   "outputs": [],
   "source": [
    "from torchvision import transforms\n",
    "\n",
    "transform = transforms.Compose([\n",
    "    transforms.RandomResizedCrop(224),\n",
    "    transforms.ToTensor(),\n",
    "    transforms.Normalize([0.485, 0.456, 0.406], [0.229, 0.224, 0.225])\n",
    "])\n",
    "\n",
    "img_ = transform(img)\n",
    "img_ = img_.unsqueeze(0)\n",
    "print(img_.size())\n",
    "plt.imshow(img_[0].permute(1, 2, 0))"
   ]
  },
  {
   "cell_type": "code",
   "execution_count": null,
   "metadata": {
    "slideshow": {
     "slide_type": "slide"
    }
   },
   "outputs": [],
   "source": [
    "# After the first convolutional layer\n",
    "output1 = features[0](img_)\n",
    "print(output1.size())\n",
    "plt.figure(figsize=(20, 17))\n",
    "for i, f_map in enumerate(output1[0]):\n",
    "    plt.subplot(8, 8, i+1)\n",
    "    plt.imshow(f_map.detach(), cmap=\"gray\")\n",
    "    plt.axis('off')\n",
    "plt.show()"
   ]
  },
  {
   "cell_type": "code",
   "execution_count": null,
   "metadata": {
    "slideshow": {
     "slide_type": "slide"
    }
   },
   "outputs": [],
   "source": [
    "# After the second convolutional layer\n",
    "output2 = features[2](features[1](output1))\n",
    "print(output2.size())\n",
    "plt.figure(figsize=(20, 17))\n",
    "for i, f_map in enumerate(output2[0]):\n",
    "    plt.subplot(8, 8, i+1)\n",
    "    plt.imshow(f_map.detach(), cmap=\"gray\")\n",
    "    plt.axis('off')\n",
    "plt.show()"
   ]
  },
  {
   "cell_type": "code",
   "execution_count": null,
   "metadata": {},
   "outputs": [],
   "source": [
    "output3 = features[5](features[4](features[3](output2)))\n",
    "print(output3.size())\n",
    "plt.figure(figsize=(20, 20))\n",
    "for i, f_map in enumerate(output3[0]):\n",
    "    if i + 1 == 65:\n",
    "        break\n",
    "    plt.subplot(8, 8, i+1)\n",
    "    plt.imshow(f_map.detach(), cmap=\"gray\")\n",
    "    plt.axis('off')\n",
    "plt.show()"
   ]
  },
  {
   "cell_type": "markdown",
   "metadata": {
    "slideshow": {
     "slide_type": "slide"
    }
   },
   "source": [
    "## Image transformations\n",
    "\n",
    "- Different filters highlight different features of the image\n",
    "- Pooling operation reduces the spatial dimensions and further convolutional layer moves it to channels dimension\n",
    "- After all ```feature``` block one gets 512 channels (we start from 3 (RGB)) and significant reduction of the spatial size of image\n",
    "- Such operation extracts useful features to help classifier work better\n",
    "- Exactly this property of VGG-type networks is one of the ingredients of style transfer networks, see more details [here](https://medium.com/@mirzezadeh.elvin/neural-style-transfer-with-deep-vgg-model-26b11ea06b7e)"
   ]
  },
  {
   "cell_type": "markdown",
   "metadata": {
    "slideshow": {
     "slide_type": "slide"
    }
   },
   "source": [
    "## Low-rank and Fourier transform\n",
    "\n",
    "Recent achievements for learning structured matrices include [Monarch matrices] (https://arxiv.org/pdf/2204.00595.pdf) and here [Monarch mixer](https://arxiv.org/pdf/2310.12109.pdf)\n",
    "\n",
    "Monarch matrix is given as\n",
    "\n",
    "$$\\mathbf{M}=\\left(\\prod_{i=1}^p \\mathbf{P}_i \\mathbf{B}_i\\right) \\mathbf{P}_0$$\n",
    "\n",
    "where each $\\mathbf{P}_i$ is related to the 'base $\\sqrt[p]{N}$ ' variant of the bit-reversal permutation, and $\\mathbf{B}_i$ is a block-diagonal matrix with block size $b$. Setting $b=\\sqrt[p]{N}$ achieves sub-quadratic compute cost. For example, for $p=2, b=\\sqrt{N}$, Monarch matrices require $O\\left(N^{3 / 2}\\right)$ compute in sequence length $N$.\n"
   ]
  },
  {
   "cell_type": "markdown",
   "metadata": {
    "slideshow": {
     "slide_type": "slide"
    }
   },
   "source": [
    "## Low-rank characteristic of Monarch matrices\n",
    "\n",
    "If we treat Monarch matrix as a block matrix with $m \\times m$ block, the elements have the form:\n",
    "\n",
    "$$M_{\\ell j k i}=L_{j \\ell k} R_{k j i}$$\n",
    "\n",
    "This is rank-1 approximation in disguise."
   ]
  },
  {
   "cell_type": "markdown",
   "metadata": {
    "slideshow": {
     "slide_type": "slide"
    }
   },
   "source": [
    "## Small demo"
   ]
  },
  {
   "cell_type": "code",
   "execution_count": 13,
   "metadata": {
    "slideshow": {
     "slide_type": "subslide"
    }
   },
   "outputs": [],
   "source": [
    "import numpy as np\n",
    "import matplotlib.pyplot as plt\n",
    "n = 1024\n",
    "\n",
    "f = np.fft.fft(np.eye(n))\n",
    "\n",
    "\n",
    "print('Rectangular block, approximate low rank')\n",
    "print(np.linalg.svd(f[:16, :n//16])[1])\n",
    "\n",
    "print('Special low-rank submatrices, exact low-rank')\n",
    "m1 = f[::16, ::n//16]\n",
    "print(m1.shape)\n",
    "print(np.linalg.svd(m1)[1])\n"
   ]
  },
  {
   "cell_type": "markdown",
   "metadata": {
    "slideshow": {
     "slide_type": "slide"
    }
   },
   "source": [
    "## Take home message\n",
    "\n",
    "- Toeplitz and circulant matrices\n",
    "- Spectral theorem\n",
    "- FFT\n",
    "- Multilevel Toeplitz matrices\n",
    "- Intro to convolutional neural networks"
   ]
  },
  {
   "cell_type": "code",
   "execution_count": 1,
   "metadata": {
    "slideshow": {
     "slide_type": "skip"
    }
   },
   "outputs": [
    {
     "ename": "FileNotFoundError",
     "evalue": "[Errno 2] No such file or directory: './styles/custom.css'",
     "output_type": "error",
     "traceback": [
      "\u001b[0;31m---------------------------------------------------------------------------\u001b[0m",
      "\u001b[0;31mFileNotFoundError\u001b[0m                         Traceback (most recent call last)",
      "Cell \u001b[0;32mIn [1], line 5\u001b[0m\n\u001b[1;32m      3\u001b[0m     styles \u001b[38;5;241m=\u001b[39m \u001b[38;5;28mopen\u001b[39m(\u001b[38;5;124m\"\u001b[39m\u001b[38;5;124m./styles/custom.css\u001b[39m\u001b[38;5;124m\"\u001b[39m, \u001b[38;5;124m\"\u001b[39m\u001b[38;5;124mr\u001b[39m\u001b[38;5;124m\"\u001b[39m)\u001b[38;5;241m.\u001b[39mread()\n\u001b[1;32m      4\u001b[0m     \u001b[38;5;28;01mreturn\u001b[39;00m HTML(styles)\n\u001b[0;32m----> 5\u001b[0m \u001b[43mcss_styling\u001b[49m\u001b[43m(\u001b[49m\u001b[43m)\u001b[49m\n",
      "Cell \u001b[0;32mIn [1], line 3\u001b[0m, in \u001b[0;36mcss_styling\u001b[0;34m()\u001b[0m\n\u001b[1;32m      2\u001b[0m \u001b[38;5;28;01mdef\u001b[39;00m \u001b[38;5;21mcss_styling\u001b[39m():\n\u001b[0;32m----> 3\u001b[0m     styles \u001b[38;5;241m=\u001b[39m \u001b[38;5;28;43mopen\u001b[39;49m\u001b[43m(\u001b[49m\u001b[38;5;124;43m\"\u001b[39;49m\u001b[38;5;124;43m./styles/custom.css\u001b[39;49m\u001b[38;5;124;43m\"\u001b[39;49m\u001b[43m,\u001b[49m\u001b[43m \u001b[49m\u001b[38;5;124;43m\"\u001b[39;49m\u001b[38;5;124;43mr\u001b[39;49m\u001b[38;5;124;43m\"\u001b[39;49m\u001b[43m)\u001b[49m\u001b[38;5;241m.\u001b[39mread()\n\u001b[1;32m      4\u001b[0m     \u001b[38;5;28;01mreturn\u001b[39;00m HTML(styles)\n",
      "File \u001b[0;32m~/miniconda3/envs/tensorflow/lib/python3.9/site-packages/IPython/core/interactiveshell.py:282\u001b[0m, in \u001b[0;36m_modified_open\u001b[0;34m(file, *args, **kwargs)\u001b[0m\n\u001b[1;32m    275\u001b[0m \u001b[38;5;28;01mif\u001b[39;00m file \u001b[38;5;129;01min\u001b[39;00m {\u001b[38;5;241m0\u001b[39m, \u001b[38;5;241m1\u001b[39m, \u001b[38;5;241m2\u001b[39m}:\n\u001b[1;32m    276\u001b[0m     \u001b[38;5;28;01mraise\u001b[39;00m \u001b[38;5;167;01mValueError\u001b[39;00m(\n\u001b[1;32m    277\u001b[0m         \u001b[38;5;124mf\u001b[39m\u001b[38;5;124m\"\u001b[39m\u001b[38;5;124mIPython won\u001b[39m\u001b[38;5;124m'\u001b[39m\u001b[38;5;124mt let you open fd=\u001b[39m\u001b[38;5;132;01m{\u001b[39;00mfile\u001b[38;5;132;01m}\u001b[39;00m\u001b[38;5;124m by default \u001b[39m\u001b[38;5;124m\"\u001b[39m\n\u001b[1;32m    278\u001b[0m         \u001b[38;5;124m\"\u001b[39m\u001b[38;5;124mas it is likely to crash IPython. If you know what you are doing, \u001b[39m\u001b[38;5;124m\"\u001b[39m\n\u001b[1;32m    279\u001b[0m         \u001b[38;5;124m\"\u001b[39m\u001b[38;5;124myou can use builtins\u001b[39m\u001b[38;5;124m'\u001b[39m\u001b[38;5;124m open.\u001b[39m\u001b[38;5;124m\"\u001b[39m\n\u001b[1;32m    280\u001b[0m     )\n\u001b[0;32m--> 282\u001b[0m \u001b[38;5;28;01mreturn\u001b[39;00m \u001b[43mio_open\u001b[49m\u001b[43m(\u001b[49m\u001b[43mfile\u001b[49m\u001b[43m,\u001b[49m\u001b[43m \u001b[49m\u001b[38;5;241;43m*\u001b[39;49m\u001b[43margs\u001b[49m\u001b[43m,\u001b[49m\u001b[43m \u001b[49m\u001b[38;5;241;43m*\u001b[39;49m\u001b[38;5;241;43m*\u001b[39;49m\u001b[43mkwargs\u001b[49m\u001b[43m)\u001b[49m\n",
      "\u001b[0;31mFileNotFoundError\u001b[0m: [Errno 2] No such file or directory: './styles/custom.css'"
     ]
    }
   ],
   "source": [
    "from IPython.core.display import HTML\n",
    "def css_styling():\n",
    "    styles = open(\"./styles/custom.css\", \"r\").read()\n",
    "    return HTML(styles)\n",
    "css_styling()"
   ]
  },
  {
   "cell_type": "code",
   "execution_count": null,
   "metadata": {},
   "outputs": [],
   "source": []
  }
 ],
 "metadata": {
  "anaconda-cloud": {},
  "celltoolbar": "Slideshow",
  "kernelspec": {
   "display_name": "Python 3.9 (tensorflow)",
   "language": "python",
   "name": "tensorflow"
  },
  "language_info": {
   "codemirror_mode": {
    "name": "ipython",
    "version": 3
   },
   "file_extension": ".py",
   "mimetype": "text/x-python",
   "name": "python",
   "nbconvert_exporter": "python",
   "pygments_lexer": "ipython3",
   "version": "3.9.13"
  },
  "nav_menu": {},
  "rise": {
   "scroll": true,
   "theme": "sky",
   "transition": "zoom"
  },
  "toc": {
   "navigate_menu": true,
   "number_sections": false,
   "sideBar": true,
   "threshold": 6,
   "toc_cell": false,
   "toc_section_display": "block",
   "toc_window_display": false
  }
 },
 "nbformat": 4,
 "nbformat_minor": 1
}
