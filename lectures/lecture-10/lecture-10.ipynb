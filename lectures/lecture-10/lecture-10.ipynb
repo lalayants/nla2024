{
 "cells": [
  {
   "cell_type": "markdown",
   "metadata": {
    "slideshow": {
     "slide_type": "slide"
    }
   },
   "source": [
    "# Lecture 10: From dense to sparse linear algebra"
   ]
  },
  {
   "cell_type": "markdown",
   "metadata": {
    "slideshow": {
     "slide_type": "slide"
    }
   },
   "source": [
    "## Recap of the previous lecture\n",
    "- Randomized matmul\n",
    "- Hutchinson trace estimator\n",
    "- Randomized SVD\n",
    "- Karcmarz"
   ]
  },
  {
   "cell_type": "markdown",
   "metadata": {},
   "source": [
    "## Plan of todays lecture\n",
    "\n",
    "- Simple topic in parallel computing in NLA (on the matvec example)\n",
    "- Sparse matrix part (with a separate plan)"
   ]
  },
  {
   "cell_type": "markdown",
   "metadata": {
    "slideshow": {
     "slide_type": "slide"
    }
   },
   "source": [
    "## Large scale dense matrices\n",
    "\n",
    "- If the size of the dense matrix is huge, then it can not be stored in memory\n",
    "- Possible options\n",
    "    - This matrix is **structured**, e.g. block Toeplitz with Toeptitz blocks (next lectures). Then the compressed storage is possible\n",
    "    - For unstructured dense matrices **distributed memory** helps\n",
    "    - MPI for processing distributed storing matrices"
   ]
  },
  {
   "cell_type": "markdown",
   "metadata": {
    "slideshow": {
     "slide_type": "slide"
    }
   },
   "source": [
    "### Distributed memory and MPI\n",
    "\n",
    "- Split matrix into blocks and store them on different machines\n",
    "- Every machine has its own address space and can not damage data on other machines\n",
    "- In this case machines communicate with each other to aggregate results of computations\n",
    "- [MPI (Message Passing Interface)](https://en.wikipedia.org/wiki/Message_Passing_Interface) is a standard for parallel computing in distributed memory\n",
    "\n"
   ]
  },
  {
   "cell_type": "markdown",
   "metadata": {
    "slideshow": {
     "slide_type": "slide"
    }
   },
   "source": [
    "### Example: matrix-by-vector product\n",
    "\n",
    "- Assume you want to compute $Ax$ and matrix $A$ can not be stored in available memory\n",
    "- Then you can split it on blocks and distribute blocks on separate machines\n",
    "- Possible strategies\n",
    "    - 1D blocking splits only rows on blocks\n",
    "    - 2D blocking splits both rows and columns"
   ]
  },
  {
   "cell_type": "markdown",
   "metadata": {
    "slideshow": {
     "slide_type": "slide"
    }
   },
   "source": [
    "#### 1D blocking scheme\n",
    "<img src=\"1d_block.jpg\">"
   ]
  },
  {
   "cell_type": "markdown",
   "metadata": {
    "slideshow": {
     "slide_type": "slide"
    }
   },
   "source": [
    "#### Total time of computing matvec with 1D blocking\n",
    "\n",
    "- Each machine has $n / p $ complete rows and $n / p$ elements of vector\n",
    "- Total operations are $n^2 / p$\n",
    "- Total time for sending and writing data are $t_s \\log p + t_w n$, where $t_s$ time unit for sending and $t_w$ time unit for writing"
   ]
  },
  {
   "cell_type": "markdown",
   "metadata": {
    "slideshow": {
     "slide_type": "slide"
    }
   },
   "source": [
    "#### 2D blocking scheme\n",
    "\n",
    "<img src=\"2d_block.png\" width=400>"
   ]
  },
  {
   "cell_type": "markdown",
   "metadata": {
    "slideshow": {
     "slide_type": "slide"
    }
   },
   "source": [
    "#### Total time of computing matvec with 2D blocking\n",
    "\n",
    "- Each machine has $n / \\sqrt{p} $ size block and $n / \\sqrt{p}$ elements of vector\n",
    "- Total operations are $n^2 / p$\n",
    "- Total time for sending and writing data are approximately $t_s \\log p + t_w (n/\\sqrt{p}) \\log p$, where $t_s$ time unit for sending and $t_w$ time unit for writing"
   ]
  },
  {
   "cell_type": "markdown",
   "metadata": {
    "slideshow": {
     "slide_type": "slide"
    }
   },
   "source": [
    "### Packages supported distributed storage\n",
    "\n",
    "- [ScaLAPACK](http://www.netlib.org/scalapack/)\n",
    "- [Trilinos](https://trilinos.org/)\n",
    "\n",
    "In Python you can use [mpi4py](https://mpi4py.readthedocs.io/en/stable/) for parallel programming of your algorithm.\n",
    "\n",
    "- PyTorch supports distributed training and data storage, see details [here](https://pytorch.org/tutorials/intermediate/dist_tuto.html) "
   ]
  },
  {
   "cell_type": "markdown",
   "metadata": {
    "slideshow": {
     "slide_type": "slide"
    }
   },
   "source": [
    "### Summary on large unstructered matrix processing\n",
    "\n",
    "- Distributed manner of storage\n",
    "- MPI\n",
    "- Packages that use parallel computations\n",
    "- Different blocking strategies"
   ]
  },
  {
   "cell_type": "markdown",
   "metadata": {
    "slideshow": {
     "slide_type": "slide"
    }
   },
   "source": [
    "## Sparse matrices intro\n",
    "\n",
    "- For dense linear algebra problems, we are limited by the memory to store the full matrix, it is $N^2$ parameters.\n",
    "\n",
    "- The class of **sparse** matrices where most of the elements are zero, allows us **at least** to store such matrices.\n",
    "\n",
    "The question if we can:\n",
    "\n",
    "- solve linear systems\n",
    "- solve eigenvalue problems\n",
    "\n",
    "with sparse matrices"
   ]
  },
  {
   "cell_type": "markdown",
   "metadata": {
    "slideshow": {
     "slide_type": "slide"
    }
   },
   "source": [
    "## Plan for the next part of the lecture\n",
    "\n",
    "Now we will talk about **sparse matrices**, where they arise, how we store them, how we operate with them.\n",
    "\n",
    "\n",
    "- Formats: list of lists and compressed sparse row format, relation to graphs\n",
    "- Matrix-by-vector product\n",
    "- Parallell processing of sparse matrices \n",
    "- Fast direct solvers for Gaussian elimination (start)"
   ]
  },
  {
   "cell_type": "markdown",
   "metadata": {
    "slideshow": {
     "slide_type": "slide"
    }
   },
   "source": [
    "## Applications of sparse matrices\n",
    "\n",
    "Sparse matrices arise in:\n",
    "\n",
    "- partial differential equations (PDE), mathematical modelling\n",
    "- graphs mining, e.g. social networks analysis\n",
    "- recommender systems\n",
    "- wherever relations between objects are \"sparse\"."
   ]
  },
  {
   "cell_type": "markdown",
   "metadata": {
    "slideshow": {
     "slide_type": "slide"
    }
   },
   "source": [
    "### Sparse matrices are ubiquitous in PDE\n",
    "\n",
    "The simplest partial differential equation (PDE), called \n",
    "\n",
    "**Laplace equation**:  \n",
    "\n",
    "$$\n",
    "   \\Delta T = \\frac{\\partial^2 T}{\\partial x^2} + \\frac{\\partial^2 T}{\\partial y^2} = f(x,y), \\quad x,y\\in \\Omega\\equiv[0,1]^2,\n",
    "$$\n",
    "\n",
    "$$\n",
    "    T_{\\partial\\Omega} = 0.\n",
    "$$"
   ]
  },
  {
   "cell_type": "markdown",
   "metadata": {
    "slideshow": {
     "slide_type": "slide"
    }
   },
   "source": [
    "#### Discretization\n",
    "\n",
    "$$\\frac{\\partial^2 T}{\\partial x^2} \\approx \\frac{T(x+h) + T(x-h) - 2T(x)}{h^2} + \\mathcal{O}(h^2),$$\n",
    "\n",
    "same for $\\frac{\\partial^2 T}{\\partial y^2},$\n",
    "and we get a linear system.  \n",
    "    First, let us consider **one-dimensional case**:"
   ]
  },
  {
   "cell_type": "markdown",
   "metadata": {
    "slideshow": {
     "slide_type": "slide"
    }
   },
   "source": [
    "After the discretization of the one-dimensional Laplace equation with Dirichlet boundary conditions we have\n",
    "\n",
    "$$\\frac{u_{i+1} + u_{i-1} - 2u_i}{h^2} = f_i,\\quad i=1,\\dots,N-1$$\n",
    "\n",
    "$$ u_{0} = u_N = 0$$\n",
    "or in the matrix form\n",
    "\n",
    "$$ A u = f,$$\n",
    "and (for $n = 5$)\n",
    "$$A=-\\frac{1}{h^2}\\begin{bmatrix} 2 & -1 & 0 & 0 & 0\\\\ -1 & 2 & -1 & 0 &0 \\\\ 0 & -1 & 2& -1 & 0 \\\\ 0 & 0 & -1 & 2  &-1\\\\ 0 & 0 & 0 & -1 & 2 \\end{bmatrix}$$"
   ]
  },
  {
   "cell_type": "markdown",
   "metadata": {
    "slideshow": {
     "slide_type": "fragment"
    }
   },
   "source": [
    "The matrix is **triadiagonal** and **sparse**  \n",
    "(and also **Toeplitz**: all elements on the diagonal are the same)"
   ]
  },
  {
   "cell_type": "markdown",
   "metadata": {
    "slideshow": {
     "slide_type": "slide"
    }
   },
   "source": [
    "#### Block structure in 2D\n",
    "In two dimensions, we get equation of the form\n",
    "\n",
    "$$-\\frac{4u_{ij} -u_{(i-1)j} - u_{(i+1)j} - u_{i(j-1)}-u_{i(j+1)}}{h^2} = f_{ij},$$\n",
    "\n",
    "or in the **Kronecker product form**  \n",
    "\n",
    "$$\\Delta_{2D} = \\Delta_{1D} \\otimes I + I \\otimes \\Delta_{1D},$$\n",
    "\n",
    "where $\\Delta_{1D}$ is a 1D Laplacian, and $\\otimes$ is a **Kronecker product** of matrices. \n",
    "\n",
    "For matrices $A\\in\\mathbb{R}^{n\\times m}$ and $B\\in\\mathbb{R}^{l\\times k}$ its Kronecker product is defined as a block matrix of the form \n",
    "\n",
    "$$\n",
    "   A\\otimes B = \\begin{bmatrix}a_{11}B & \\dots & a_{1m}B \\\\ \\vdots & \\ddots & \\vdots \\\\ a_{n1}B & \\dots & a_{nm}B\\end{bmatrix}\\in\\mathbb{R}^{nl\\times mk}.\n",
    "$$"
   ]
  },
  {
   "cell_type": "markdown",
   "metadata": {
    "slideshow": {
     "slide_type": "slide"
    }
   },
   "source": [
    "In the block matrix form the 2D-Laplace matrix can be written in the following form:  \n",
    "\n",
    "$$A = -\\frac{1}{h^2}\\begin{bmatrix} \\Delta_1 + 2I & -I & 0 & 0 & 0\\\\ -I & \\Delta_1 + 2I  & -I & 0 &0 \\\\ 0 & -I & \\Delta_1 + 2I & -I & 0 \\\\ 0 & 0 & -I & \\Delta_1 + 2I   &-I\\\\ 0 & 0 & 0 & -I & \\Delta_1 + 2I \\end{bmatrix}$$"
   ]
  },
  {
   "cell_type": "markdown",
   "metadata": {
    "slideshow": {
     "slide_type": "slide"
    }
   },
   "source": [
    "##### Short list of Kronecker product properties\n",
    "\n",
    "- It is bilinear\n",
    "- $(A\\otimes B) (C\\otimes D) = AC \\otimes BD$\n",
    "- Let $\\mathrm{vec}(X)$ be vectorization of matrix $X$ columnwise. Then \n",
    "$\\mathrm{vec}(AXB) = (B^T \\otimes A) \\mathrm{vec}(X).$"
   ]
  },
  {
   "cell_type": "markdown",
   "metadata": {
    "slideshow": {
     "slide_type": "slide"
    }
   },
   "source": [
    "### Sparse matrices help in computational graph theory\n",
    "\n",
    "- Graphs are represented with adjacency matrix, which is usually sparse\n",
    "- Numerical solution of graph theory problems are based on processing of this sparse matrix\n",
    "    - Community detection and graph clustering\n",
    "    - Learning to rank\n",
    "    - Random walks\n",
    "    - Others\n",
    "- Example: probably the largest publicly available hyperlink graph consists of 3.5 billion web pages and 128 billion hyperlinks, more details see [here](http://webdatacommons.org/hyperlinkgraph/) \n",
    "- More medium scale graphs to test your algorithms are available in [Stanford Large Network Dataset Collection](https://snap.stanford.edu/data/)"
   ]
  },
  {
   "cell_type": "markdown",
   "metadata": {
    "slideshow": {
     "slide_type": "slide"
    }
   },
   "source": [
    "### SuiteSpare matrix collection (formerly Florida sparse matrix collection)\n",
    "\n",
    "More sparse matrices you can find in  [SuiteSparse matrix collection](https://sparse.tamu.edu/) which contains all sorts of matrices for different applications."
   ]
  },
  {
   "cell_type": "code",
   "execution_count": 4,
   "metadata": {
    "slideshow": {
     "slide_type": "slide"
    }
   },
   "outputs": [
    {
     "data": {
      "text/html": [
       "\n",
       "        <iframe\n",
       "            width=\"700\"\n",
       "            height=\"450\"\n",
       "            src=\"http://yifanhu.net/GALLERY/GRAPHS/search.html\"\n",
       "            frameborder=\"0\"\n",
       "            allowfullscreen\n",
       "            \n",
       "        ></iframe>\n",
       "        "
      ],
      "text/plain": [
       "<IPython.lib.display.IFrame at 0x1139ee950>"
      ]
     },
     "execution_count": 4,
     "metadata": {},
     "output_type": "execute_result"
    }
   ],
   "source": [
    "from IPython.display import IFrame\n",
    "IFrame(\"http://yifanhu.net/GALLERY/GRAPHS/search.html\", width=700, height=450)"
   ]
  },
  {
   "cell_type": "markdown",
   "metadata": {
    "slideshow": {
     "slide_type": "slide"
    }
   },
   "source": [
    "### Sparse matrices and deep learning\n",
    "\n",
    "- DNN has a lot of parameters\n",
    "- Some of them may be redundant\n",
    "- How to prune the parameters without significantly accuracy reduction?\n",
    "- [Sparse variational dropout method](https://github.com/ars-ashuha/variational-dropout-sparsifies-dnn) leads to significantly sparse filters in DNN almost without accuracy decreasing"
   ]
  },
  {
   "cell_type": "markdown",
   "metadata": {
    "slideshow": {
     "slide_type": "slide"
    }
   },
   "source": [
    "## Sparse matrix: construction\n",
    "\n",
    "- We can create sparse matrix using **scipy.sparse** package (actually this is **not the best** sparse matrix package)\n",
    "\n",
    "- We can go to really large sizes (at least, to store this matrix in the memory)\n",
    "\n",
    "Please note the following functions\n",
    "- Create sparse matrices with given diagonals ```spdiags```\n",
    "- Kronecker product of sparse matrices ```kron```\n",
    "- There is also overloaded arithmectics for sparse matrices"
   ]
  },
  {
   "cell_type": "code",
   "execution_count": 6,
   "metadata": {
    "slideshow": {
     "slide_type": "slide"
    }
   },
   "outputs": [
    {
     "data": {
      "text/plain": [
       "<matplotlib.lines.Line2D at 0x127e6ef90>"
      ]
     },
     "execution_count": 6,
     "metadata": {},
     "output_type": "execute_result"
    },
    {
     "data": {
      "image/png": "[encoded data removed]",
      "text/plain": [
       "<Figure size 640x480 with 1 Axes>"
      ]
     },
     "metadata": {},
     "output_type": "display_data"
    }
   ],
   "source": [
    "import numpy as np\n",
    "import scipy as sp\n",
    "import scipy.sparse\n",
    "from scipy.sparse import csc_matrix, csr_matrix\n",
    "import matplotlib.pyplot as plt\n",
    "import scipy.linalg\n",
    "import scipy.sparse.linalg\n",
    "%matplotlib inline\n",
    "n = 128\n",
    "ex = np.ones(n);\n",
    "lp1 = sp.sparse.spdiags(np.vstack((ex,  -2*ex, ex)), [-1, 0, 1], n, n, 'csr'); \n",
    "e = sp.sparse.eye(n)\n",
    "A = sp.sparse.kron(lp1, e) + sp.sparse.kron(e, lp1)\n",
    "A = csc_matrix(A)\n",
    "plt.spy(A, aspect='equal', marker='.', markersize=5)"
   ]
  },
  {
   "cell_type": "markdown",
   "metadata": {
    "slideshow": {
     "slide_type": "slide"
    }
   },
   "source": [
    "### Sparsity pattern \n",
    "\n",
    "- The ```spy``` command plots the sparsity pattern of the matrix: the $(i, j)$ pixel is drawn, if the corresponding matrix element is non-zero.\n",
    "\n",
    "- Sparsity pattern is really important for the understanding the complexity of the sparse linear algebra algorithms.  \n",
    "\n",
    "- Often, only the sparsity pattern is needed for the analysis of \"how complex\" the matrix is."
   ]
  },
  {
   "cell_type": "markdown",
   "metadata": {
    "slideshow": {
     "slide_type": "slide"
    }
   },
   "source": [
    "### Sparse matrix: definition\n",
    "\n",
    "- The definition of \"sparse matrix\" is that the number of **non-zero elements** is much less than the total number of elements. \n",
    "\n",
    "- You can do the basic linear algebra operations (like solving linear systems at the first place) faster, than if working for with the full matrix."
   ]
  },
  {
   "cell_type": "markdown",
   "metadata": {
    "slideshow": {
     "slide_type": "slide"
    }
   },
   "source": [
    "## What we need to find out to see how it actually works\n",
    "\n",
    "- **Question 1:** How to store the sparse matrix in memory?\n",
    "\n",
    "- **Question 2:** How to multiply sparse matrix by vector fast?\n",
    "\n",
    "- **Question 3:** How to solve linear systems with sparse matrices fast?"
   ]
  },
  {
   "cell_type": "markdown",
   "metadata": {
    "slideshow": {
     "slide_type": "slide"
    }
   },
   "source": [
    "### Sparse matrix storage\n",
    "\n",
    "There are many storage formats, important ones:\n",
    "\n",
    "- COO (Coordinate format)\n",
    "- LIL (Lists of lists)\n",
    "- CSR (compressed sparse row)\n",
    "- CSC (compressed sparse column)\n",
    "- Block variants\n",
    "\n",
    "In ```scipy``` there are constructors for each of these formats, e.g. \n",
    "\n",
    "```scipy.sparse.lil_matrix(A)```."
   ]
  },
  {
   "cell_type": "markdown",
   "metadata": {
    "slideshow": {
     "slide_type": "slide"
    }
   },
   "source": [
    "#### Coordinate format (COO)\n",
    "\n",
    "The simplest format is to use **coordinate format** to represent the sparse matrix as positions and values of non-zero elements.\n",
    "\n",
    "```python\n",
    "i, j, val\n",
    "```\n",
    "\n",
    "where ```i, j``` are integer array of indices, ```val``` is the real array of matrix elements. <br>\n",
    "So we need to store $3\\cdot$ **nnz** elements, where **nnz** denotes number of nonzeroes in the matrix.\n",
    "\n",
    "**Q:** What is good and what is bad in this format?"
   ]
  },
  {
   "cell_type": "markdown",
   "metadata": {
    "slideshow": {
     "slide_type": "slide"
    }
   },
   "source": [
    "#### Main disadvantages\n",
    "\n",
    "- It is not optimal in storage (why?)\n",
    "- It is not optimal for matrix-by-vector product (why?)\n",
    "- It is not optimal for removing elements as you must make **nnz** operations to find one element (this is good in LIL format)\n",
    "\n",
    "First two disadvantages are solved by **compressed sparse row** (CSR) format."
   ]
  },
  {
   "cell_type": "markdown",
   "metadata": {
    "slideshow": {
     "slide_type": "slide"
    }
   },
   "source": [
    "#### Compressed sparse row (CSR)\n",
    "\n",
    "In the CSR format a matrix is stored as 3 different arrays:\n",
    "\n",
    "```python\n",
    "ia, ja, sa\n",
    "```\n",
    "\n",
    "where:\n",
    "\n",
    "- **ia** (row start) is an integer array of length $n+1$ \n",
    "- **ja** (column indices) is an integer array of length **nnz** \n",
    "-  **sa** (values) is an real-value array of length **nnz**\n",
    "\n",
    "<img src=\"https://www.karlrupp.net/wp-content/uploads/2016/02/csr_storage_sparse_marix.png\" width=60% />\n",
    "\n",
    "So, we got $2\\cdot{\\bf nnz} + n+1$ elements."
   ]
  },
  {
   "cell_type": "markdown",
   "metadata": {
    "slideshow": {
     "slide_type": "slide"
    }
   },
   "source": [
    "### Sparse matrices in PyTorch and Tensorflow\n",
    "\n",
    "- PyTorch supports sparse matrices stored in COO format\n",
    "- Incompletre backward operation for these matrices, see summary [here](https://github.com/pytorch/pytorch/issues/9674)\n",
    "- Tensorflow also supports sparse matrices in COO format\n",
    "- The list of supported operations is [here](https://www.tensorflow.org/api_docs/python/tf/sparse) and gradient support is also limited"
   ]
  },
  {
   "cell_type": "markdown",
   "metadata": {
    "slideshow": {
     "slide_type": "slide"
    }
   },
   "source": [
    "### CSR helps in sparse matrix by vector product (SpMV)\n",
    "\n",
    "```python\n",
    "\n",
    "   for i in range(n):\n",
    "        \n",
    "        for k in range(ia[i]:ia[i+1]):\n",
    "            \n",
    "            y[i] += sa[k] * x[ja[k]]\n",
    "```"
   ]
  },
  {
   "cell_type": "markdown",
   "metadata": {
    "slideshow": {
     "slide_type": "fragment"
    }
   },
   "source": [
    "Let us do a short timing test"
   ]
  },
  {
   "cell_type": "code",
   "execution_count": 8,
   "metadata": {
    "slideshow": {
     "slide_type": "slide"
    }
   },
   "outputs": [
    {
     "name": "stdout",
     "output_type": "stream",
     "text": [
      "3.25 ms ± 19.4 µs per loop (mean ± std. dev. of 7 runs, 100 loops each)\n",
      "18.6 ms ± 113 µs per loop (mean ± std. dev. of 7 runs, 100 loops each)\n"
     ]
    }
   ],
   "source": [
    "import numpy as np\n",
    "import scipy as sp\n",
    "import scipy.sparse\n",
    "import scipy.sparse.linalg\n",
    "from scipy.sparse import csc_matrix, csr_matrix, coo_matrix\n",
    "import matplotlib.pyplot as plt\n",
    "%matplotlib inline\n",
    "n = 1024\n",
    "ex = np.ones(n);\n",
    "lp1 = sp.sparse.spdiags(np.vstack((ex,  -2*ex, ex)), [-1, 0, 1], n, n, 'csr'); \n",
    "e = sp.sparse.eye(n)\n",
    "A = sp.sparse.kron(lp1, e) + sp.sparse.kron(e, lp1)\n",
    "A = csr_matrix(A)\n",
    "rhs = np.ones(n * n)\n",
    "B = coo_matrix(A)\n",
    "%timeit A.dot(rhs)\n",
    "%timeit B.dot(rhs)"
   ]
  },
  {
   "cell_type": "markdown",
   "metadata": {
    "slideshow": {
     "slide_type": "fragment"
    }
   },
   "source": [
    "As you see, **CSR** is faster, and for more **unstructured patterns** the gain will be larger."
   ]
  },
  {
   "cell_type": "markdown",
   "metadata": {
    "slideshow": {
     "slide_type": "slide"
    }
   },
   "source": [
    "### Sparse matrices and efficiency\n",
    "\n",
    "- Sparse matrices give complexity reduction.  \n",
    "- But they are **not very good** for parallel/GPU implementation.  \n",
    "- They do not give maximal efficiency due to **random data access**.  \n",
    "- Typically, peak efficiency of $10\\%-15\\%$ is considered good.  "
   ]
  },
  {
   "cell_type": "markdown",
   "metadata": {
    "slideshow": {
     "slide_type": "slide"
    }
   },
   "source": [
    "### Recall how we measure efficiency of linear algebra operations\n",
    "\n",
    "The standard way to measure the efficiency of linear algebra operations on a particular computing architecture is to use **flops** (number of floating point operations per second)\n",
    "\n",
    "We can measure peak efficiency of an ordinary matrix-by-vector product."
   ]
  },
  {
   "cell_type": "code",
   "execution_count": 14,
   "metadata": {
    "slideshow": {
     "slide_type": "slide"
    }
   },
   "outputs": [
    {
     "name": "stdout",
     "output_type": "stream",
     "text": [
      "Time:  2.0e-01, Efficiency:  2.3e+02 Gflops\n"
     ]
    }
   ],
   "source": [
    "import numpy as np\n",
    "import time\n",
    "n = 4000\n",
    "k = 1400\n",
    "a = np.random.randn(n, n)\n",
    "v = np.random.randn(n, k)\n",
    "t = time.time()\n",
    "np.dot(a, v)\n",
    "t = time.time() - t\n",
    "print('Time: {0: 3.1e}, Efficiency: {1: 3.1e} Gflops'.\\\n",
    "      format(t,  ((k*2 * n ** 2)/t) / 10 ** 9))"
   ]
  },
  {
   "cell_type": "code",
   "execution_count": 18,
   "metadata": {
    "slideshow": {
     "slide_type": "slide"
    }
   },
   "outputs": [
    {
     "name": "stdout",
     "output_type": "stream",
     "text": [
      "Time:  2.6e-01, Efficiency:  1.9e+00 Gflops\n"
     ]
    }
   ],
   "source": [
    "n = 4000000\n",
    "k = 40\n",
    "ex = np.ones(n)\n",
    "a = sp.sparse.spdiags(np.vstack((ex,  -2*ex, ex)), [-1, 0, 1], n, n, 'csr'); \n",
    "rhs = np.random.randn(n, k)\n",
    "t = time.time()\n",
    "a.dot(rhs)\n",
    "t = time.time() - t\n",
    "print('Time: {0: 3.1e}, Efficiency: {1: 3.1e} Gflops'.\\\n",
    "      format(t,  (3 * n * k) / t / 10 ** 9))"
   ]
  },
  {
   "cell_type": "markdown",
   "metadata": {
    "slideshow": {
     "slide_type": "slide"
    }
   },
   "source": [
    "### Random data access and cache misses\n",
    "\n",
    "- Initially all matrix and vector entries are stored in RAM (Random Access Memory)\n",
    "- If you want to compute matvec, the part of matrix and vector elements are moved to **cache** (fast and small capacity memory, see [lecture about Strassen algorithm](https://nbviewer.jupyter.org/github/oseledets/nla2018/blob/master/lectures/lecture-3.ipynb))\n",
    "- After that, CPU takes data from cache to proccess it and then returns result in cache, too\n",
    "- If CPU needs some data that is not already in cache, this situation is called **cache miss**\n",
    "- If cache miss happens, the required data is moved from RAM to cache\n",
    "\n",
    "**Q**: what if cache does not have free space?\n",
    "\n",
    "\n",
    "- The larger number of cache misses, the slower computations"
   ]
  },
  {
   "cell_type": "markdown",
   "metadata": {
    "slideshow": {
     "slide_type": "slide"
    }
   },
   "source": [
    "### Cache scheme and LRU (Least recently used)\n",
    "\n",
    "<img src=\"cache_scheme.png\" width=\"500\">"
   ]
  },
  {
   "cell_type": "markdown",
   "metadata": {
    "slideshow": {
     "slide_type": "slide"
    }
   },
   "source": [
    "#### CSR sparse matrix by vector product\n",
    "\n",
    "```python\n",
    "\n",
    "   for i in range(n):\n",
    "        \n",
    "        for k in range(ia[i]:ia[i+1]):\n",
    "            \n",
    "            y[i] += sa[k] * x[ja[k]]\n",
    "            \n",
    "```\n",
    "\n",
    "- What part of operands is strongly led cache misses?  \n",
    "- How this issue can be solved?"
   ]
  },
  {
   "cell_type": "markdown",
   "metadata": {
    "slideshow": {
     "slide_type": "slide"
    }
   },
   "source": [
    "### Reordering reduces cache misses\n",
    "\n",
    "- If ```ja``` stores sequential elements, then they will be moved to cache altogether and number of cache misses decreases\n",
    "- This happens when sparse matrix is banded or at least block diagonal\n",
    "- We can convert given sparse matrix to banded or block diagonal with *permutations* \n",
    "\n",
    "- Let $P$ be row permutation matrix and $Q$ be column permutation matrix\n",
    "- $A_1 = PAQ$ is a matrix, which has less bandwith than $A$\n",
    "- $y = Ax \\to \\tilde{y} = A_1 \\tilde{x}$, where $\\tilde{x} = Q^{\\top}x$ and $\\tilde{y} = Py$\n",
    "- [Separated block diagonal form](http://albert-jan.yzelman.net/PDFs/yzelman09-rev.pdf) is a cache-oblivious format for sparse matrix by vector product\n",
    "- It can be extended for 2D, where separated not only rows, but also columns"
   ]
  },
  {
   "cell_type": "markdown",
   "metadata": {
    "slideshow": {
     "slide_type": "slide"
    }
   },
   "source": [
    "#### Example\n",
    "\n",
    "- SBD in 1D \n",
    "<img src=\"sbd.png\" width=\"400\">"
   ]
  },
  {
   "cell_type": "markdown",
   "metadata": {
    "slideshow": {
     "slide_type": "slide"
    }
   },
   "source": [
    "### Sparse *transpose* matrix-by-vector product\n",
    "\n",
    "- In some cases it is important to compute not only $Ax$ for sparse $A$, but also $A^{\\top}x$\n",
    "- Mort details will be discussed in the lecture about Krylov methods for non-symmetric linear systems\n",
    "- Transposing is computationally expensive\n",
    "- [Here](https://people.eecs.berkeley.edu/~aydin/csb2009.pdf) is proposed **compressed sparse block** format of storage appropriate for this case"
   ]
  },
  {
   "cell_type": "markdown",
   "metadata": {
    "slideshow": {
     "slide_type": "slide"
    }
   },
   "source": [
    "#### Compressed sparse block (CSB)\n",
    "\n",
    "- Split matrix in blocks\n",
    "- Store block indices and indices of data **inside** each block\n",
    "- Thus, feasible number of bits to store indices\n",
    "- Ordering of the blocks and inside blocks is impoprtant for parallel implementation\n",
    "- Switching between blockrow to blockcolumn makes this format appropriate to transpose matrix by vector product"
   ]
  },
  {
   "cell_type": "markdown",
   "metadata": {
    "slideshow": {
     "slide_type": "slide"
    }
   },
   "source": [
    "## Solve linear systems with sparse matrices\n",
    "\n",
    "- Direct methods (start today and continue in the next lecture)\n",
    "    - LU decomposition\n",
    "    - Number of reordering techniques to minimize fill-in\n",
    "- Krylov methods"
   ]
  },
  {
   "cell_type": "markdown",
   "metadata": {
    "slideshow": {
     "slide_type": "slide"
    }
   },
   "source": [
    "Let us start with small demo of solving sparse linear system..."
   ]
  },
  {
   "cell_type": "code",
   "execution_count": 20,
   "metadata": {
    "slideshow": {
     "slide_type": "fragment"
    }
   },
   "outputs": [
    {
     "data": {
      "text/plain": [
       "Text(0.5, 1.0, 'Reshaped solution')"
      ]
     },
     "execution_count": 20,
     "metadata": {},
     "output_type": "execute_result"
    },
    {
     "data": {
      "image/png": "[encoded data removed]",
      "text/plain": [
       "<Figure size 640x480 with 2 Axes>"
      ]
     },
     "metadata": {},
     "output_type": "display_data"
    }
   ],
   "source": [
    "n = 1024\n",
    "ex = np.ones(n);\n",
    "lp1 = sp.sparse.spdiags(np.vstack((ex,  -2*ex, ex)), [-1, 0, 1], n, n, 'csr'); \n",
    "e = sp.sparse.eye(n)\n",
    "A = sp.sparse.kron(lp1, e) + sp.sparse.kron(e, lp1)\n",
    "A = csr_matrix(A)\n",
    "rhs = np.ones(n * n)\n",
    "sol = sp.sparse.linalg.spsolve(A, rhs)\n",
    "_, (ax1, ax2) = plt.subplots(1, 2)\n",
    "ax1.plot(sol)\n",
    "ax1.set_title('Not reshaped solution')\n",
    "ax2.contourf(sol.reshape((n, n), order='f'))\n",
    "ax2.set_title('Reshaped solution')"
   ]
  },
  {
   "cell_type": "markdown",
   "metadata": {
    "slideshow": {
     "slide_type": "slide"
    }
   },
   "source": [
    "## Take home message\n",
    "\n",
    "- About parallel matrix-by-vector product and different blocking.\n",
    "- CSR format for storage\n",
    "- Cache and parallel issues in sparse matrix processing\n",
    "- Reordering and blocking as a way to solve these issues"
   ]
  },
  {
   "cell_type": "markdown",
   "metadata": {
    "slideshow": {
     "slide_type": "slide"
    }
   },
   "source": [
    "# Questions?"
   ]
  },
  {
   "cell_type": "code",
   "execution_count": null,
   "metadata": {
    "collapsed": true,
    "slideshow": {
     "slide_type": "skip"
    }
   },
   "outputs": [],
   "source": [
    "from IPython.core.display import HTML\n",
    "def css_styling():\n",
    "    styles = open(\"./styles/custom.css\", \"r\").read()\n",
    "    return HTML(styles)\n",
    "css_styling()"
   ]
  }
 ],
 "metadata": {
  "anaconda-cloud": {},
  "celltoolbar": "Slideshow",
  "kernelspec": {
   "display_name": "Python 3 (ipykernel)",
   "language": "python",
   "name": "python3"
  },
  "language_info": {
   "codemirror_mode": {
    "name": "ipython",
    "version": 3
   },
   "file_extension": ".py",
   "mimetype": "text/x-python",
   "name": "python",
   "nbconvert_exporter": "python",
   "pygments_lexer": "ipython3",
   "version": "3.11.0"
  },
  "nav_menu": {},
  "rise": {
   "scroll": true,
   "theme": "sky",
   "transition": "zoom"
  },
  "toc": {
   "navigate_menu": true,
   "number_sections": false,
   "sideBar": true,
   "threshold": 6,
   "toc_cell": false,
   "toc_section_display": "block",
   "toc_window_display": false
  }
 },
 "nbformat": 4,
 "nbformat_minor": 1
}
