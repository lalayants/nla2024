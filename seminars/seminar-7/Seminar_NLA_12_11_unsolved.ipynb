{
  "nbformat": 4,
  "nbformat_minor": 0,
  "metadata": {
    "colab": {
      "provenance": [],
      "collapsed_sections": [
        "7rvGYjADdzqq"
      ]
    },
    "kernelspec": {
      "name": "python3",
      "display_name": "Python 3"
    },
    "language_info": {
      "name": "python"
    },
    "widgets": {
      "application/vnd.jupyter.widget-state+json": {
        "4e1f8a17b74245e593da3be578546fcc": {
          "model_module": "@jupyter-widgets/controls",
          "model_name": "HBoxModel",
          "model_module_version": "1.5.0",
          "state": {
            "_dom_classes": [],
            "_model_module": "@jupyter-widgets/controls",
            "_model_module_version": "1.5.0",
            "_model_name": "HBoxModel",
            "_view_count": null,
            "_view_module": "@jupyter-widgets/controls",
            "_view_module_version": "1.5.0",
            "_view_name": "HBoxView",
            "box_style": "",
            "children": [
              "IPY_MODEL_6d5138be52ac430f9551c32fc09c8830",
              "IPY_MODEL_5717694de07a408590b4038d3c9468c2",
              "IPY_MODEL_8020ac2643d4474f9f5ddcf2608051f5"
            ],
            "layout": "IPY_MODEL_aae73b57e9bc4df0a47152bd088704c0"
          }
        },
        "6d5138be52ac430f9551c32fc09c8830": {
          "model_module": "@jupyter-widgets/controls",
          "model_name": "HTMLModel",
          "model_module_version": "1.5.0",
          "state": {
            "_dom_classes": [],
            "_model_module": "@jupyter-widgets/controls",
            "_model_module_version": "1.5.0",
            "_model_name": "HTMLModel",
            "_view_count": null,
            "_view_module": "@jupyter-widgets/controls",
            "_view_module_version": "1.5.0",
            "_view_name": "HTMLView",
            "description": "",
            "description_tooltip": null,
            "layout": "IPY_MODEL_2c5e71a1a70b49a6999934a429389850",
            "placeholder": "​",
            "style": "IPY_MODEL_8efabbff93db40a28df39f0ca8004d4c",
            "value": "100%"
          }
        },
        "5717694de07a408590b4038d3c9468c2": {
          "model_module": "@jupyter-widgets/controls",
          "model_name": "FloatProgressModel",
          "model_module_version": "1.5.0",
          "state": {
            "_dom_classes": [],
            "_model_module": "@jupyter-widgets/controls",
            "_model_module_version": "1.5.0",
            "_model_name": "FloatProgressModel",
            "_view_count": null,
            "_view_module": "@jupyter-widgets/controls",
            "_view_module_version": "1.5.0",
            "_view_name": "ProgressView",
            "bar_style": "success",
            "description": "",
            "description_tooltip": null,
            "layout": "IPY_MODEL_17d2276cc3fe4d6493a558325094bb62",
            "max": 8,
            "min": 0,
            "orientation": "horizontal",
            "style": "IPY_MODEL_6b5f47ee9fac4668896e6466f19d9c3e",
            "value": 8
          }
        },
        "8020ac2643d4474f9f5ddcf2608051f5": {
          "model_module": "@jupyter-widgets/controls",
          "model_name": "HTMLModel",
          "model_module_version": "1.5.0",
          "state": {
            "_dom_classes": [],
            "_model_module": "@jupyter-widgets/controls",
            "_model_module_version": "1.5.0",
            "_model_name": "HTMLModel",
            "_view_count": null,
            "_view_module": "@jupyter-widgets/controls",
            "_view_module_version": "1.5.0",
            "_view_name": "HTMLView",
            "description": "",
            "description_tooltip": null,
            "layout": "IPY_MODEL_bb405eb79fce458aa656b1d1835d9a1a",
            "placeholder": "​",
            "style": "IPY_MODEL_24a34ec93e544ebc9fcfb73a89163558",
            "value": " 8/8 [00:11&lt;00:00, 21.65it/s]"
          }
        },
        "aae73b57e9bc4df0a47152bd088704c0": {
          "model_module": "@jupyter-widgets/base",
          "model_name": "LayoutModel",
          "model_module_version": "1.2.0",
          "state": {
            "_model_module": "@jupyter-widgets/base",
            "_model_module_version": "1.2.0",
            "_model_name": "LayoutModel",
            "_view_count": null,
            "_view_module": "@jupyter-widgets/base",
            "_view_module_version": "1.2.0",
            "_view_name": "LayoutView",
            "align_content": null,
            "align_items": null,
            "align_self": null,
            "border": null,
            "bottom": null,
            "display": null,
            "flex": null,
            "flex_flow": null,
            "grid_area": null,
            "grid_auto_columns": null,
            "grid_auto_flow": null,
            "grid_auto_rows": null,
            "grid_column": null,
            "grid_gap": null,
            "grid_row": null,
            "grid_template_areas": null,
            "grid_template_columns": null,
            "grid_template_rows": null,
            "height": null,
            "justify_content": null,
            "justify_items": null,
            "left": null,
            "margin": null,
            "max_height": null,
            "max_width": null,
            "min_height": null,
            "min_width": null,
            "object_fit": null,
            "object_position": null,
            "order": null,
            "overflow": null,
            "overflow_x": null,
            "overflow_y": null,
            "padding": null,
            "right": null,
            "top": null,
            "visibility": null,
            "width": null
          }
        },
        "2c5e71a1a70b49a6999934a429389850": {
          "model_module": "@jupyter-widgets/base",
          "model_name": "LayoutModel",
          "model_module_version": "1.2.0",
          "state": {
            "_model_module": "@jupyter-widgets/base",
            "_model_module_version": "1.2.0",
            "_model_name": "LayoutModel",
            "_view_count": null,
            "_view_module": "@jupyter-widgets/base",
            "_view_module_version": "1.2.0",
            "_view_name": "LayoutView",
            "align_content": null,
            "align_items": null,
            "align_self": null,
            "border": null,
            "bottom": null,
            "display": null,
            "flex": null,
            "flex_flow": null,
            "grid_area": null,
            "grid_auto_columns": null,
            "grid_auto_flow": null,
            "grid_auto_rows": null,
            "grid_column": null,
            "grid_gap": null,
            "grid_row": null,
            "grid_template_areas": null,
            "grid_template_columns": null,
            "grid_template_rows": null,
            "height": null,
            "justify_content": null,
            "justify_items": null,
            "left": null,
            "margin": null,
            "max_height": null,
            "max_width": null,
            "min_height": null,
            "min_width": null,
            "object_fit": null,
            "object_position": null,
            "order": null,
            "overflow": null,
            "overflow_x": null,
            "overflow_y": null,
            "padding": null,
            "right": null,
            "top": null,
            "visibility": null,
            "width": null
          }
        },
        "8efabbff93db40a28df39f0ca8004d4c": {
          "model_module": "@jupyter-widgets/controls",
          "model_name": "DescriptionStyleModel",
          "model_module_version": "1.5.0",
          "state": {
            "_model_module": "@jupyter-widgets/controls",
            "_model_module_version": "1.5.0",
            "_model_name": "DescriptionStyleModel",
            "_view_count": null,
            "_view_module": "@jupyter-widgets/base",
            "_view_module_version": "1.2.0",
            "_view_name": "StyleView",
            "description_width": ""
          }
        },
        "17d2276cc3fe4d6493a558325094bb62": {
          "model_module": "@jupyter-widgets/base",
          "model_name": "LayoutModel",
          "model_module_version": "1.2.0",
          "state": {
            "_model_module": "@jupyter-widgets/base",
            "_model_module_version": "1.2.0",
            "_model_name": "LayoutModel",
            "_view_count": null,
            "_view_module": "@jupyter-widgets/base",
            "_view_module_version": "1.2.0",
            "_view_name": "LayoutView",
            "align_content": null,
            "align_items": null,
            "align_self": null,
            "border": null,
            "bottom": null,
            "display": null,
            "flex": null,
            "flex_flow": null,
            "grid_area": null,
            "grid_auto_columns": null,
            "grid_auto_flow": null,
            "grid_auto_rows": null,
            "grid_column": null,
            "grid_gap": null,
            "grid_row": null,
            "grid_template_areas": null,
            "grid_template_columns": null,
            "grid_template_rows": null,
            "height": null,
            "justify_content": null,
            "justify_items": null,
            "left": null,
            "margin": null,
            "max_height": null,
            "max_width": null,
            "min_height": null,
            "min_width": null,
            "object_fit": null,
            "object_position": null,
            "order": null,
            "overflow": null,
            "overflow_x": null,
            "overflow_y": null,
            "padding": null,
            "right": null,
            "top": null,
            "visibility": null,
            "width": null
          }
        },
        "6b5f47ee9fac4668896e6466f19d9c3e": {
          "model_module": "@jupyter-widgets/controls",
          "model_name": "ProgressStyleModel",
          "model_module_version": "1.5.0",
          "state": {
            "_model_module": "@jupyter-widgets/controls",
            "_model_module_version": "1.5.0",
            "_model_name": "ProgressStyleModel",
            "_view_count": null,
            "_view_module": "@jupyter-widgets/base",
            "_view_module_version": "1.2.0",
            "_view_name": "StyleView",
            "bar_color": null,
            "description_width": ""
          }
        },
        "bb405eb79fce458aa656b1d1835d9a1a": {
          "model_module": "@jupyter-widgets/base",
          "model_name": "LayoutModel",
          "model_module_version": "1.2.0",
          "state": {
            "_model_module": "@jupyter-widgets/base",
            "_model_module_version": "1.2.0",
            "_model_name": "LayoutModel",
            "_view_count": null,
            "_view_module": "@jupyter-widgets/base",
            "_view_module_version": "1.2.0",
            "_view_name": "LayoutView",
            "align_content": null,
            "align_items": null,
            "align_self": null,
            "border": null,
            "bottom": null,
            "display": null,
            "flex": null,
            "flex_flow": null,
            "grid_area": null,
            "grid_auto_columns": null,
            "grid_auto_flow": null,
            "grid_auto_rows": null,
            "grid_column": null,
            "grid_gap": null,
            "grid_row": null,
            "grid_template_areas": null,
            "grid_template_columns": null,
            "grid_template_rows": null,
            "height": null,
            "justify_content": null,
            "justify_items": null,
            "left": null,
            "margin": null,
            "max_height": null,
            "max_width": null,
            "min_height": null,
            "min_width": null,
            "object_fit": null,
            "object_position": null,
            "order": null,
            "overflow": null,
            "overflow_x": null,
            "overflow_y": null,
            "padding": null,
            "right": null,
            "top": null,
            "visibility": null,
            "width": null
          }
        },
        "24a34ec93e544ebc9fcfb73a89163558": {
          "model_module": "@jupyter-widgets/controls",
          "model_name": "DescriptionStyleModel",
          "model_module_version": "1.5.0",
          "state": {
            "_model_module": "@jupyter-widgets/controls",
            "_model_module_version": "1.5.0",
            "_model_name": "DescriptionStyleModel",
            "_view_count": null,
            "_view_module": "@jupyter-widgets/base",
            "_view_module_version": "1.2.0",
            "_view_name": "StyleView",
            "description_width": ""
          }
        }
      }
    }
  },
  "cells": [
    {
      "cell_type": "markdown",
      "source": [
        "### imports"
      ],
      "metadata": {
        "id": "jQG3_QWmUnPa"
      }
    },
    {
      "cell_type": "code",
      "execution_count": null,
      "metadata": {
        "id": "fdFTcvkndoVp"
      },
      "outputs": [],
      "source": [
        "import numpy as np\n",
        "import itertools\n",
        "from scipy.linalg import lu\n",
        "import time\n",
        "from tqdm.notebook import tqdm\n",
        "import matplotlib.pyplot as plt"
      ]
    },
    {
      "cell_type": "markdown",
      "source": [
        "# Recall determinant definition\n",
        "\n",
        "From the lecture:\n",
        "\n",
        "The determinant of a square matrix $A$ is defined as,\n",
        "$$\\det A = \\sum_{\\sigma \\in S_n} \\mathrm{sgn}({\\sigma})\\prod^n_{i=1} a_{i, \\sigma_i}$$\n",
        "where ,\n",
        "- $S_n$ is the set of all **permutations** of the numbers $1, \\ldots, n$,\n",
        "- $\\mathrm{sgn}$ is the **signature** of the permutation ( $(-1)^p$, where $p$ is the number of transpositions to be made).\n",
        "\n",
        "\n",
        "# Alternative definition (from properties).\n",
        "\n",
        "Determinant is a function $f: \\mathbf{R}^{n \\times n} \\to \\mathbf{R}$ such that\n",
        "- $f(Id) = 1$\n",
        "- $f(M)=-f(swap_{i,j}(M))$, where $swap_{i,j}$ swaps columns $i$ and $j$ in matrix\n",
        "- $k \\cdot f(M) = f(mul_{i}(M, k))$, where $mul_{i}$ multiplies $i$th column of matrix by k\n",
        "- $f(M) = f(addcol_{i, j}(M))$, where $addcol_{i, j}$ adds column $j$ of matrix to column $i$.\n",
        "\n",
        "This function exists and is unique (no proof)\n",
        "\n"
      ],
      "metadata": {
        "id": "xQ_V8G_4dyVS"
      }
    },
    {
      "cell_type": "markdown",
      "source": [
        "# Row expansion (Laplace expansion)\n",
        "\n",
        "The Laplace expansion, or cofactor expansion, is a method for calculating the determinant of a square matrix. This expansion can be applied along any row or column of the matrix.\n",
        "\n",
        "\n",
        "$$\n",
        "\\det(A) = \\sum_{j=1}^{n} (-1)^{i+j} a_{ij} \\det(M_{ij})\n",
        "$$\n",
        "\n",
        "where $M_{ij}$ is the $((n-1) \\times (n-1)$ minor matrix obtained by deleting the i-th row and j-th column from \\( A \\).\n",
        "\n",
        "\n",
        "Proof:\n",
        "By direct computation using the Leibniz formula\n",
        "\n",
        "\n",
        "\n",
        "\n",
        "## Determinant of triangular matrix\n",
        "\n",
        "Determinant of an upper-(lower-)triangular matrix $M$ is equal to $\\prod_{i=1}^{n}M_{i,i}$.\n",
        "\n",
        "Proof: row expansion"
      ],
      "metadata": {
        "id": "2SxJyZD0dzYT"
      }
    },
    {
      "cell_type": "markdown",
      "source": [
        "# Leibniz formula usage (CODE)"
      ],
      "metadata": {
        "id": "t-9-MPlpC2Jz"
      }
    },
    {
      "cell_type": "code",
      "source": [
        "\n",
        "def determinant_via_naive_calculation(matrix):\n",
        "    n = matrix.shape[0]\n",
        "    assert matrix.shape == (n, n), \"Matrix must be square\"\n",
        "\n",
        "    # Generate all permutations of row indices\n",
        "    permutations = itertools.permutations(range(n))\n",
        "    det = 0\n",
        "\n",
        "    for perm in permutations:\n",
        "        # Compute the sign of the permutation\n",
        "        ### INSERT CODE -------------------------------------------------------------------------------------------------------------------\n",
        "\n",
        "        # Compute the product of matrix elements for this permutation\n",
        "        ### INSERT CODE -------------------------------------------------------------------------------------------------------------------\n",
        "\n",
        "        # Add to the determinant sum\n",
        "        det += product\n",
        "\n",
        "    return det\n"
      ],
      "metadata": {
        "id": "mTg1CsG-C7gv"
      },
      "execution_count": null,
      "outputs": []
    },
    {
      "cell_type": "code",
      "source": [
        "# Example usage\n",
        "A = np.random.rand(5, 5)\n",
        "print(determinant_via_naive_calculation(A))  # Determinant using Leibniz formula\n",
        "print(np.linalg.det(A))"
      ],
      "metadata": {
        "id": "-STpKhS2Tbn5"
      },
      "execution_count": null,
      "outputs": []
    },
    {
      "cell_type": "markdown",
      "source": [
        "# Usage of row expansion (CODE)"
      ],
      "metadata": {
        "id": "nddYs7Judzh0"
      }
    },
    {
      "cell_type": "code",
      "source": [
        "def determinant_via_row_expansion(matrix):\n",
        "    # Base case for a 2x2 matrix\n",
        "    assert len(matrix.shape) == 2\n",
        "    assert matrix.shape[0] == matrix.shape[1]\n",
        "\n",
        "    if matrix.shape == (2, 2):\n",
        "        return matrix[0, 0] * matrix[1, 1] - matrix[0, 1] * matrix[1, 0]\n",
        "\n",
        "    # Recursive case for larger matrices\n",
        "    det = 0\n",
        "    for col in range(matrix.shape[1]):\n",
        "        # Create the minor matrix by excluding the current row and column\n",
        "        ### INSERT CODE -------------------------------------------------------------------------------------------------------------------\n",
        "        # Calculate the cofactor\n",
        "        ### INSERT CODE -------------------------------------------------------------------------------------------------------------------\n",
        "        # Add the cofactor to the determinant\n",
        "        det += cofactor\n",
        "\n",
        "    return det\n",
        "\n",
        "# Example usage\n",
        "A = np.random.rand(5, 5)\n",
        "print(determinant_via_row_expansion(A), 'Row expansion for determinant computation')\n",
        "print(np.linalg.det(A), 'Library function')\n"
      ],
      "metadata": {
        "id": "BRkI84BedzmA"
      },
      "execution_count": null,
      "outputs": []
    },
    {
      "cell_type": "markdown",
      "source": [
        "# Simple, but time consuming..."
      ],
      "metadata": {
        "id": "7rvGYjADdzqq"
      }
    },
    {
      "cell_type": "code",
      "source": [
        "\n",
        "\n",
        "# Matrix sizes to test\n",
        "matrix_sizes = list(range(2, 10))  # Sizes 2x2 to 7x7\n",
        "\n",
        "# Arrays to store the execution times\n",
        "time_naive = []\n",
        "time_row_expansion = []\n",
        "time_library_function = []\n",
        "\n",
        "for size in tqdm(matrix_sizes):\n",
        "    # Generate a random matrix of the current size\n",
        "    matrix = np.random.rand(size, size)\n",
        "\n",
        "    # Measure execution time of custom functions\n",
        "    start_time = time.time()\n",
        "    determinant_via_naive_calculation(matrix)\n",
        "    time_naive.append(time.time() - start_time)\n",
        "\n",
        "    start_time = time.time()\n",
        "    determinant_via_row_expansion(matrix)\n",
        "    time_row_expansion.append(time.time() - start_time)\n",
        "\n",
        "    # Measure execution time of library function\n",
        "    start_time = time.time()\n",
        "    np.linalg.det(matrix)\n",
        "    time_library_function.append(time.time() - start_time)\n",
        "\n",
        "# Plotting the results\n",
        "plt.plot(matrix_sizes, time_naive, label=\"Leibniz formula\")\n",
        "plt.plot(matrix_sizes, time_row_expansion, label=\"Row Expansion\")\n",
        "plt.plot(matrix_sizes, time_library_function, label=\"Library Function\")\n",
        "plt.xlabel(\"Matrix Size (n x n)\")\n",
        "plt.ylabel(\"Execution Time (seconds)\")\n",
        "plt.title(\"Execution Time vs. Matrix Size for Determinant Calculation\")\n",
        "plt.yscale('log')\n",
        "plt.legend()\n",
        "plt.show()"
      ],
      "metadata": {
        "colab": {
          "base_uri": "https://localhost:8080/",
          "height": 504,
          "referenced_widgets": [
            "4e1f8a17b74245e593da3be578546fcc",
            "6d5138be52ac430f9551c32fc09c8830",
            "5717694de07a408590b4038d3c9468c2",
            "8020ac2643d4474f9f5ddcf2608051f5",
            "aae73b57e9bc4df0a47152bd088704c0",
            "2c5e71a1a70b49a6999934a429389850",
            "8efabbff93db40a28df39f0ca8004d4c",
            "17d2276cc3fe4d6493a558325094bb62",
            "6b5f47ee9fac4668896e6466f19d9c3e",
            "bb405eb79fce458aa656b1d1835d9a1a",
            "24a34ec93e544ebc9fcfb73a89163558"
          ]
        },
        "id": "himNjgrZdzyX",
        "outputId": "c11fa29a-6d42-42d7-d52a-b0e98581f0ba"
      },
      "execution_count": null,
      "outputs": [
        {
          "output_type": "display_data",
          "data": {
            "text/plain": [
              "  0%|          | 0/8 [00:00<?, ?it/s]"
            ],
            "application/vnd.jupyter.widget-view+json": {
              "version_major": 2,
              "version_minor": 0,
              "model_id": "4e1f8a17b74245e593da3be578546fcc"
            }
          },
          "metadata": {}
        },
        {
          "output_type": "display_data",
          "data": {
            "text/plain": [
              "<Figure size 640x480 with 1 Axes>"
            ],
            "image/png": "[encoded data removed]"
          },
          "metadata": {}
        }
      ]
    },
    {
      "cell_type": "markdown",
      "source": [
        "# How can we fix"
      ],
      "metadata": {
        "id": "abdykd99dz33"
      }
    },
    {
      "cell_type": "code",
      "source": [
        "def determinant_via_lu(matrix):\n",
        "    # Perform LU decomposition\n",
        "    P, L, U = lu(matrix)\n",
        "\n",
        "    # Compute the determinant of A\n",
        "    # Determinant of A = det(P) * det(L) * det(U)\n",
        "    # Since P is a permutation matrix, det(P) is either 1 or -1\n",
        "    det_P = np.linalg.det(P)\n",
        "    det_L = np.prod(np.diag(L))  # Product of diagonal elements of L\n",
        "    det_U = np.prod(np.diag(U))  # Product of diagonal elements of U\n",
        "\n",
        "    # Compute the determinant of the original matrix\n",
        "    return det_P * det_L * det_U\n",
        "\n",
        "# Example usage\n",
        "A = np.random.rand(5, 5)\n",
        "print(determinant_via_lu(A))\n",
        "print(np.linalg.det(A))  # For comparison\n"
      ],
      "metadata": {
        "colab": {
          "base_uri": "https://localhost:8080/"
        },
        "id": "aObcKnGDdz8b",
        "outputId": "0e4830a1-92f4-40d2-dc5f-3c7248caeb4e"
      },
      "execution_count": null,
      "outputs": [
        {
          "output_type": "stream",
          "name": "stdout",
          "text": [
            "-0.01443327225043806\n",
            "-0.014433272250438053\n"
          ]
        }
      ]
    },
    {
      "cell_type": "markdown",
      "source": [
        "# And we can write LU by ourselves (CODE)"
      ],
      "metadata": {
        "id": "Zg68JP9od0A_"
      }
    },
    {
      "cell_type": "code",
      "source": [
        "def calc_decomp(matrix):\n",
        "    n = matrix.shape[0]\n",
        "    U = matrix.copy()\n",
        "    L = np.eye(n)\n",
        "    P = np.eye(n)\n",
        "    num_swaps = 0  # Track number of row swaps\n",
        "\n",
        "    for i in range(n):\n",
        "        # Find pivot (max element in the current column)\n",
        "        max_row = np.argmax(abs(U[i:, i])) + i\n",
        "\n",
        "        # Swap rows in U if needed\n",
        "        if i != max_row:\n",
        "            U[[i, max_row]] = U[[max_row, i]]\n",
        "            P[[i, max_row]] = P[[max_row, i]]\n",
        "            L[[i, max_row], :i] = L[[max_row, i], :i]\n",
        "            num_swaps += 1  # Increment swap count\n",
        "\n",
        "        # Perform Gaussian elimination\n",
        "        for j in range(i+1, n):\n",
        "            ### INSERT CODE -------------------------------------------------------------------------------------------------------------------\n",
        "\n",
        "    return P, L, U, num_swaps\n",
        "\n",
        "\n"
      ],
      "metadata": {
        "id": "DOXV7alSd0FW"
      },
      "execution_count": null,
      "outputs": []
    },
    {
      "cell_type": "code",
      "source": [
        "A = np.random.rand(5, 5)\n",
        "p, l, u, num_swaps = calc_decomp(A)\n",
        "assert np.allclose(p @ A, l @ u)"
      ],
      "metadata": {
        "id": "JChycDhhdakE"
      },
      "execution_count": null,
      "outputs": []
    },
    {
      "cell_type": "code",
      "source": [
        "def determinant_via_lu_our(matrix):\n",
        "    P, L, U, num_swaps = calc_decomp(matrix)\n",
        "\n",
        "    # The determinant is the product of the diagonal elements of U\n",
        "    det_U = np.prod(np.diag(U))\n",
        "\n",
        "\n",
        "    det_L = np.prod(np.diag(L))\n",
        "    assert det_L - 1 <= 1e-10, \"L smth is wrong with our lu\"\n",
        "\n",
        "    # Adjust for the permutation matrix P (if there were an odd number of row swaps, flip the sign)\n",
        "    det_P = (-1) ** num_swaps\n",
        "\n",
        "    return det_P * det_U\n",
        "\n",
        "# Example usage\n",
        "A = np.random.rand(5, 5)\n",
        "print(determinant_via_lu_our(A))  # Determinant using LU decomposition\n",
        "print(np.linalg.det(A))       # Determinant using NumPy for comparison"
      ],
      "metadata": {
        "id": "pEbcezTWctlK"
      },
      "execution_count": null,
      "outputs": []
    },
    {
      "cell_type": "markdown",
      "source": [
        "# Let's benchmark once more..."
      ],
      "metadata": {
        "id": "A1IQgJQcd0Jx"
      }
    },
    {
      "cell_type": "code",
      "source": [
        "\n",
        "\n",
        "# Matrix sizes to test\n",
        "matrix_sizes = list(range(2, 10))  # Sizes 2x2 to 7x7\n",
        "\n",
        "# Arrays to store the execution times\n",
        "time_naive = []\n",
        "time_row_expansion = []\n",
        "time_library_function = []\n",
        "time_lu = []\n",
        "\n",
        "for size in tqdm(matrix_sizes):\n",
        "    # Generate a random matrix of the current size\n",
        "    matrix = np.random.rand(size, size)\n",
        "\n",
        "    # Measure execution time of custom functions\n",
        "    start_time = time.time()\n",
        "    determinant_via_naive_calculation(matrix)\n",
        "    time_naive.append(time.time() - start_time)\n",
        "\n",
        "    start_time = time.time()\n",
        "    determinant_via_row_expansion(matrix)\n",
        "    time_row_expansion.append(time.time() - start_time)\n",
        "\n",
        "    start_time = time.time()\n",
        "    determinant_via_lu_our(matrix)\n",
        "    time_lu.append(time.time() - start_time)\n",
        "\n",
        "    # Measure execution time of library function\n",
        "    start_time = time.time()\n",
        "    np.linalg.det(matrix)\n",
        "    time_library_function.append(time.time() - start_time)\n",
        "\n",
        "# Plotting the results\n",
        "plt.plot(matrix_sizes, time_naive, label=\"Leibniz formula\")\n",
        "plt.plot(matrix_sizes, time_row_expansion, label=\"Row Expansion\")\n",
        "plt.plot(matrix_sizes, time_lu, label=\"LU usage\")\n",
        "plt.plot(matrix_sizes, time_library_function, label=\"Library Function\")\n",
        "plt.xlabel(\"Matrix Size (n x n)\")\n",
        "plt.ylabel(\"Execution Time (seconds)\")\n",
        "plt.title(\"Execution Time vs. Matrix Size for Determinant Calculation\")\n",
        "plt.yscale('log')\n",
        "plt.legend()\n",
        "plt.show()"
      ],
      "metadata": {
        "id": "I3h05WYBd0OJ"
      },
      "execution_count": null,
      "outputs": []
    },
    {
      "cell_type": "code",
      "source": [
        "\n",
        "\n",
        "# Matrix sizes to test\n",
        "matrix_sizes = list(range(2, 400))\n",
        "\n",
        "# Arrays to store the execution times\n",
        "time_library_function = []\n",
        "time_lu = []\n",
        "\n",
        "for size in tqdm(matrix_sizes):\n",
        "    # Generate a random matrix of the current size\n",
        "    matrix = np.random.rand(size, size)\n",
        "\n",
        "    # Measure execution time of custom functions\n",
        "    start_time = time.time()\n",
        "    determinant_via_lu_our(matrix)\n",
        "    time_lu.append(time.time() - start_time)\n",
        "\n",
        "    # Measure execution time of library function\n",
        "    start_time = time.time()\n",
        "    np.linalg.det(matrix)\n",
        "    time_library_function.append(time.time() - start_time)\n",
        "\n",
        "# Plotting the results\n",
        "\n",
        "time_lu = np.array(time_lu)\n",
        "time_library_function = np.array(time_library_function)\n",
        "\n",
        "time_lu = time_lu / time_lu[0]\n",
        "time_library_function = time_library_function / time_library_function[0]\n",
        "\n"
      ],
      "metadata": {
        "id": "r-xo6PLWVpto"
      },
      "execution_count": null,
      "outputs": []
    },
    {
      "cell_type": "code",
      "source": [
        "plt.plot(matrix_sizes, time_lu, label=\"LU usage\")\n",
        "plt.plot(matrix_sizes, time_library_function, label=\"Library Function\")\n",
        "plt.xlabel(\"Matrix Size (n x n)\")\n",
        "plt.ylabel(\"Execution Time normalized\")\n",
        "plt.title(\"Execution Time vs. Matrix Size for Determinant Calculation\")\n",
        "#plt.yscale('log')\n",
        "plt.legend()\n",
        "plt.show()"
      ],
      "metadata": {
        "id": "1OoKYr7CWKJO"
      },
      "execution_count": null,
      "outputs": []
    },
    {
      "cell_type": "code",
      "source": [],
      "metadata": {
        "id": "rPlQLoodWxnM"
      },
      "execution_count": null,
      "outputs": []
    }
  ]
}