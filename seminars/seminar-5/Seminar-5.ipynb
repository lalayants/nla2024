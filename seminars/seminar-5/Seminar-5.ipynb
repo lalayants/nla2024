{
  "cells": [
    {
      "cell_type": "code",
      "source": [
        "import numpy as np\n",
        "import matplotlib.pyplot as plt\n",
        "from scipy import linalg\n",
        "import scipy"
      ],
      "metadata": {
        "id": "hz40s6dfMSpo"
      },
      "id": "hz40s6dfMSpo",
      "execution_count": 1,
      "outputs": []
    },
    {
      "cell_type": "markdown",
      "source": [
        "# Linear systems"
      ],
      "metadata": {
        "id": "7VQa1lwn_vCU"
      },
      "id": "7VQa1lwn_vCU"
    },
    {
      "cell_type": "markdown",
      "source": [
        "## Outline\n",
        "\n",
        "1. LU decomposition as a sum of rank one matrices\n",
        "2. LU Decomposition with Pivoting\n",
        "3. Overdetermined Linear Systems (Least Squares)<br>\n",
        "    3.1 Geometry of Normal Equation <br>\n",
        "    3.2 Pseudoinverse <br>\n",
        "    3.3 Pseudoinverse via SVD <br>\n",
        "    3.4 QR approach <br>\n",
        "    3.5 Linear Regression"
      ],
      "metadata": {
        "id": "FOrCXR7c_v4y"
      },
      "id": "FOrCXR7c_v4y"
    },
    {
      "cell_type": "markdown",
      "source": [
        "In many applications, we encounter **overdetermined systems** of linear equations, where there are more equations than unknowns, represented as\n",
        "\n",
        "$$ Ax = b. $$\n",
        "\n",
        "These systems often lack an exact solution.\n",
        "\n",
        "To address this, we can use the **least squares method**, which finds an approximate solution by minimizing the residual error:\n",
        "\n",
        "$$ x = \\arg\\min_x \\| Ax - b \\|_2 $$"
      ],
      "metadata": {
        "id": "S5xfjkRB7Xbx"
      },
      "id": "S5xfjkRB7Xbx"
    },
    {
      "cell_type": "markdown",
      "source": [
        "## Overdetermined Linear Systems"
      ],
      "metadata": {
        "id": "9p1Azz6-lvmg"
      },
      "id": "9p1Azz6-lvmg"
    },
    {
      "cell_type": "markdown",
      "source": [
        "Many applications lead to unsolvable linear equations $Ax = b$, where the number of equations is greater, than the number of unknowns.\n",
        "\n",
        "The least squares method chooses the solution as\n",
        "\n",
        "$$ x = \\arg\\min_x \\| Ax - b \\|_2$$"
      ],
      "metadata": {
        "id": "ewELcWNpmBHs"
      },
      "id": "ewELcWNpmBHs"
    },
    {
      "cell_type": "markdown",
      "source": [
        "### The Normal Equation\n",
        "\n",
        "The solution to the least squares problem satisfies the **normal equation**:\n",
        "\n",
        "$$ A^T A x = A^T b $$\n",
        "\n",
        "When $ A $ has full column rank, the matrix $ A^T A $ is **positive definite**, allowing us to solve this equation efficiently with **Cholesky decomposition**:\n",
        "\n",
        "$$ A^T A = R^T R $$\n",
        "\n",
        "where $ R $ is an upper triangular matrix (and $ R^T $ is lower triangular). This leads to the following set of equations:\n",
        "\n",
        "$$\n",
        "\\begin{align}\n",
        "    R^T y &= A^T b \\\\\n",
        "    R x &= y\n",
        "\\end{align}\n",
        "$$\n",
        "\n",
        "However, solving the normal equations directly can be numerically unstable, especially for larger problems. This approach is generally safe for small problems, but for stability, other methods are recommended. If the pivots in Gaussian elimination are small, **LU decomposition** may fail, whereas **Cholesky decomposition** remains stable in these cases."
      ],
      "metadata": {
        "id": "Jx9G873_8D6W"
      },
      "id": "Jx9G873_8D6W"
    },
    {
      "cell_type": "code",
      "source": [
        "# Cholesky Decomposition Method\n",
        "def leastsq_chol(A, b):\n",
        "    R = scipy.linalg.cholesky(A.T @ A)\n",
        "    w = scipy.linalg.solve_triangular(R, A.T @ b, trans='T')\n",
        "    return scipy.linalg.solve_triangular(R, w)"
      ],
      "metadata": {
        "id": "tLbUY-9Ys3n-"
      },
      "id": "tLbUY-9Ys3n-",
      "execution_count": 2,
      "outputs": []
    },
    {
      "cell_type": "markdown",
      "source": [
        "### The Pseudoinverse\n",
        "\n",
        "In linear algebra, not all matrices have an inverse, particularly when a system of equations has no solution or many solutions. The **Moore-Penrose pseudoinverse** offers a way to find an approximate solution that minimizes error, even when a unique solution doesn’t exist.\n",
        "\n",
        "In the lecture, the pseudoinverse is defined as:\n",
        "\n",
        "$$ A^{\\dagger} = \\lim_{\\alpha \\to 0} (A^T A + \\alpha I)^{-1} A^T $$\n",
        "\n",
        "Alternatively,\n",
        "\n",
        "$$ A^{\\dagger} = \\lim_{\\alpha \\to 0} A^T (A A^T + \\alpha I)^{-1} $$\n",
        "\n",
        "These limits exist even if $ (A^T A)^{-1} $ or $ (A A^T)^{-1} $ do not. Later, we will see how this relates to **Tikhonov regularization**.\n",
        "\n",
        "If $ A $ has full column rank, the pseudoinverse simplifies to:\n",
        "\n",
        "$$ A^{\\dagger} = (A^T A)^{-1} A^T $$\n"
      ],
      "metadata": {
        "id": "lm44HXeq8hIY"
      },
      "id": "lm44HXeq8hIY"
    },
    {
      "cell_type": "markdown",
      "source": [
        "### Computing the Pseudoinverse Using SVD\n",
        "\n",
        "Another way to compute the pseudoinverse is through the **Singular Value Decomposition (SVD)** $ A = U \\Sigma V^T $:\n",
        "\n",
        "$$ A^{\\dagger} = V \\Sigma^{\\dagger} U^T $$\n",
        "\n",
        "In this approach, we invert the diagonal entries of $ \\Sigma $ where possible.\n",
        "\n",
        "With the pseudoinverse $ A^{\\dagger} $, we can write the solution to $ Ax = b $ as:\n",
        "\n",
        "$$ x = A^{\\dagger} b $$"
      ],
      "metadata": {
        "id": "EXqJZw_K9CAJ"
      },
      "id": "EXqJZw_K9CAJ"
    },
    {
      "cell_type": "markdown",
      "source": [
        "### Example: Solving a System Using Pseudoinverse\n",
        "\n",
        "Let’s now consider the toy matrix and system of equations:\n",
        "\n",
        "$$ \\begin{bmatrix} 1 & -1 \\\\ 2 & 1 \\\\ -1 & 3 \\end{bmatrix} x = \\begin{bmatrix} 0 \\\\ 3 \\\\ 2 \\end{bmatrix} $$"
      ],
      "metadata": {
        "id": "EiUm7unL9eAQ"
      },
      "id": "EiUm7unL9eAQ"
    },
    {
      "cell_type": "code",
      "source": [
        "# Pseudo-inverse Method using Matrix Inversion\n",
        "def leastsq_pinv(A, b):\n",
        "    return np.linalg.inv(A.T @ A) @ A.T @ b"
      ],
      "metadata": {
        "id": "6stWGXj33df6"
      },
      "id": "6stWGXj33df6",
      "execution_count": 3,
      "outputs": []
    },
    {
      "cell_type": "code",
      "source": [
        "# Pseudo-inverse Method using SVD\n",
        "def leastsq_pinv_svd(A, b):\n",
        "    U, S, Vh = scipy.linalg.svd(A)\n",
        "    S_plus = np.zeros(A.shape).T\n",
        "    S_plus[:S.shape[0], :S.shape[0]] = np.linalg.inv(np.diag(S))\n",
        "    return Vh.T @ S_plus @ U.T @ b"
      ],
      "metadata": {
        "id": "GBwmg2C7vD2U"
      },
      "id": "GBwmg2C7vD2U",
      "execution_count": 4,
      "outputs": []
    },
    {
      "cell_type": "markdown",
      "source": [
        "Let's now return to our toy matrix and consider the system\n",
        "\n",
        "$$\\begin{bmatrix} 1 & -1 \\\\ 2 & 1 \\\\ -1 & 3 \\end{bmatrix} x =\\begin{bmatrix} 0 \\\\ 3 \\\\ 2 \\end{bmatrix} $$"
      ],
      "metadata": {
        "id": "37suxk1fvHFS"
      },
      "id": "37suxk1fvHFS"
    },
    {
      "cell_type": "code",
      "source": [
        "A = np.array([[1., -1.], [2., 1.], [-1., 3.]])\n",
        "b = np.array([[0.], [3.], [2.]])"
      ],
      "metadata": {
        "id": "sHH09DC2MENT"
      },
      "id": "sHH09DC2MENT",
      "execution_count": 5,
      "outputs": []
    },
    {
      "cell_type": "code",
      "source": [
        "print(\"Condition number of A:\\n\", np.linalg.cond(A))"
      ],
      "metadata": {
        "colab": {
          "base_uri": "https://localhost:8080/"
        },
        "id": "2iIrQU8H4QdX",
        "outputId": "372db561-5347-4829-aa97-9840c8d47717"
      },
      "id": "2iIrQU8H4QdX",
      "execution_count": 6,
      "outputs": [
        {
          "output_type": "stream",
          "name": "stdout",
          "text": [
            "Condition number of A:\n",
            " 1.486099875177604\n"
          ]
        }
      ]
    },
    {
      "cell_type": "code",
      "source": [
        "A_pinv = np.linalg.pinv(A)\n",
        "x_sol = A_pinv @ b\n",
        "print(\"\\n Solution by using pseudoinverse: \\n\", x_sol)"
      ],
      "metadata": {
        "colab": {
          "base_uri": "https://localhost:8080/"
        },
        "id": "iFgq7qdY-wt5",
        "outputId": "6b1fa758-90f5-476b-ac4c-90177efacd92"
      },
      "id": "iFgq7qdY-wt5",
      "execution_count": 7,
      "outputs": [
        {
          "output_type": "stream",
          "name": "stdout",
          "text": [
            "\n",
            " Solution by using pseudoinverse: \n",
            " [[1.]\n",
            " [1.]]\n"
          ]
        }
      ]
    },
    {
      "cell_type": "code",
      "source": [
        "x_1 = np.linspace(-3, 3, 100)\n",
        "x_2_1 = x_1\n",
        "x_2_2 = 3. - 2. * x_1\n",
        "x_2_3 =(2. - x_1) / 3\n",
        "\n",
        "plt.plot(x_1, x_2_1)\n",
        "plt.plot(x_1, x_2_2)\n",
        "plt.plot(x_1, x_2_3)\n",
        "plt.scatter(x_sol[0], x_sol[1], c='r')\n",
        "\n",
        "plt.xlim(0., 2.)\n",
        "plt.ylim(-0.5, 2.)\n",
        "plt.show()"
      ],
      "metadata": {
        "colab": {
          "base_uri": "https://localhost:8080/",
          "height": 435
        },
        "id": "H-GapDCr-Qqe",
        "outputId": "5453f939-e6d9-41d3-e230-d155bc4efb06"
      },
      "id": "H-GapDCr-Qqe",
      "execution_count": 8,
      "outputs": [
        {
          "output_type": "display_data",
          "data": {
            "text/plain": [
              "<Figure size 640x480 with 1 Axes>"
            ],
            "image/png": "[encoded data removed]"
          },
          "metadata": {}
        }
      ]
    },
    {
      "cell_type": "markdown",
      "source": [
        "### QR Decomposition for Solving Least Squares Problem\n",
        "\n",
        "If $ A $ has full column rank, a **QR decomposition** exists for $ A $:\n",
        "\n",
        "$$ A = QR $$\n",
        "\n",
        "This allows us to rewrite the normal equations as:\n",
        "\n",
        "$$ R^T Q^T Q R x = R^T Q^T b $$\n",
        "\n",
        "Since $ Q^T Q = I $, this further simplifies to:\n",
        "\n",
        "$$ R x = Q^T b. $$"
      ],
      "metadata": {
        "id": "_jUnw-bw1ktM"
      },
      "id": "_jUnw-bw1ktM"
    },
    {
      "cell_type": "code",
      "source": [
        "# QR Decomposition Method\n",
        "def leastsq_qr(A, b):\n",
        "    Q, R = scipy.linalg.qr(A, mode='economic')\n",
        "    return scipy.linalg.solve_triangular(R, Q.T @ b)"
      ],
      "metadata": {
        "id": "d6Dx9VDfwCbv"
      },
      "id": "d6Dx9VDfwCbv",
      "execution_count": 9,
      "outputs": []
    },
    {
      "cell_type": "markdown",
      "source": [
        "### Linear Regression"
      ],
      "metadata": {
        "id": "439WStZCwHkX"
      },
      "id": "439WStZCwHkX"
    },
    {
      "cell_type": "code",
      "source": [
        "def SyntheticData(x, corr_col=False, noise=0.1, num_points=100):\n",
        "    A = np.random.randn(num_points, len(x) - 1)\n",
        "    A = np.hstack((A, np.ones((num_points, 1))))\n",
        "    if corr_col and len(x) > 2:\n",
        "        A[:, 2] = A[:, 1] + np.random.rand(num_points) * noise * 1e-4\n",
        "    noise = np.random.randn(num_points, 1) * noise\n",
        "    b = A @ x.reshape((-1, 1)) + noise\n",
        "    return A, b"
      ],
      "metadata": {
        "id": "hVRAIeoI1ann"
      },
      "id": "hVRAIeoI1ann",
      "execution_count": 10,
      "outputs": []
    },
    {
      "cell_type": "code",
      "source": [
        "x_true = np.array([2.0, 1.0])\n",
        "\n",
        "A, b = SyntheticData(x_true, num_points=1000)\n",
        "\n",
        "x_chol = leastsq_chol(A, b)\n",
        "x_pinv = leastsq_pinv(A, b)\n",
        "x_svd = leastsq_pinv_svd(A, b)\n",
        "x_qr = leastsq_qr(A, b)\n",
        "\n",
        "print(\"Condition number of A:\\n\", np.linalg.cond(A))\n",
        "\n",
        "print(\"True coefficients:\\n\", x_true)\n",
        "print(\"Cholesky solution:\\n\", x_chol.flatten())\n",
        "print(\"Pseudo-inverse solution:\\n\", x_pinv.flatten())\n",
        "print(\"SVD solution:\\n\", x_svd.flatten())\n",
        "print(\"QR solution:\\n\", x_qr.flatten())\n",
        "\n",
        "plt.figure(figsize=(10, 6))\n",
        "plt.scatter(A[:, 0], b, label='Data Points', color='blue', alpha=0.5)\n",
        "\n",
        "plt.plot(A[:, 0], A @ x_true, label='True Line', color='green')\n",
        "plt.plot(A[:, 0], A @ x_chol, label='Cholesky Fit', color='red')\n",
        "plt.plot(A[:, 0], A @ x_pinv, label='Pseudo-inverse Fit', color='purple')\n",
        "plt.plot(A[:, 0], A @ x_svd, label='SVD Fit', color='orange')\n",
        "plt.plot(A[:, 0], A @ x_qr, label='QR Fit', color='cyan')\n",
        "\n",
        "plt.xlabel('x')\n",
        "plt.ylabel('y')\n",
        "plt.legend()\n",
        "plt.title('1D Linear Regression')\n",
        "plt.show()"
      ],
      "metadata": {
        "colab": {
          "base_uri": "https://localhost:8080/",
          "height": 783
        },
        "id": "jnPFGg3Zrr6P",
        "outputId": "9c1f19ea-9fb2-42bb-a282-182dcc13e229"
      },
      "id": "jnPFGg3Zrr6P",
      "execution_count": 11,
      "outputs": [
        {
          "output_type": "stream",
          "name": "stdout",
          "text": [
            "Condition number of A:\n",
            " 1.0244254246033382\n",
            "True coefficients:\n",
            " [2. 1.]\n",
            "Cholesky solution:\n",
            " [2.00447795 0.99995264]\n",
            "Pseudo-inverse solution:\n",
            " [2.00447795 0.99995264]\n",
            "SVD solution:\n",
            " [2.00447795 0.99995264]\n",
            "QR solution:\n",
            " [2.00447795 0.99995264]\n"
          ]
        },
        {
          "output_type": "display_data",
          "data": {
            "text/plain": [
              "<Figure size 1000x600 with 1 Axes>"
            ],
            "image/png": "[encoded data removed]"
          },
          "metadata": {}
        }
      ]
    },
    {
      "cell_type": "markdown",
      "source": [
        "Finally, let’s consider the case where $ A $ does not have full column rank."
      ],
      "metadata": {
        "id": "P1jiYnOD5kGp"
      },
      "id": "P1jiYnOD5kGp"
    },
    {
      "cell_type": "code",
      "source": [
        "x_true = np.array([2.0, 3.0, -1.0, 1.0])\n",
        "\n",
        "A, b = SyntheticData(x_true, corr_col=True, num_points=1000)\n",
        "\n",
        "x_chol = leastsq_chol(A, b)\n",
        "x_pinv = leastsq_pinv(A, b)\n",
        "x_svd = leastsq_pinv_svd(A, b)\n",
        "x_qr = leastsq_qr(A, b)\n",
        "\n",
        "print(\"Condition number of A:\\n\", np.linalg.cond(A))\n",
        "\n",
        "print(\"True coefficients:\\n\", x_true)\n",
        "print(\"Cholesky solution:\\n\", x_chol.flatten())\n",
        "print(\"Pseudo-inverse solution:\\n\", x_pinv.flatten())\n",
        "print(\"SVD solution:\\n\", x_svd.flatten())\n",
        "print(\"QR solution:\\n\", x_qr.flatten())"
      ],
      "metadata": {
        "colab": {
          "base_uri": "https://localhost:8080/"
        },
        "id": "4CN8zRcbrr4M",
        "outputId": "2229451d-d1ac-49c1-80a0-76a1fda26595"
      },
      "id": "4CN8zRcbrr4M",
      "execution_count": 12,
      "outputs": [
        {
          "output_type": "stream",
          "name": "stdout",
          "text": [
            "Condition number of A:\n",
            " 701358.942031971\n",
            "True coefficients:\n",
            " [ 2.  3. -1.  1.]\n",
            "Cholesky solution:\n",
            " [   2.0023748   673.23409979 -671.22909701    1.01128535]\n",
            "Pseudo-inverse solution:\n",
            " [   2.00237495  673.23379791 -671.22879157    1.01128535]\n",
            "SVD solution:\n",
            " [   2.00237481  673.21088747 -671.20588469    1.01128523]\n",
            "QR solution:\n",
            " [   2.00237481  673.21088747 -671.20588468    1.01128523]\n"
          ]
        }
      ]
    },
    {
      "cell_type": "markdown",
      "source": [
        " In such cases Tikhonov regularization is more effective for finding stable solutions."
      ],
      "metadata": {
        "id": "ttsUsG-D_ZTV"
      },
      "id": "ttsUsG-D_ZTV"
    },
    {
      "cell_type": "markdown",
      "source": [
        "**<u>Exercise</u>** Show that the problem\n",
        "\n",
        "$$ \\min \\|x'\\|_2 \\quad \\text{s.t. } x' = \\arg\\min_x \\| Ax - b \\|_2^2 $$\n",
        "\n",
        "is equivalent to the following regularization problem:\n",
        "\n",
        "$$ \\min_x \\| Ax - b \\|_2^2 + \\lambda \\|x\\|_2^2. $$\n",
        "\n",
        "Note that the analytical solution is available in this case as well:\n",
        "\n",
        "$$ x^* = (A^T A + \\lambda I)^{-1}  X^T b.$$\n",
        "\n",
        "The analytical solutions described earlier involve inverting the matrix $A^T A$ (or $A^T A + \\lambda I$), which is computationally expensive. This brings us to iterative methods, which are generally more efficient and have become the primary approach for numerous applications.\n",
        "\n",
        "**Gradient descent** is one of the most widely used optimization methods. It is important to note that the objective function (e.g., the loss function, which is the residual in our case: $\\mathcal{L}(x) = \\|Ax - b\\|_2^2$) should be differentiable with respect to the unknown $ x $. Using gradient descent, the weight vector at each step can be updated as follows:\n",
        "\n",
        "$$ x^{k+1} = x^k - \\beta_k \\nabla \\mathcal{L}(x^k) $$"
      ],
      "metadata": {
        "id": "w3-qXhYeF0__"
      },
      "id": "w3-qXhYeF0__"
    },
    {
      "cell_type": "markdown",
      "source": [
        "**<u>Exercise</u>** Compute the gradient of $$\\mathcal{L}_{\\lambda}(x) = \\|Ax - b\\|_2^2 + \\lambda \\|x\\|_2^2.$$\n",
        "\n",
        "To further improve efficiency, one could use **stochastic gradient descent (SGD)**, which computes the gradient over a randomly selected subset of data points, rather than the full dataset $A$."
      ],
      "metadata": {
        "id": "f3HOUmxpGsd1"
      },
      "id": "f3HOUmxpGsd1"
    },
    {
      "cell_type": "markdown",
      "source": [
        "These ideas will be explored further in the second homework assignment... stay tuned!"
      ],
      "metadata": {
        "id": "9fd2aIBvF1dV"
      },
      "id": "9fd2aIBvF1dV"
    },
    {
      "cell_type": "code",
      "source": [],
      "metadata": {
        "id": "bkf5DI4h02ks"
      },
      "id": "bkf5DI4h02ks",
      "execution_count": 12,
      "outputs": []
    }
  ],
  "metadata": {
    "colab": {
      "provenance": []
    },
    "language_info": {
      "name": "python"
    },
    "kernelspec": {
      "name": "python3",
      "display_name": "Python 3"
    }
  },
  "nbformat": 4,
  "nbformat_minor": 5
}