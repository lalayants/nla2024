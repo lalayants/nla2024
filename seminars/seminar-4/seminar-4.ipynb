{
 "cells": [
  {
   "cell_type": "code",
   "execution_count": null,
   "metadata": {
    "id": "q8oz1cGKk0Sl"
   },
   "outputs": [],
   "source": [
    "import numpy as np\n",
    "import matplotlib.pyplot as plt\n",
    "import seaborn as sns\n",
    "from PIL import Image"
   ]
  },
  {
   "cell_type": "markdown",
   "metadata": {
    "id": "wG-5xhcr6VWc"
   },
   "source": [
    "## Outline\n",
    "\n",
    "1. Four Fundamental Subspaces<br>\n",
    "2. Skeleton decomposition\n",
    "3. Low-rank Approximation\n",
    "4. SVD and its Applications<br>\n",
    "    4.1 Geometric interpretation <br>\n",
    "    4.2 Image Reconstruction <br>"
   ]
  },
  {
   "cell_type": "markdown",
   "metadata": {
    "id": "PPYbyH8TkzSv"
   },
   "source": [
    "## Four Fundamental Subspaces"
   ]
  },
  {
   "cell_type": "markdown",
   "metadata": {
    "id": "P5z0lwKjowz2"
   },
   "source": [
    "Let\n",
    "$$A = \\begin{bmatrix} 1 & -1 \\\\ 2 & 1 \\\\ -1 & 3 \\end{bmatrix}$$\n",
    "\n",
    "1. Find the column space $\\text{col}(A)$ and null space $\\text{null}(A)$ of $A$.\n",
    "2. Determine if $\\vec{b} = \\begin{bmatrix} 1 \\\\ 2 \\\\ 3 \\end{bmatrix} \\in \\text{col}(A)$.\n",
    "3. Determine if $\\vec{u} = \\begin{bmatrix} 1 \\\\ 1 \\end{bmatrix} \\in \\text{null}(A)$."
   ]
  },
  {
   "cell_type": "code",
   "execution_count": null,
   "metadata": {
    "id": "g0mftPGqaI8b"
   },
   "outputs": [],
   "source": [
    "def swap(matrix, row1, row2):\n",
    "    \"\"\"Swap two rows in a matrix.\"\"\"\n",
    "    matrix[[row1, row2]] = matrix[[row2, row1]]\n",
    "    return matrix\n",
    "\n",
    "def scale(matrix, row, scalar):\n",
    "    \"\"\"Multiply all entries in a specified row by a scalar.\"\"\"\n",
    "    matrix[row] *= scalar\n",
    "    return matrix\n",
    "\n",
    "def replace(matrix, row1, row2, scalar):\n",
    "    \"\"\"Replace a row by itself plus a scalar multiple of another row.\"\"\"\n",
    "    matrix[row1] += scalar * matrix[row2]\n",
    "    return matrix"
   ]
  },
  {
   "cell_type": "code",
   "execution_count": null,
   "metadata": {
    "id": "RN2PgArJbovB"
   },
   "outputs": [],
   "source": [
    "M = np.array([[1, -1, 0], [2, 1, 0], [-1, 3, 0]], dtype=float)"
   ]
  },
  {
   "cell_type": "code",
   "execution_count": null,
   "metadata": {
    "colab": {
     "base_uri": "https://localhost:8080/"
    },
    "id": "5Cw2sYSkfM6L",
    "outputId": "fde50dba-d3cb-4fa9-a316-b33b757ab876"
   },
   "outputs": [],
   "source": [
    "M1 = replace(M.copy(), 1, 0, -2)\n",
    "M2 = replace(M1, 2, 0, 1)\n",
    "M3 = scale(M2, 1, 1/3)\n",
    "M4 = replace(M3, 2, 1, -2)\n",
    "\n",
    "print(\"Reduced Matrix M4:\")\n",
    "print(M4)"
   ]
  },
  {
   "cell_type": "code",
   "execution_count": null,
   "metadata": {
    "colab": {
     "base_uri": "https://localhost:8080/"
    },
    "id": "mw4RtC6rfgOp",
    "outputId": "4b7f1ff8-87f7-4e36-a78e-f37b3852e95d"
   },
   "outputs": [],
   "source": [
    "M_augm = np.array([[1, -1, 1], [2, 1, 2], [-1, 3, 1]], dtype=float)\n",
    "M"
   ]
  },
  {
   "cell_type": "code",
   "execution_count": null,
   "metadata": {
    "colab": {
     "base_uri": "https://localhost:8080/"
    },
    "id": "wq9QIwdsfgMZ",
    "outputId": "c71f047f-0f44-462a-be1f-4f9bd7573863"
   },
   "outputs": [],
   "source": [
    "# Row Reduction Example\n",
    "M1 = replace(M_augm.copy(), 1, 0, -2)\n",
    "M2 = replace(M1, 2, 0, 1)\n",
    "M3 = scale(M2, 1, 1/3)\n",
    "M4 = replace(M3, 2, 1, -2)\n",
    "M4"
   ]
  },
  {
   "cell_type": "markdown",
   "metadata": {
    "id": "yFe4mRR46HyP"
   },
   "source": [
    "$$A = \\begin{bmatrix} 1 & -1 \\\\ 2 & 1 \\\\ -1 & 3 \\end{bmatrix} \\sim\n",
    "\\begin{bmatrix} 1 & -1 \\\\ 0 & 3 \\\\ 0 & 2 \\end{bmatrix} \\sim\n",
    "\\begin{bmatrix} 1 & -1 \\\\ 0 & 1 \\\\ 0 & 0 \\end{bmatrix} \\sim\n",
    "\\begin{bmatrix} 1 & 0 \\\\ 0 & 1 \\\\ 0 & 0 \\end{bmatrix} $$\n",
    "\n",
    "$\\mathrm{im}(A) = \\mathrm{col}(A) = \\mathrm{span}\\left\\{ \\begin{bmatrix} 1 \\\\ 2 \\\\ -1 \\end{bmatrix}, \\begin{bmatrix} -1 \\\\ 1 \\\\ 3 \\end{bmatrix} \\right\\}$\n",
    "\n",
    "$\\mathrm{im}(A^T) =  \\mathrm{col}(A^T) = \\mathrm{span}\\left\\{ \\begin{bmatrix} 1 \\\\ 0 \\end{bmatrix}, \\begin{bmatrix} 0 \\\\ 1 \\end{bmatrix} \\right\\}$\n",
    "\n",
    "$\\mathrm{ker}(A) = \\mathrm{null}(A) = \\{ 0 \\}$\n",
    "\n",
    "$\\mathrm{ker}(A^T) = \\mathrm{null}(A^T) =  \\mathrm{span}\\left\\{ \\begin{bmatrix} 0 \\\\ 0 \\\\ 1 \\end{bmatrix} \\right\\}$\n",
    "\n"
   ]
  },
  {
   "cell_type": "markdown",
   "metadata": {
    "id": "-oHlW40hlGga"
   },
   "source": [
    "## Skeleton decomposition"
   ]
  },
  {
   "cell_type": "markdown",
   "metadata": {
    "id": "ddaTS1oIr2wT"
   },
   "source": [
    "$$A = \\sum_{\\alpha = 1}^r U_{\\alpha} V_{\\alpha}^T$$"
   ]
  },
  {
   "cell_type": "markdown",
   "metadata": {
    "id": "FjPRJBsdojls"
   },
   "source": [
    "##Low-rank Approximation"
   ]
  },
  {
   "cell_type": "code",
   "execution_count": null,
   "metadata": {
    "colab": {
     "base_uri": "https://localhost:8080/",
     "height": 367
    },
    "id": "toOLHuM9OTef",
    "outputId": "3a457a12-6eba-44d0-aae2-fe4c50dee4c6"
   },
   "outputs": [],
   "source": [
    "img = Image.open('./sk_campus_img.jpg').convert('L')\n",
    "img_array = np.array(img)\n",
    "original_shape = img_array.shape\n",
    "\n",
    "plt.figure(figsize=(8, 4))\n",
    "plt.imshow(img_array, cmap='gray')\n",
    "plt.title(\"Original Image\")\n",
    "plt.axis('off')\n",
    "plt.show()"
   ]
  },
  {
   "cell_type": "code",
   "execution_count": null,
   "metadata": {
    "colab": {
     "base_uri": "https://localhost:8080/"
    },
    "id": "DLFmQ8v2OTcN",
    "outputId": "7d06a485-2e11-4789-8693-4ac8edc4ca29"
   },
   "outputs": [],
   "source": [
    "U, S, Vt = np.linalg.svd(img_array, full_matrices=False)  # economy SVD\n",
    "U.shape, S.shape, Vt.shape"
   ]
  },
  {
   "cell_type": "code",
   "execution_count": null,
   "metadata": {
    "colab": {
     "base_uri": "https://localhost:8080/",
     "height": 442
    },
    "id": "X5NIKH9-Obej",
    "outputId": "15db22c8-a01e-4446-8157-f7d920c55d61"
   },
   "outputs": [],
   "source": [
    "plt.figure(figsize=(12, 4))\n",
    "\n",
    "plt.subplot(1, 2, 1)\n",
    "plt.semilogy(S / S[0])\n",
    "plt.xlabel(r\"$k$\")\n",
    "plt.ylabel(r\"$\\sigma_k / \\sigma_1$\")\n",
    "plt.title(r\"$\\sigma_k / \\sigma_1$\")\n",
    "plt.grid()\n",
    "\n",
    "\n",
    "cumulative_energy = np.cumsum(S**2) / np.sum(S**2)\n",
    "plt.subplot(1, 2, 2)\n",
    "plt.plot(cumulative_energy)\n",
    "plt.xlabel(r\"$k$\")\n",
    "plt.ylabel(r\"Cumulative Energy\")\n",
    "plt.title(r\"$(\\sum_{i=1}^k \\sigma_i) / \\sum_{i=0}^n \\sigma_i)$\")\n",
    "plt.grid()\n",
    "\n",
    "plt.show()"
   ]
  },
  {
   "cell_type": "code",
   "execution_count": null,
   "metadata": {
    "id": "IwkVTzrnOhr3"
   },
   "outputs": [],
   "source": [
    "def reconstruct_image(k):\n",
    "    return (U[:, :k] @ np.diag(S[:k]) @ Vt[:k, :])"
   ]
  },
  {
   "cell_type": "code",
   "execution_count": null,
   "metadata": {
    "colab": {
     "base_uri": "https://localhost:8080/",
     "height": 429
    },
    "id": "8SeNNSDMOTaD",
    "outputId": "491a8a36-7730-47dd-a7b8-d11c7e3b4e51"
   },
   "outputs": [],
   "source": [
    "ranks = [5, 20, 50, 100, original_shape[1]]\n",
    "plt.figure(figsize=(15, 5))\n",
    "\n",
    "for i, rank in enumerate(ranks, 1):\n",
    "    plt.subplot(1, len(ranks), i)\n",
    "    recon_img = reconstruct_image(rank)\n",
    "    plt.imshow(recon_img, cmap='gray')\n",
    "    plt.title(f'Rank {rank}') if rank!= original_shape[1] else plt.title(f'Original Image')\n",
    "    plt.axis('off')\n",
    "\n",
    "plt.suptitle(\"Low-Rank Approximations of Image\")\n",
    "plt.show()"
   ]
  },
  {
   "cell_type": "markdown",
   "metadata": {
    "id": "itc9VgW1oq6T"
   },
   "source": [
    "## SVD and its Applications"
   ]
  },
  {
   "cell_type": "markdown",
   "metadata": {
    "id": "xzO3LASCPKvi"
   },
   "source": [
    "Singular Value Decomposition (SVD) is a versatile tool in numerical linear algebra, implemented in many programming languages, typically relying on the LAPACK (Linear Algebra Package) library written in Fortran for its underlying computations."
   ]
  },
  {
   "cell_type": "markdown",
   "metadata": {
    "id": "3OxGnpsOpLin"
   },
   "source": [
    "### Geometric interpretation\n",
    "\n"
   ]
  },
  {
   "cell_type": "code",
   "execution_count": null,
   "metadata": {
    "id": "Wntwcg2tn2pG"
   },
   "outputs": [],
   "source": [
    "def plot_transformed_circle_and_vectors(A, plot_singular_vectors=False, singular_values=None, singular_vectors=None,\n",
    "                                        circle_color='black', vector_colors=['blue', 'deeppink'],\n",
    "                                        singular_vector_colors=['red', 'green'],\n",
    "                                        singular_labels=[r'$\\sigma_1 u_1$', r'$\\sigma_2 u_2$'],\n",
    "                                        label_offset=0.2, xlim=(-8, 8), ylim=(-8, 8)):\n",
    "    theta = np.linspace(0, 2 * np.pi, 300)\n",
    "    unit_circle = np.vstack((np.cos(theta), np.sin(theta)))\n",
    "\n",
    "    transformed_circle = A @ unit_circle\n",
    "\n",
    "    plt.plot(transformed_circle[0, :], transformed_circle[1, :], color=circle_color, alpha=0.5)\n",
    "\n",
    "    e1_transformed = A @ np.array([1, 0])\n",
    "    e2_transformed = A @ np.array([0, 1])\n",
    "\n",
    "    for i, vec in enumerate([e1_transformed, e2_transformed]):\n",
    "        color = vector_colors[i]\n",
    "        plt.quiver(0, 0, vec[0], vec[1], angles='xy', scale_units='xy', scale=1, color=color)\n",
    "\n",
    "    if plot_singular_vectors and singular_values is not None and singular_vectors is not None:\n",
    "        for i, (sigma, vec) in enumerate(zip(singular_values, singular_vectors.T)):\n",
    "            vec_scaled = sigma * vec\n",
    "            color = singular_vector_colors[i]\n",
    "            label = singular_labels[i]\n",
    "            plt.quiver(0, 0, vec_scaled[0], vec_scaled[1], angles='xy', scale_units='xy', scale=1, color=color)\n",
    "            plt.text(vec_scaled[0] * (1 + label_offset), vec_scaled[1] * (1 + label_offset), label, color=color, fontsize=12)\n",
    "\n",
    "    plt.axvline(x=0, color='black', lw=1)\n",
    "    plt.axhline(y=0, color='black', lw=1)\n",
    "    plt.xlabel('x')\n",
    "    plt.ylabel('y')\n",
    "    plt.gca().set_aspect('equal', adjustable='box')\n",
    "    plt.xlim(xlim)\n",
    "    plt.ylim(ylim)"
   ]
  },
  {
   "cell_type": "code",
   "execution_count": null,
   "metadata": {
    "colab": {
     "base_uri": "https://localhost:8080/",
     "height": 1000
    },
    "id": "x64M83HKMW9L",
    "outputId": "f0bb7054-9660-4ac1-91ec-90a487e39750"
   },
   "outputs": [],
   "source": [
    "A = np.array([[1, 3], [4, 5]])\n",
    "\n",
    "U, D, Vt = np.linalg.svd(A)\n",
    "\n",
    "print('Unit circle (before transformation):')\n",
    "plot_transformed_circle_and_vectors(np.eye(2), xlim=(-1.5, 1.5), ylim=(-1.5, 1.5))\n",
    "plt.show()\n",
    "\n",
    "print('1st rotation by V (right singular vectors):')\n",
    "plot_transformed_circle_and_vectors(Vt.T, xlim=(-1.5, 1.5), ylim=(-1.5, 1.5))\n",
    "plt.show()\n",
    "\n",
    "print('Scaling by D:')\n",
    "scaling_matrix = np.diag(D) @ Vt\n",
    "plot_transformed_circle_and_vectors(scaling_matrix, xlim=(-8, 8), ylim=(-8, 8))\n",
    "plt.show()\n",
    "\n",
    "print('2nd rotation by U (final transformation by A):')\n",
    "final_transformation = U @ np.diag(D) @ Vt\n",
    "plot_transformed_circle_and_vectors(final_transformation, xlim=(-8, 8), ylim=(-8, 8))\n",
    "plt.show()\n"
   ]
  },
  {
   "cell_type": "code",
   "execution_count": null,
   "metadata": {
    "colab": {
     "base_uri": "https://localhost:8080/",
     "height": 473
    },
    "id": "nIMNVZ37MJZJ",
    "outputId": "9bf84731-13e0-4923-d3e6-2df2288871f4"
   },
   "outputs": [],
   "source": [
    "A = np.array([[1, 3], [4, 5]])\n",
    "\n",
    "U, D, Vt = np.linalg.svd(A)\n",
    "\n",
    "print(\"Transformed unit circle, basis vectors, and singular vectors:\")\n",
    "plot_transformed_circle_and_vectors(A,\n",
    "                                    plot_singular_vectors=True,\n",
    "                                    singular_values=D,\n",
    "                                    singular_vectors=U,\n",
    "                                    singular_labels=[r'$\\sigma_1 u_1$', r'$\\sigma_2 u_2$'])\n",
    "plt.show()\n"
   ]
  },
  {
   "cell_type": "markdown",
   "metadata": {
    "id": "0pz73YJiZ8Qf"
   },
   "source": [
    "## Applications in Image Reconstruction\n",
    "\n",
    "Matrix completion, commonly used for filling missing data, can be applied to image and recommendation systems. A well-known example is movie recommendation systems, where a ratings matrix is often only partially filled, as users have not rated every movie. To provide accurate recommendations, we aim to predict these missing ratings.\n",
    "\n",
    "This task is feasible because user ratings tend to follow patterns, meaning the ratings matrix is often low-rank; only a limited amount of information is needed to approximate it well.\n",
    "\n",
    "A similar approach applies to images, where pixel values often depend on neighboring pixels, making low-rank approximations effective for reconstructing images with missing or corrupted data.\n"
   ]
  },
  {
   "cell_type": "markdown",
   "metadata": {
    "id": "pm6UZ5bTZa6F"
   },
   "source": [
    "## SVD in Facial Recognition: Eigenfaces\n",
    "\n",
    "The \"Eigenfaces for Recognition\" paper introduced a novel approach to facial recognition. Unlike earlier methods that focused on detecting individual features (e.g., eyes or nose), Eigenfaces uses SVD to extract and encode essential information from face images. This encoding allows for efficient comparisons between faces by compressing the most relevant facial information into a low-dimensional representation. This method paved the way for data-driven approaches in face recognition, relying on similarities within the encoded space rather than feature-by-feature comparison.\n"
   ]
  },
  {
   "cell_type": "code",
   "execution_count": null,
   "metadata": {
    "id": "B-maUfwye6DC"
   },
   "outputs": [],
   "source": [
    "import numpy as np\n",
    "import pandas as pd\n",
    "import matplotlib.pyplot as plt\n",
    "import os\n",
    "import cv2\n",
    "\n",
    "from sklearn.datasets import fetch_lfw_people\n",
    "\n",
    "from sklearn.model_selection import train_test_split\n",
    "from sklearn.metrics import classification_report\n",
    "from sklearn.neural_network import MLPClassifier\n",
    "from sklearn.neighbors import KNeighborsClassifier"
   ]
  },
  {
   "cell_type": "code",
   "execution_count": null,
   "metadata": {
    "id": "6i9xiPIZe6BF"
   },
   "outputs": [],
   "source": [
    "from sklearn.datasets import fetch_lfw_people"
   ]
  },
  {
   "cell_type": "code",
   "execution_count": null,
   "metadata": {
    "colab": {
     "base_uri": "https://localhost:8080/"
    },
    "id": "yo4_U0fffKyX",
    "outputId": "0aee2588-474b-4e41-b404-4ccfe62c03e1"
   },
   "outputs": [],
   "source": [
    "lfw_dataset = fetch_lfw_people(min_faces_per_person=100)\n",
    "X, y, target_names = lfw_dataset.data, lfw_dataset.target, lfw_dataset.target_names\n",
    "h, w = lfw_dataset.images.shape[1:3]\n",
    "print(f\"Number of samples: {X.shape[0]}, Image size: {h}x{w}, Unique classes: {len(target_names)}\")\n",
    "\n",
    "\n",
    "X_train, X_test, y_train, y_test = train_test_split(X, y, test_size=0.3, stratify=y, random_state=42)"
   ]
  },
  {
   "cell_type": "code",
   "execution_count": null,
   "metadata": {
    "colab": {
     "base_uri": "https://localhost:8080/",
     "height": 412
    },
    "id": "qe4Jifznmaej",
    "outputId": "c057b464-ffe0-4267-d9f9-3783d192460f"
   },
   "outputs": [],
   "source": [
    "U, S, VT = np.linalg.svd(X_train, full_matrices=False)\n",
    "\n",
    "num_components = 100\n",
    "face_space = VT[:num_components, :]\n",
    "\n",
    "X_train_transformed = X_train @ face_space.T\n",
    "X_test_transformed = X_test @ face_space.T\n",
    "\n",
    "plt.figure(figsize=(8, 4))\n",
    "plt.semilogy(np.arange(len(S)), S / S[0], marker=\"o\")\n",
    "plt.title(\"$\\sigma_k / \\sigma_1$\")\n",
    "plt.xlabel(\"$k$\")\n",
    "plt.ylabel(\"$\\sigma_k / \\sigma_1$\")\n",
    "plt.grid()\n",
    "plt.show()"
   ]
  },
  {
   "cell_type": "code",
   "execution_count": null,
   "metadata": {
    "colab": {
     "base_uri": "https://localhost:8080/",
     "height": 865
    },
    "id": "e0gijeFNnCIr",
    "outputId": "aa25c754-7bfa-4617-9843-f627c4136c57"
   },
   "outputs": [],
   "source": [
    "def plot_reconstructed_images(original, transformed, face_space, h, w, index=0):\n",
    "    reconstructed = transformed[index] @ face_space\n",
    "    fig, ax = plt.subplots(1, 2, figsize=(8, 4))\n",
    "    ax[0].imshow(original[index].reshape(h, w), cmap=\"gray\")\n",
    "    ax[0].set_title(\"Original Image\")\n",
    "    ax[1].imshow(reconstructed.reshape(h, w), cmap=\"gray\")\n",
    "    ax[1].set_title(\"Reconstructed Image\")\n",
    "    plt.show()\n",
    "\n",
    "plot_reconstructed_images(X_train, X_train_transformed, face_space, h, w, index=0)\n",
    "\n",
    "clf_knn = KNeighborsClassifier().fit(X_train_transformed, y_train)\n",
    "clf_mlp = MLPClassifier(hidden_layer_sizes=(1024,), batch_size=256, early_stopping=True).fit(X_train_transformed, y_train)\n",
    "\n",
    "y_pred_knn = clf_knn.predict(X_test_transformed)\n",
    "y_pred_mlp = clf_mlp.predict(X_test_transformed)\n",
    "print(\"k-NN Classifier Report:\\n\", classification_report(y_test, y_pred_knn, target_names=target_names))\n",
    "print(\"MLP Classifier Report:\\n\", classification_report(y_test, y_pred_mlp, target_names=target_names))"
   ]
  },
  {
   "cell_type": "markdown",
   "metadata": {
    "id": "h3io8m3nfXiu"
   },
   "source": [
    "It might seem discouraging, but it's worthwhile to check if the data is imbalanced and go through the steps again (exercise)."
   ]
  }
 ],
 "metadata": {
  "colab": {
   "provenance": []
  },
  "kernelspec": {
   "display_name": "pupa",
   "language": "python",
   "name": "python3"
  },
  "language_info": {
   "codemirror_mode": {
    "name": "ipython",
    "version": 3
   },
   "file_extension": ".py",
   "mimetype": "text/x-python",
   "name": "python",
   "nbconvert_exporter": "python",
   "pygments_lexer": "ipython3",
   "version": "3.11.9"
  }
 },
 "nbformat": 4,
 "nbformat_minor": 0
}
