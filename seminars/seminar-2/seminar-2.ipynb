{
 "cells": [
  {
   "cell_type": "markdown",
   "id": "4b8a1d8d",
   "metadata": {},
   "source": [
    "# Seminar 2\n",
    "\n",
    "\n",
    "Matrix norms, unitary matrices"
   ]
  },
  {
   "cell_type": "code",
   "execution_count": null,
   "id": "5e936c68",
   "metadata": {},
   "outputs": [],
   "source": [
    "import numpy as np"
   ]
  },
  {
   "cell_type": "markdown",
   "id": "6ac842fb",
   "metadata": {},
   "source": [
    "### Useful tools using numpy\n",
    "Commented - equal jax operators for advanced users"
   ]
  },
  {
   "cell_type": "code",
   "execution_count": null,
   "id": "f0fee776",
   "metadata": {},
   "outputs": [],
   "source": [
    "n, m = 3, 3"
   ]
  },
  {
   "cell_type": "code",
   "execution_count": null,
   "id": "f2572bdb",
   "metadata": {},
   "outputs": [],
   "source": [
    "# random matrix\n",
    "\n",
    "np.random.normal(size=(n,m))"
   ]
  },
  {
   "cell_type": "code",
   "execution_count": null,
   "id": "2b90f68e",
   "metadata": {},
   "outputs": [],
   "source": [
    "# Identity matrix\n",
    "\n",
    "np.identity(n)"
   ]
  },
  {
   "cell_type": "code",
   "execution_count": null,
   "id": "f607c9af",
   "metadata": {},
   "outputs": [],
   "source": [
    "# defining your own matrix\n",
    "\n",
    "np.array([[4,  8,  15],\n",
    "           [16, 23, 42],\n",
    "           [0,  0,  0]])"
   ]
  },
  {
   "cell_type": "code",
   "execution_count": null,
   "id": "4e860334",
   "metadata": {},
   "outputs": [],
   "source": [
    "# matrix multiplication\n",
    "\n",
    "a = np.random.normal(size=(n,m))\n",
    "b = np.random.normal(size=(n,m))\n",
    "x = np.random.normal(size=(n,))\n",
    "print(np.matmul(a, b))\n",
    "print()\n",
    "print(np.matmul(a, x))"
   ]
  },
  {
   "cell_type": "code",
   "execution_count": null,
   "id": "1d889166",
   "metadata": {},
   "outputs": [],
   "source": [
    "a = np.random.normal(size=(n,m))\n",
    "for i,j in enumerate(a):\n",
    "    print(i, j[0])"
   ]
  },
  {
   "cell_type": "code",
   "execution_count": null,
   "id": "577bcb8e",
   "metadata": {},
   "outputs": [],
   "source": [
    "a[:,0]"
   ]
  },
  {
   "cell_type": "code",
   "execution_count": null,
   "id": "60d0326a",
   "metadata": {},
   "outputs": [],
   "source": []
  },
  {
   "cell_type": "markdown",
   "id": "c2b492a0",
   "metadata": {},
   "source": [
    "# Matrix Norms Calculation"
   ]
  },
  {
   "cell_type": "markdown",
   "id": "b1c92b45",
   "metadata": {},
   "source": [
    "Important case of operator norms are matrix p-norms, which are defined for $\\|\\cdot\\|_* = \\|\\cdot\\|_{**} = \\|\\cdot\\|_p$\n",
    "\n",
    "Among all p-norms three norms are the most common ones:\n",
    "\n",
    "$p = 1, \\quad \\Vert A \\Vert_{1} = \\displaystyle{\\max_j \\sum_{i=1}^n} |a_{ij}|$\n",
    "\n",
    "$p = 2, \\quad$ spectral norm, denoted by $\\Vert A \\Vert_2$\n",
    "\n",
    "$p = \\infty, \\quad \\Vert A \\Vert_{\\infty} = \\displaystyle{\\max_i \\sum_{j=1}^m} |a_{ij}|$\n",
    "\n",
    "Let us work with = 1 and inf now."
   ]
  },
  {
   "cell_type": "code",
   "execution_count": null,
   "id": "bf9ab455",
   "metadata": {},
   "outputs": [],
   "source": [
    "enumerate(a)"
   ]
  },
  {
   "cell_type": "markdown",
   "id": "ef917c96",
   "metadata": {},
   "source": [
    "### Lets write our own functions to calculate 0 and inf norms:\n"
   ]
  },
  {
   "cell_type": "code",
   "execution_count": null,
   "id": "b24c654e",
   "metadata": {},
   "outputs": [],
   "source": [
    "def p_1_norm(a):\n",
    "    n,m = a.shape\n",
    "    max = 0\n",
    "    for i in range(m):\n",
    "        max = np.max([np.sum(np.abs(a[:,[i]])), max])\n",
    "    return max\n",
    "\n",
    "def p_inf_norm(a):\n",
    "    n,m = a.shape\n",
    "    max = 0\n",
    "    for i in range(n):\n",
    "        max = np.max([np.sum(np.abs(a[i])), max])\n",
    "    return max\n",
    "\n",
    "m, n = 3, 3\n",
    "a = np.random.normal(size=(n,m)) #Random n x m matrix\n",
    "print(a)\n",
    "print(\"p_1 norm: \", p_1_norm(a))\n",
    "print(\"p_inf norm: \", p_inf_norm(a))"
   ]
  },
  {
   "cell_type": "markdown",
   "id": "aef8b481",
   "metadata": {},
   "source": [
    "### Now, make up a toy example matrix for which these two are not equal:"
   ]
  },
  {
   "cell_type": "code",
   "execution_count": null,
   "id": "90f910fa",
   "metadata": {},
   "outputs": [],
   "source": [
    "b = np.array([[1, 0, 0],\n",
    "               [0, 1, 0],\n",
    "               [0, 0, 1]])\n",
    "\n",
    "print(\"p_1 norm: \", p_1_norm(b))\n",
    "print(\"p_inf norm: \", p_inf_norm(b))\n",
    "print(p_1_norm(b) == p_inf_norm(b))"
   ]
  },
  {
   "cell_type": "markdown",
   "id": "29b0fb60",
   "metadata": {},
   "source": [
    "### Creative task: invent your own matrix norm and check that it satisfies three norm requirements"
   ]
  },
  {
   "cell_type": "markdown",
   "id": "a2fa2a31",
   "metadata": {},
   "source": [
    "$\\Vert \\cdot \\Vert$ is called a **matrix norm** if it is a vector norm on the vector space of $n \\times m$ matrices and:\n",
    "\n",
    "$\\|A\\| \\geq 0$ and if $\\|A\\| = 0$ then $A = O$\n",
    " \n",
    "$\\|\\alpha A\\| = |\\alpha| \\|A\\|$\n",
    " \n",
    "$\\|A+B\\| \\leq \\|A\\| + \\|B\\|$ (triangle inequality)\n",
    "\n",
    "\n",
    "Additionally some norms can satisfy the *submultiplicative property*:\n",
    "$\\Vert A B \\Vert \\leq \\Vert A \\Vert \\Vert B \\Vert$"
   ]
  },
  {
   "cell_type": "code",
   "execution_count": null,
   "id": "41cddfbc",
   "metadata": {},
   "outputs": [],
   "source": [
    "def super_norm(a):\n",
    "    \n",
    "    n,m = a.shape\n",
    "    sum = 0\n",
    "    for i in range(n):\n",
    "        sum += np.abs(a[i,i])\n",
    "    \n",
    "    return sum"
   ]
  },
  {
   "cell_type": "code",
   "execution_count": null,
   "id": "0c4d3dbb",
   "metadata": {},
   "outputs": [],
   "source": [
    "n, m = 50, 50"
   ]
  },
  {
   "cell_type": "markdown",
   "id": "123047eb",
   "metadata": {},
   "source": [
    "Now, lets check all requirements. **Attention!** If some conditions seem to not work, recall previous lecture to understand and fix the problem"
   ]
  },
  {
   "cell_type": "code",
   "execution_count": null,
   "id": "51d4e339",
   "metadata": {},
   "outputs": [],
   "source": [
    "is_nonnegative = True\n",
    "\n",
    "for i in range(42):\n",
    "    a = np.random.normal(size=(n,m))\n",
    "    \n",
    "    if super_norm(a) < 0:\n",
    "        is_nonnegative = False\n",
    "        \n",
    "print(\"is_nonnegative: \", is_nonnegative)"
   ]
  },
  {
   "cell_type": "code",
   "execution_count": null,
   "id": "de8b154e",
   "metadata": {},
   "outputs": [],
   "source": [
    "respects_zero = True\n",
    "\n",
    "a = np.zeros((n,m))\n",
    "\n",
    "if super_norm(a) != 0:\n",
    "    respects_zero = False\n",
    "    \n",
    "print(\"respects_zero: \", respects_zero)"
   ]
  },
  {
   "cell_type": "code",
   "execution_count": null,
   "id": "c597d969",
   "metadata": {},
   "outputs": [],
   "source": [
    "respects_scalar_mult = True\n",
    "\n",
    "for i in range(42):\n",
    "    a = np.random.normal(size=(n,m))\n",
    "    alpha = np.abs(np.random.normal())\n",
    "    \n",
    "    if np.abs(super_norm(alpha * a) - alpha * super_norm(a)) > 0.001:\n",
    "        respects_scalar_mult = False\n",
    "        \n",
    "print(\"respects_scalar_mult: \", respects_scalar_mult)"
   ]
  },
  {
   "cell_type": "code",
   "execution_count": null,
   "id": "69c4a192",
   "metadata": {},
   "outputs": [],
   "source": [
    "triangle_inequality = True\n",
    "\n",
    "for i in range(42):\n",
    "    a = np.random.normal(size=(n,m))\n",
    "    b = np.random.normal(size=(n,m))\n",
    "    \n",
    "    if super_norm(a + b) > super_norm(a) + super_norm(b):\n",
    "        triangle_inequality = False\n",
    "        \n",
    "print(\"triangle_inequality: \", triangle_inequality)"
   ]
  },
  {
   "cell_type": "code",
   "execution_count": null,
   "id": "419db1df",
   "metadata": {},
   "outputs": [],
   "source": [
    "# Not required to be a norm\n",
    "\n",
    "is_submultiplicative = True\n",
    "\n",
    "for i in range(42):\n",
    "    a = np.random.normal(size=(n,m))\n",
    "    b = np.random.normal(size=(n,m))\n",
    "    \n",
    "    if super_norm(np.matmul(a, b)) > super_norm(a) * super_norm(b):\n",
    "        is_submultiplicative = False\n",
    "        \n",
    "print(\"is_submultiplicative: \", is_submultiplicative)"
   ]
  },
  {
   "cell_type": "markdown",
   "id": "f937c87a",
   "metadata": {},
   "source": [
    "## Householder Martices"
   ]
  },
  {
   "cell_type": "markdown",
   "id": "364e8044",
   "metadata": {},
   "source": [
    "Householder matrix is the matrix of the form:\n",
    "$$H \\equiv H(v) = I - 2 vv^*,$$\n",
    "where $v$ is an $n \\times 1$ column and $v^* v = 1$.\n",
    "\n",
    "It is also a reflection:\n",
    "$$ Hx = x - 2(v^* x) v$$\n",
    "\n",
    "**Attention!** If it does not work, remember about vector norm "
   ]
  },
  {
   "cell_type": "markdown",
   "id": "6595d5f4",
   "metadata": {},
   "source": [
    "## Build your own from a vector"
   ]
  },
  {
   "cell_type": "code",
   "execution_count": null,
   "id": "278de681",
   "metadata": {},
   "outputs": [],
   "source": [
    "def build_householder(v):\n",
    "    # v - vector of size n\n",
    "    v = v/np.linalg.norm(v)\n",
    "    a = np.identity(v.size)\n",
    "    \n",
    "    H = a - 2*np.outer(v, v)\n",
    "    \n",
    "    return H"
   ]
  },
  {
   "cell_type": "code",
   "execution_count": null,
   "id": "54927e5b",
   "metadata": {},
   "outputs": [],
   "source": [
    "v = np.random.normal(size=(3))\n",
    "print(v)\n",
    "h = build_householder(v)\n",
    "print(h)"
   ]
  },
  {
   "cell_type": "markdown",
   "id": "22e57ff1",
   "metadata": {},
   "source": [
    "## See how it reflects vectors"
   ]
  },
  {
   "cell_type": "code",
   "execution_count": null,
   "id": "0f68084d",
   "metadata": {},
   "outputs": [],
   "source": [
    "v = np.random.normal(size=(3))\n",
    "h = build_householder(v)\n",
    "\n",
    "x = np.random.normal(size=(3))\n",
    "print(x)\n",
    "print(np.matmul(h, x))"
   ]
  },
  {
   "cell_type": "code",
   "execution_count": null,
   "id": "7c182295",
   "metadata": {},
   "outputs": [],
   "source": [
    "v = np.array([0,  1,  -1])\n",
    "h = build_householder(v)\n",
    "x = np.array([0,  1,  0])\n",
    "print(np.round(h , decimals=2))\n",
    "print(x)\n",
    "print(np.round(h @ x.T, decimals=2))"
   ]
  },
  {
   "cell_type": "markdown",
   "id": "05726fe5",
   "metadata": {},
   "source": [
    "## Optional: check that it indeed is also a reflection\n",
    "$$ Hx = x - 2(v^* x) v$$"
   ]
  },
  {
   "cell_type": "code",
   "execution_count": null,
   "id": "7cf90ed0",
   "metadata": {},
   "outputs": [],
   "source": [
    "v = np.random.normal(size=(3))\n",
    "v = v/np.linalg.norm(v)\n",
    "h = build_householder(v)\n",
    "\n",
    "x = np.random.normal(size=(3))\n",
    "\n",
    "v = np.array([0,  1,  -1])\n",
    "v = v/np.linalg.norm(v)\n",
    "h = build_householder(v)\n",
    "x = np.array([0,  1,  0])\n",
    "\n",
    "hx = h @ x.T\n",
    "\n",
    "reflected =  x - 2 * np.dot(v.T,x) * v\n",
    "\n",
    "print(\"initial vector: \", x)\n",
    "print(\"transofrmed by matrix: \", hx)\n",
    "print(\"reflected by vector: \", reflected)"
   ]
  },
  {
   "cell_type": "markdown",
   "id": "e91fff1c",
   "metadata": {},
   "source": [
    "## Check unitarity\n",
    "### Use numpy tools to check if the matrix is unitary using formula U* x U = I"
   ]
  },
  {
   "cell_type": "code",
   "execution_count": null,
   "id": "fe28349f",
   "metadata": {},
   "outputs": [],
   "source": [
    "n = 3"
   ]
  },
  {
   "cell_type": "code",
   "execution_count": null,
   "id": "47ec95a7",
   "metadata": {},
   "outputs": [],
   "source": [
    "v = np.random.normal(size=(n))\n",
    "h = build_householder(v)\n",
    "\n",
    "print(np.round(h @ h, decimals=2))"
   ]
  },
  {
   "cell_type": "code",
   "execution_count": null,
   "id": "896e9bfc",
   "metadata": {},
   "outputs": [],
   "source": [
    "def householder_transform(A):\n",
    "    \"\"\"\n",
    "    Transforms the matrix A into an upper triangular matrix using Householder reflections.\n",
    "    \n",
    "    Parameters:\n",
    "        A (numpy.ndarray): The matrix to be transformed.\n",
    "    \n",
    "    Returns:\n",
    "        R (numpy.ndarray): The upper triangular matrix after applying Householder transformations.\n",
    "    \"\"\"\n",
    "    A = A.copy()\n",
    "    m, n = A.shape\n",
    "    for j in range(min(m, n)):\n",
    "        # Create the vector x for the current column\n",
    "        x = A[j:, j]\n",
    "        \n",
    "        # Calculate the norm of x and the Householder vector v\n",
    "        norm_x = np.linalg.norm(x)\n",
    "        if norm_x == 0:\n",
    "            continue\n",
    "        sign = -1 if x[0] < 0 else 1\n",
    "        v = x.copy()\n",
    "        v[0] += sign * norm_x  # Adjust the first element of v for the reflection\n",
    "        v /= np.linalg.norm(v)  # Normalize v\n",
    "        \n",
    "        # Apply the Householder transformation to A[j:, j:]\n",
    "        A[j:, j:] -= 2 * np.outer(v, v @ A[j:, j:])\n",
    "    \n",
    "    return A\n",
    "\n",
    "# Example matrix\n",
    "A = np.array([\n",
    "    [4, 1, -2, 2],\n",
    "    [1, 2, 0, 1],\n",
    "    [-2, 0, 3, -2],\n",
    "    [2, 1, -2, -1]\n",
    "], dtype=float)\n",
    "\n",
    "R = householder_transform(A)\n",
    "print(\"Upper triangular matrix R:\\n\", R)"
   ]
  },
  {
   "cell_type": "markdown",
   "id": "569ded5b",
   "metadata": {},
   "source": [
    "### Bonus task: check that it also preserves the norm. You can check it for your own custom norm if you created one!\n",
    "$$ \\frac{\\Vert x - \\widehat{x} \\Vert}{\\Vert x \\Vert} \\leq \\varepsilon. $$\n",
    "\n",
    "$$ \\frac{\\Vert y - \\widehat{y} \\Vert}{\\Vert y \\Vert } = \\frac{\\Vert U ( x - \\widehat{x}) \\Vert}{\\Vert U  x\\Vert}  \\leq \\varepsilon. $$"
   ]
  },
  {
   "cell_type": "code",
   "execution_count": null,
   "id": "7959c9a6",
   "metadata": {},
   "outputs": [],
   "source": [
    "v = np.random.normal(size=(n))\n",
    "v = v/np.linalg.norm(v)\n",
    "h = build_householder(v)\n",
    "epsilon = 0.001\n",
    "\n",
    "x = np.random.normal(size=(n))\n",
    "x_hat = x + epsilon * np.random.normal(size=(n)) # approximaton of x\n",
    "y = x - x_hat                                    # error of approximation\n",
    "\n",
    "initial_error = np.linalg.norm(y)/np.linalg.norm(x)\n",
    "transformed_error = np.linalg.norm(h @ y.T)/np.linalg.norm(h @ x.T)\n",
    "        \n",
    "print(\"initial error:     \", initial_error)\n",
    "print(\"transformed error: \", transformed_error)"
   ]
  },
  {
   "cell_type": "code",
   "execution_count": null,
   "id": "a26354a2",
   "metadata": {},
   "outputs": [],
   "source": []
  }
 ],
 "metadata": {
  "kernelspec": {
   "display_name": "Python 3 (ipykernel)",
   "language": "python",
   "name": "python3"
  },
  "language_info": {
   "codemirror_mode": {
    "name": "ipython",
    "version": 3
   },
   "file_extension": ".py",
   "mimetype": "text/x-python",
   "name": "python",
   "nbconvert_exporter": "python",
   "pygments_lexer": "ipython3",
   "version": "3.9.12"
  }
 },
 "nbformat": 4,
 "nbformat_minor": 5
}
