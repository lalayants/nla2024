{
 "cells": [
  {
   "cell_type": "code",
   "execution_count": null,
   "id": "6dd8d0f3",
   "metadata": {
    "executionInfo": {
     "elapsed": 2952,
     "status": "ok",
     "timestamp": 1732788857130,
     "user": {
      "displayName": "Alexander Zubrey",
      "userId": "16586084463516970531"
     },
     "user_tz": -180
    },
    "id": "6dd8d0f3"
   },
   "outputs": [],
   "source": [
    "import numpy as np\n",
    "import scipy.sparse\n",
    "import matplotlib.pyplot as plt\n",
    "from tqdm import tqdm\n",
    "import time\n",
    "from sklearn.utils.extmath import randomized_svd"
   ]
  },
  {
   "cell_type": "markdown",
   "id": "uYX0taLKOsII",
   "metadata": {
    "id": "uYX0taLKOsII"
   },
   "source": [
    "# Eckart-Young theorem\n",
    "\n",
    "The best low-rank approximation can be computed by SVD.\n",
    "\n",
    "**Theorem:** Let $r < \\text{rank}(A)$, $A_r = U_r \\Sigma_r V_r^*$. Then\n",
    "\n",
    "$$ \\min_{\\text{rank}(B)=r} \\|A - B\\|_2 = \\|A - A_r\\|_2 = \\sigma_{r+1}. $$\n",
    "\n",
    "The same holds for $\\|\\cdot\\|_F$, but $\\|A - A_r\\|_F = \\sqrt{\\sigma_{r+1}^2 + \\dots + \\sigma_{\\min (n,m)}^2}$.\n",
    "\n"
   ]
  },
  {
   "cell_type": "markdown",
   "id": "5nOjzSuQO1xO",
   "metadata": {
    "id": "5nOjzSuQO1xO"
   },
   "source": [
    "## Low-rank and sparse decomposition\n",
    "\n",
    "$A_r = U_r \\Sigma_r V_r^*$\n",
    "$S = A - A_r$\n",
    "$Ax = A_r x + Sx = U_r \\Sigma_r V_r^*x + Sx$\n",
    "\n",
    "For $A: n \\times n$ and rank truncation $r<n$:\n",
    "\n",
    "Complexity of $Ax$: $\\mathcal{O}(n^2)$\n",
    "\n",
    "Complexity of $A_rx$: $\\mathcal{O}(nr)$\n",
    "\n",
    "Complexity of $Sx$: $\\mathcal{O}(nnz(S))$"
   ]
  },
  {
   "cell_type": "markdown",
   "id": "DF1PghKlP-6M",
   "metadata": {
    "id": "DF1PghKlP-6M"
   },
   "source": [
    "It becomes effective with:\n",
    "\n",
    " $r<<n$\n",
    "\n",
    " $nnz(S)<<n^2$"
   ]
  },
  {
   "cell_type": "code",
   "execution_count": null,
   "id": "3f06ca38",
   "metadata": {
    "executionInfo": {
     "elapsed": 223,
     "status": "ok",
     "timestamp": 1732788859968,
     "user": {
      "displayName": "Alexander Zubrey",
      "userId": "16586084463516970531"
     },
     "user_tz": -180
    },
    "id": "3f06ca38"
   },
   "outputs": [],
   "source": [
    "def decompose_matrix_with_sparse_correction_optimized(A, rank, threshold=1e-3):\n",
    "    U, sigma, Vt = randomized_svd(A, n_components=rank, n_iter=5, random_state=None)\n",
    "    U_r = U[:, :rank]\n",
    "    Sigma_r = sigma[:rank]\n",
    "    Vt_r = Vt[:rank, :]\n",
    "    B = (U_r * Sigma_r) @ Vt_r\n",
    "    S_dense = A - B\n",
    "    S_dense[np.abs(S_dense) < threshold] = 0\n",
    "    S_sparse = scipy.sparse.csr_matrix(S_dense)\n",
    "    return U_r, Sigma_r, Vt_r, S_sparse\n",
    "\n",
    "def optimized_multiply(U, Sigma, Vt, S, x):\n",
    "    temp = Vt @ x\n",
    "    temp = Sigma * temp\n",
    "    Bx = U @ temp\n",
    "    Sx = S @ x\n",
    "    return Bx + Sx"
   ]
  },
  {
   "cell_type": "code",
   "execution_count": null,
   "id": "4457cc31",
   "metadata": {
    "executionInfo": {
     "elapsed": 228,
     "status": "ok",
     "timestamp": 1732789113843,
     "user": {
      "displayName": "Alexander Zubrey",
      "userId": "16586084463516970531"
     },
     "user_tz": -180
    },
    "id": "4457cc31"
   },
   "outputs": [],
   "source": [
    "# Parameters\n",
    "sizes = np.arange(200, 4000, 200)\n",
    "threshold = 0.6\n",
    "max_rank = 0.05"
   ]
  },
  {
   "cell_type": "code",
   "execution_count": null,
   "id": "b5fbdb3b",
   "metadata": {
    "executionInfo": {
     "elapsed": 2,
     "status": "ok",
     "timestamp": 1732789114610,
     "user": {
      "displayName": "Alexander Zubrey",
      "userId": "16586084463516970531"
     },
     "user_tz": -180
    },
    "id": "b5fbdb3b"
   },
   "outputs": [],
   "source": [
    "mses = []\n",
    "exact_times = []\n",
    "approx_times = []\n",
    "svd_times = []"
   ]
  },
  {
   "cell_type": "code",
   "execution_count": null,
   "id": "ade1208b",
   "metadata": {
    "colab": {
     "base_uri": "https://localhost:8080/"
    },
    "executionInfo": {
     "elapsed": 92014,
     "status": "ok",
     "timestamp": 1732789207322,
     "user": {
      "displayName": "Alexander Zubrey",
      "userId": "16586084463516970531"
     },
     "user_tz": -180
    },
    "id": "ade1208b",
    "outputId": "4f736b18-f7d5-40da-a2fa-4e024ed7175b"
   },
   "outputs": [],
   "source": [
    "for i, n in enumerate(sizes):\n",
    "    A = np.random.rand(n, n)\n",
    "    x = np.random.rand(n)\n",
    "    rank = int(n*max_rank)\n",
    "    start_time = time.time()\n",
    "    U_r, Sigma_r, Vt_r, S_sparse = decompose_matrix_with_sparse_correction_optimized(A, rank, threshold)\n",
    "\n",
    "    svd_times.append(time.time() - start_time)\n",
    "\n",
    "    # Measure time for exact multiplication\n",
    "    start_time = time.time()\n",
    "    exact_result = A @ x\n",
    "    exact_times.append(time.time() - start_time)\n",
    "\n",
    "    # Measure time for decomposition-based multiplication\n",
    "    start_time = time.time()\n",
    "    approx_result = optimized_multiply(U_r, Sigma_r, Vt_r, S_sparse, x)\n",
    "    approx_times.append(time.time() - start_time)\n",
    "\n",
    "    mse = np.mean(((exact_result - approx_result)/exact_result) ** 2)\n",
    "    mses.append(mse)\n",
    "\n",
    "    print(\"Step \", i, \"of\", len(sizes),\" sparsity: \", S_sparse.nnz/n/n)"
   ]
  },
  {
   "cell_type": "code",
   "execution_count": null,
   "id": "3e791a7f",
   "metadata": {
    "colab": {
     "base_uri": "https://localhost:8080/",
     "height": 607
    },
    "executionInfo": {
     "elapsed": 1412,
     "status": "ok",
     "timestamp": 1732789218015,
     "user": {
      "displayName": "Alexander Zubrey",
      "userId": "16586084463516970531"
     },
     "user_tz": -180
    },
    "id": "3e791a7f",
    "outputId": "fdd9c09f-4cdd-49aa-b2b1-910f8c1850ac"
   },
   "outputs": [],
   "source": [
    "plt.figure(figsize=(14, 6))\n",
    "\n",
    "plt.subplot(1, 2, 1)\n",
    "plt.plot(sizes, mses, marker='o', label=\"MSE vs Rank\")\n",
    "plt.xlabel(\"Size\")\n",
    "plt.ylabel(\"Mean Squared Error (MSE)\")\n",
    "plt.title(\"MSE Growth as Size Grows\")\n",
    "plt.grid(True)\n",
    "plt.legend()\n",
    "\n",
    "# Plot Time Comparison\n",
    "plt.subplot(1, 2, 2)\n",
    "plt.plot(sizes, exact_times, label=\"Exact Multiplication Time\", marker='o')\n",
    "plt.plot(sizes, approx_times, label=\"Approximate Multiplication Time\", marker='x')\n",
    "#plt.plot(sizes, svd_times, label=\"SVD Time\", marker='o')\n",
    "plt.xlabel(\"Size\")\n",
    "plt.ylabel(\"Time (seconds)\")\n",
    "plt.title(\"Time Comparison: Exact vs Approximate Multiplication\")\n",
    "plt.grid(True)\n",
    "plt.legend()\n",
    "\n",
    "plt.tight_layout()\n",
    "plt.show()"
   ]
  },
  {
   "cell_type": "code",
   "execution_count": null,
   "id": "SyHlW4X30h84",
   "metadata": {
    "executionInfo": {
     "elapsed": 249,
     "status": "ok",
     "timestamp": 1732790822998,
     "user": {
      "displayName": "Alexander Zubrey",
      "userId": "16586084463516970531"
     },
     "user_tz": -180
    },
    "id": "SyHlW4X30h84"
   },
   "outputs": [],
   "source": [
    "n = 3000\n",
    "threshold = 0.5\n",
    "max_ranks = np.arange(0.0, 1.0, 0.05)"
   ]
  },
  {
   "cell_type": "code",
   "execution_count": null,
   "id": "hZzmW1nB0koG",
   "metadata": {
    "executionInfo": {
     "elapsed": 2,
     "status": "ok",
     "timestamp": 1732790823951,
     "user": {
      "displayName": "Alexander Zubrey",
      "userId": "16586084463516970531"
     },
     "user_tz": -180
    },
    "id": "hZzmW1nB0koG"
   },
   "outputs": [],
   "source": [
    "mses = []\n",
    "approx_times = []\n",
    "svd_times = []"
   ]
  },
  {
   "cell_type": "code",
   "execution_count": null,
   "id": "2A_WAfKP0moo",
   "metadata": {
    "colab": {
     "base_uri": "https://localhost:8080/"
    },
    "executionInfo": {
     "elapsed": 94180,
     "status": "ok",
     "timestamp": 1732790918414,
     "user": {
      "displayName": "Alexander Zubrey",
      "userId": "16586084463516970531"
     },
     "user_tz": -180
    },
    "id": "2A_WAfKP0moo",
    "outputId": "75101429-d8bc-4061-b946-61ae14437830"
   },
   "outputs": [],
   "source": [
    "A = np.random.rand(n, n)\n",
    "x = np.random.rand(n)\n",
    "start_time = time.time()\n",
    "exact_result = A @ x\n",
    "exact_time = time.time() - start_time\n",
    "\n",
    "U, Sigma, Vt, S = decompose_matrix_with_sparse_correction_optimized(A, n, 0)\n",
    "\n",
    "\n",
    "\n",
    "for i, max_rank in enumerate(max_ranks):\n",
    "    rank = max(int(n*max_rank), 1)\n",
    "    U_r = U[:, :rank]\n",
    "    Sigma_r = Sigma[:rank]\n",
    "    Vt_r = Vt[:rank, :]\n",
    "    B = (U_r * Sigma_r) @ Vt_r\n",
    "    S_dense = A - B\n",
    "    S_dense[np.abs(S_dense) < threshold] = 0\n",
    "    S_sparse = scipy.sparse.csr_matrix(S_dense)\n",
    "\n",
    "    # Measure time for decomposition-based multiplication\n",
    "    start_time = time.time()\n",
    "    approx_result = optimized_multiply(U_r, Sigma_r, Vt_r, S_sparse, x)\n",
    "    approx_times.append(time.time() - start_time)\n",
    "\n",
    "    mse = np.mean(((exact_result - approx_result)/exact_result) ** 2)\n",
    "    mses.append(mse)\n",
    "\n",
    "    print(\"Step \", i, \"of\", len(max_ranks),\" sparsity: \", S_sparse.nnz/n/n)"
   ]
  },
  {
   "cell_type": "code",
   "execution_count": null,
   "id": "bb89420d",
   "metadata": {
    "colab": {
     "base_uri": "https://localhost:8080/",
     "height": 607
    },
    "executionInfo": {
     "elapsed": 1027,
     "status": "ok",
     "timestamp": 1732790934876,
     "user": {
      "displayName": "Alexander Zubrey",
      "userId": "16586084463516970531"
     },
     "user_tz": -180
    },
    "id": "bb89420d",
    "outputId": "96413bb7-4be6-48a4-d515-38009eb69f3e"
   },
   "outputs": [],
   "source": [
    "plt.figure(figsize=(14, 6))\n",
    "\n",
    "plt.subplot(1, 2, 1)\n",
    "plt.plot(max_ranks, mses, marker='o', label=\"MSE vs Rank\")\n",
    "plt.xlabel(\"Size\")\n",
    "plt.ylabel(\"Mean Squared Error (MSE)\")\n",
    "plt.title(\"MSE Growth as Rank is Reduced\")\n",
    "plt.grid(True)\n",
    "plt.legend()\n",
    "\n",
    "# Plot Time Comparison\n",
    "plt.subplot(1, 2, 2)\n",
    "plt.plot(max_ranks, np.ones(len(approx_times))*exact_time, label=\"Exact Multiplication Time\", marker='o')\n",
    "plt.plot(max_ranks, approx_times, label=\"Approximate Multiplication Time\", marker='x')\n",
    "#plt.plot(sizes, svd_times, label=\"SVD Time\", marker='o')\n",
    "plt.xlabel(\"Size\")\n",
    "plt.ylabel(\"Time (seconds)\")\n",
    "plt.title(\"Time Comparison: Exact vs Approximate Multiplication\")\n",
    "plt.grid(True)\n",
    "plt.legend()\n",
    "\n",
    "plt.tight_layout()\n",
    "plt.show()"
   ]
  },
  {
   "cell_type": "code",
   "execution_count": null,
   "id": "y1CN_OGOR-lg",
   "metadata": {
    "executionInfo": {
     "elapsed": 245,
     "status": "ok",
     "timestamp": 1732792381560,
     "user": {
      "displayName": "Alexander Zubrey",
      "userId": "16586084463516970531"
     },
     "user_tz": -180
    },
    "id": "y1CN_OGOR-lg"
   },
   "outputs": [],
   "source": [
    "n = 3200\n",
    "thresholds = np.arange(0.0, 1.0, 0.05)\n",
    "rank = 200"
   ]
  },
  {
   "cell_type": "code",
   "execution_count": null,
   "id": "edf9ed1d",
   "metadata": {
    "colab": {
     "base_uri": "https://localhost:8080/"
    },
    "executionInfo": {
     "elapsed": 15224,
     "status": "ok",
     "timestamp": 1732792397949,
     "user": {
      "displayName": "Alexander Zubrey",
      "userId": "16586084463516970531"
     },
     "user_tz": -180
    },
    "id": "edf9ed1d",
    "outputId": "a7e52815-81c7-4954-d516-f7cf0839ebd7"
   },
   "outputs": [],
   "source": [
    "mses = []\n",
    "approx_times = []\n",
    "svd_times = []\n",
    "\n",
    "A = np.random.rand(n, n)\n",
    "x = np.random.rand(n)\n",
    "start_time = time.time()\n",
    "exact_result = A @ x\n",
    "exact_time = time.time() - start_time\n",
    "U_r, Sigma_r, Vt_r, S = decompose_matrix_with_sparse_correction_optimized(A, rank, 0)\n",
    "\n",
    "for i, threshold in enumerate(thresholds):\n",
    "    S_sparse = S.toarray()\n",
    "    S_sparse[np.abs(S_sparse) < threshold] = 0\n",
    "    S_sparse = scipy.sparse.csr_matrix(S_sparse)\n",
    "\n",
    "\n",
    "    # Measure time for decomposition-based multiplication\n",
    "    start_time = time.time()\n",
    "    approx_result = optimized_multiply(U_r, Sigma_r, Vt_r, S_sparse, x)\n",
    "    approx_times.append(time.time() - start_time)\n",
    "\n",
    "    mse = np.mean(((exact_result - approx_result)/exact_result) ** 2)\n",
    "    mses.append(mse)\n",
    "\n",
    "    print(\"Step \", i, \"of\", len(max_ranks),\" sparsity: \", S_sparse.nnz/n/n)"
   ]
  },
  {
   "cell_type": "code",
   "execution_count": null,
   "id": "qX6kadsFUNDx",
   "metadata": {
    "colab": {
     "base_uri": "https://localhost:8080/",
     "height": 607
    },
    "executionInfo": {
     "elapsed": 1079,
     "status": "ok",
     "timestamp": 1732792403888,
     "user": {
      "displayName": "Alexander Zubrey",
      "userId": "16586084463516970531"
     },
     "user_tz": -180
    },
    "id": "qX6kadsFUNDx",
    "outputId": "e1c0471f-eec2-4595-84e7-3af20239e829"
   },
   "outputs": [],
   "source": [
    "plt.figure(figsize=(14, 6))\n",
    "\n",
    "plt.subplot(1, 2, 1)\n",
    "plt.plot(thresholds, mses, marker='o', label=\"MSE vs Rank\")\n",
    "plt.xlabel(\"Size\")\n",
    "plt.ylabel(\"Mean Squared Error (MSE)\")\n",
    "plt.title(\"MSE Growth as Density is Reduced\")\n",
    "plt.grid(True)\n",
    "plt.legend()\n",
    "\n",
    "# Plot Time Comparison\n",
    "plt.subplot(1, 2, 2)\n",
    "plt.plot(thresholds, np.ones(len(approx_times))*exact_time, label=\"Exact Multiplication Time\", marker='o')\n",
    "plt.plot(thresholds, approx_times, label=\"Approximate Multiplication Time\", marker='x')\n",
    "#plt.plot(sizes, svd_times, label=\"SVD Time\", marker='o')\n",
    "plt.xlabel(\"Size\")\n",
    "plt.ylabel(\"Time (seconds)\")\n",
    "plt.title(\"Time Comparison: Exact vs Approximate Multiplication\")\n",
    "plt.grid(True)\n",
    "plt.legend()\n",
    "\n",
    "plt.tight_layout()\n",
    "plt.show()"
   ]
  },
  {
   "cell_type": "code",
   "execution_count": null,
   "id": "p2BO61MNeYtS",
   "metadata": {
    "colab": {
     "base_uri": "https://localhost:8080/"
    },
    "executionInfo": {
     "elapsed": 10337,
     "status": "ok",
     "timestamp": 1732792438329,
     "user": {
      "displayName": "Alexander Zubrey",
      "userId": "16586084463516970531"
     },
     "user_tz": -180
    },
    "id": "p2BO61MNeYtS",
    "outputId": "4f82b698-8845-4716-b953-e5d44c768042"
   },
   "outputs": [],
   "source": [
    "mses = []\n",
    "approx_times = []\n",
    "svd_times = []\n",
    "\n",
    "A = np.random.rand(n, n)\n",
    "x = np.random.rand(n)\n",
    "start_time = time.time()\n",
    "exact_result = A @ x\n",
    "exact_time = time.time() - start_time\n",
    "U_r, Sigma_r, Vt_r, S = decompose_matrix_with_sparse_correction_optimized(A, rank, 0)\n",
    "\n",
    "for i, threshold in enumerate(thresholds):\n",
    "    S_sparse = S.toarray()\n",
    "    S_sparse[np.abs(S_sparse) < threshold] = 0\n",
    "    #S_sparse = scipy.sparse.csr_matrix(S_sparse)\n",
    "\n",
    "\n",
    "    # Measure time for decomposition-based multiplication\n",
    "    start_time = time.time()\n",
    "    approx_result = optimized_multiply(U_r, Sigma_r, Vt_r, S_sparse, x)\n",
    "    approx_times.append(time.time() - start_time)\n",
    "\n",
    "    mse = np.mean(((exact_result - approx_result)/exact_result) ** 2)\n",
    "    mses.append(mse)\n",
    "\n",
    "    print(\"Step \", i, \"of\", len(max_ranks))"
   ]
  },
  {
   "cell_type": "code",
   "execution_count": null,
   "id": "eo9-va4HedMn",
   "metadata": {
    "colab": {
     "base_uri": "https://localhost:8080/",
     "height": 607
    },
    "executionInfo": {
     "elapsed": 1558,
     "status": "ok",
     "timestamp": 1732792439884,
     "user": {
      "displayName": "Alexander Zubrey",
      "userId": "16586084463516970531"
     },
     "user_tz": -180
    },
    "id": "eo9-va4HedMn",
    "outputId": "e475f8d1-1a14-4637-8d5b-4ae986535f52"
   },
   "outputs": [],
   "source": [
    "plt.figure(figsize=(14, 6))\n",
    "\n",
    "plt.subplot(1, 2, 1)\n",
    "plt.plot(thresholds, mses, marker='o', label=\"MSE vs Rank\")\n",
    "plt.xlabel(\"Size\")\n",
    "plt.ylabel(\"Mean Squared Error (MSE)\")\n",
    "plt.title(\"MSE Growth as Density is Reduced\")\n",
    "plt.grid(True)\n",
    "plt.legend()\n",
    "\n",
    "# Plot Time Comparison\n",
    "plt.subplot(1, 2, 2)\n",
    "plt.plot(thresholds, np.ones(len(approx_times))*exact_time, label=\"Exact Multiplication Time\", marker='o')\n",
    "plt.plot(thresholds, approx_times, label=\"Approximate Multiplication Time\", marker='x')\n",
    "#plt.plot(sizes, svd_times, label=\"SVD Time\", marker='o')\n",
    "plt.xlabel(\"Size\")\n",
    "plt.ylabel(\"Time (seconds)\")\n",
    "plt.title(\"Time Comparison: Exact vs Approximate Multiplication\")\n",
    "plt.grid(True)\n",
    "plt.legend()\n",
    "\n",
    "plt.tight_layout()\n",
    "plt.show()"
   ]
  }
 ],
 "metadata": {
  "colab": {
   "provenance": []
  },
  "kernelspec": {
   "display_name": "pupa",
   "language": "python",
   "name": "python3"
  },
  "language_info": {
   "codemirror_mode": {
    "name": "ipython",
    "version": 3
   },
   "file_extension": ".py",
   "mimetype": "text/x-python",
   "name": "python",
   "nbconvert_exporter": "python",
   "pygments_lexer": "ipython3",
   "version": "3.11.9"
  }
 },
 "nbformat": 4,
 "nbformat_minor": 5
}
